{
 "cells": [
  {
   "cell_type": "markdown",
   "metadata": {},
   "source": [
    "# 03. Archivos NetCDF con xarray\n",
    "### Mini-curso de Introducción a la programación científica\n",
    "#### Oceanografía Física, CICESE\n",
    "22 de septiembre de 2025\n",
    "\n",
    "## Archivos NetCDF y xarray\n",
    "En este notebook aprenderemos qué son los archivos en formato netCDF con ayuda de la librería ``xarray`` y cómo manipular los datos. Esta breve introducción a netCDF y xarray es una versión traducida (y algo modificada) de los tres tutoriales de fundamentos de xarray de [Anderson Banihirwe](https://github.com/andersy005) que pueden encontrar aqui: https://github.com/xarray-contrib/xarray-tutorial/blob/master/online-tutorial-series. Hay un video (en inglés) en donde desarrollan este material: https://youtu.be/a339Q5F48UQ. Hay varios tutoriales de esta serie que les invito a explorar.\n",
    "\n",
    "### Formato NetCDF\n",
    "En Oceanografía y en Ciencias de la Tierra en general es muy común lidiar con estructuras de datos de muchas dimensiones (generalmente 3 espaciales + 1 temporal) como el estado del océano, la atmósfera, el interior de un planeta, etc. Es impráctico guardar estos datos en archivos de texto (como los .csv o .txt) porque necesitaríamos mucha capacidad de memoria para guardarlos, leerlos y procesarlos. Una de las mejores herramientas para manipular datos multidimensionales son los [netCDF](https://www.unidata.ucar.edu/software/netcdf/docs/faq.html#whatisit). Estos archivos almacenan datos en formato HDF (Hierarchical Data Format).\n",
    "\n",
    "La estructura netCDF nos permite tener ``variables`` (los datos, por ejemplo, temperaturas de un modelo), ``dimensiones`` (variables especiales que nos ayudan a dar estructura a los datos, como tiempo, latitud, longitud, etc.) y ``atributos`` (información acerca de las variables).\n",
    "\n",
    "En esta sección aprenderemos a leer y escribir datos netCDF pero antes de eso necesitamos instalar los paquetes `xarray` y `netcdf4` de python. Hay otras formas de leer y manipular archivos netCDF usando la biblioteca netcdf4, pero hoy aprenderemos como hacerlo usando `xarray`.\n",
    "\n",
    "Ve a la terminal y escribe los siguientes comandos:\n",
    "\n",
    "`conda install -c anaconda netcdf4 `\n",
    "\n",
    "`conda install -c anaconda xarray `\n",
    "\n",
    "> Nota: cambia por conda por mamba si instalaste minimamba\n",
    "\n",
    "Cuando haya terminado la instalación continúa con la sección."
   ]
  },
  {
   "cell_type": "markdown",
   "metadata": {},
   "source": [
    "### ¿Qué es xarray?\n",
    "\n",
    "Los arreglos N-dimensionales de números son las estructuras de datos más comúnes en el cómputo científico (Ej: arreglos de numpy), pero carecen de una forma útil de asociarles metadatos (la información adicional acerca de los datos las coordenadas, cuándo se crearon, quién los creó, etc). Asociar metadatos y datos usualmente depende del individuo o del paquete de software específico que se use. Aquí entra `xarray`.\n",
    "\n",
    "`xarray` expande las capacidades de los arreglos de NumPy y nos brinda un montón de facilidades para manipular datos.\n",
    "\n",
    "La manera de interactuar con `xarray` esta basada en el modelo de datos de los archivos netCDF (variables, atributos y dimensiones).\n",
    "\n",
    "`xarray` tiene dos estructuras fundamentales de datos:\n",
    "    \n",
    "   * `DataArray`, el \"arreglo de datos\" que contiene una sola variable multidimensional y a sus coordenadas,\n",
    "   * `Dataset`, el \"conjunto de datos\" que contiene multiples variables que potencialmente comparten las mismas coordenadas\n",
    "\n",
    "\n",
    "![data structures](imagenes/xarray-data-structures.png)\n",
    "\n",
    "Imagen de (https://github.com/xarray-contrib/xarray-tutorial/blob/master/online-tutorial-series/01_xarray_fundamentals.ipynb)\n"
   ]
  },
  {
   "cell_type": "markdown",
   "metadata": {},
   "source": [
    "### ¿Cómo cargar datos NetCDF usando xarray?"
   ]
  },
  {
   "cell_type": "code",
   "execution_count": 1,
   "metadata": {},
   "outputs": [],
   "source": [
    "# importar xarray como xr. El nombre corto \"xr\" es solo una convención.\n",
    "import xarray as xr "
   ]
  },
  {
   "cell_type": "code",
   "execution_count": 2,
   "metadata": {},
   "outputs": [
    {
     "data": {
      "text/html": [
       "<div><svg style=\"position: absolute; width: 0; height: 0; overflow: hidden\">\n",
       "<defs>\n",
       "<symbol id=\"icon-database\" viewBox=\"0 0 32 32\">\n",
       "<path d=\"M16 0c-8.837 0-16 2.239-16 5v4c0 2.761 7.163 5 16 5s16-2.239 16-5v-4c0-2.761-7.163-5-16-5z\"></path>\n",
       "<path d=\"M16 17c-8.837 0-16-2.239-16-5v6c0 2.761 7.163 5 16 5s16-2.239 16-5v-6c0 2.761-7.163 5-16 5z\"></path>\n",
       "<path d=\"M16 26c-8.837 0-16-2.239-16-5v6c0 2.761 7.163 5 16 5s16-2.239 16-5v-6c0 2.761-7.163 5-16 5z\"></path>\n",
       "</symbol>\n",
       "<symbol id=\"icon-file-text2\" viewBox=\"0 0 32 32\">\n",
       "<path d=\"M28.681 7.159c-0.694-0.947-1.662-2.053-2.724-3.116s-2.169-2.030-3.116-2.724c-1.612-1.182-2.393-1.319-2.841-1.319h-15.5c-1.378 0-2.5 1.121-2.5 2.5v27c0 1.378 1.122 2.5 2.5 2.5h23c1.378 0 2.5-1.122 2.5-2.5v-19.5c0-0.448-0.137-1.23-1.319-2.841zM24.543 5.457c0.959 0.959 1.712 1.825 2.268 2.543h-4.811v-4.811c0.718 0.556 1.584 1.309 2.543 2.268zM28 29.5c0 0.271-0.229 0.5-0.5 0.5h-23c-0.271 0-0.5-0.229-0.5-0.5v-27c0-0.271 0.229-0.5 0.5-0.5 0 0 15.499-0 15.5 0v7c0 0.552 0.448 1 1 1h7v19.5z\"></path>\n",
       "<path d=\"M23 26h-14c-0.552 0-1-0.448-1-1s0.448-1 1-1h14c0.552 0 1 0.448 1 1s-0.448 1-1 1z\"></path>\n",
       "<path d=\"M23 22h-14c-0.552 0-1-0.448-1-1s0.448-1 1-1h14c0.552 0 1 0.448 1 1s-0.448 1-1 1z\"></path>\n",
       "<path d=\"M23 18h-14c-0.552 0-1-0.448-1-1s0.448-1 1-1h14c0.552 0 1 0.448 1 1s-0.448 1-1 1z\"></path>\n",
       "</symbol>\n",
       "</defs>\n",
       "</svg>\n",
       "<style>/* CSS stylesheet for displaying xarray objects in jupyterlab.\n",
       " *\n",
       " */\n",
       "\n",
       ":root {\n",
       "  --xr-font-color0: var(\n",
       "    --jp-content-font-color0,\n",
       "    var(--pst-color-text-base rgba(0, 0, 0, 1))\n",
       "  );\n",
       "  --xr-font-color2: var(\n",
       "    --jp-content-font-color2,\n",
       "    var(--pst-color-text-base, rgba(0, 0, 0, 0.54))\n",
       "  );\n",
       "  --xr-font-color3: var(\n",
       "    --jp-content-font-color3,\n",
       "    var(--pst-color-text-base, rgba(0, 0, 0, 0.38))\n",
       "  );\n",
       "  --xr-border-color: var(\n",
       "    --jp-border-color2,\n",
       "    hsl(from var(--pst-color-on-background, white) h s calc(l - 10))\n",
       "  );\n",
       "  --xr-disabled-color: var(\n",
       "    --jp-layout-color3,\n",
       "    hsl(from var(--pst-color-on-background, white) h s calc(l - 40))\n",
       "  );\n",
       "  --xr-background-color: var(\n",
       "    --jp-layout-color0,\n",
       "    var(--pst-color-on-background, white)\n",
       "  );\n",
       "  --xr-background-color-row-even: var(\n",
       "    --jp-layout-color1,\n",
       "    hsl(from var(--pst-color-on-background, white) h s calc(l - 5))\n",
       "  );\n",
       "  --xr-background-color-row-odd: var(\n",
       "    --jp-layout-color2,\n",
       "    hsl(from var(--pst-color-on-background, white) h s calc(l - 15))\n",
       "  );\n",
       "}\n",
       "\n",
       "html[theme=\"dark\"],\n",
       "html[data-theme=\"dark\"],\n",
       "body[data-theme=\"dark\"],\n",
       "body.vscode-dark {\n",
       "  --xr-font-color0: var(\n",
       "    --jp-content-font-color0,\n",
       "    var(--pst-color-text-base, rgba(255, 255, 255, 1))\n",
       "  );\n",
       "  --xr-font-color2: var(\n",
       "    --jp-content-font-color2,\n",
       "    var(--pst-color-text-base, rgba(255, 255, 255, 0.54))\n",
       "  );\n",
       "  --xr-font-color3: var(\n",
       "    --jp-content-font-color3,\n",
       "    var(--pst-color-text-base, rgba(255, 255, 255, 0.38))\n",
       "  );\n",
       "  --xr-border-color: var(\n",
       "    --jp-border-color2,\n",
       "    hsl(from var(--pst-color-on-background, #111111) h s calc(l + 10))\n",
       "  );\n",
       "  --xr-disabled-color: var(\n",
       "    --jp-layout-color3,\n",
       "    hsl(from var(--pst-color-on-background, #111111) h s calc(l + 40))\n",
       "  );\n",
       "  --xr-background-color: var(\n",
       "    --jp-layout-color0,\n",
       "    var(--pst-color-on-background, #111111)\n",
       "  );\n",
       "  --xr-background-color-row-even: var(\n",
       "    --jp-layout-color1,\n",
       "    hsl(from var(--pst-color-on-background, #111111) h s calc(l + 5))\n",
       "  );\n",
       "  --xr-background-color-row-odd: var(\n",
       "    --jp-layout-color2,\n",
       "    hsl(from var(--pst-color-on-background, #111111) h s calc(l + 15))\n",
       "  );\n",
       "}\n",
       "\n",
       ".xr-wrap {\n",
       "  display: block !important;\n",
       "  min-width: 300px;\n",
       "  max-width: 700px;\n",
       "}\n",
       "\n",
       ".xr-text-repr-fallback {\n",
       "  /* fallback to plain text repr when CSS is not injected (untrusted notebook) */\n",
       "  display: none;\n",
       "}\n",
       "\n",
       ".xr-header {\n",
       "  padding-top: 6px;\n",
       "  padding-bottom: 6px;\n",
       "  margin-bottom: 4px;\n",
       "  border-bottom: solid 1px var(--xr-border-color);\n",
       "}\n",
       "\n",
       ".xr-header > div,\n",
       ".xr-header > ul {\n",
       "  display: inline;\n",
       "  margin-top: 0;\n",
       "  margin-bottom: 0;\n",
       "}\n",
       "\n",
       ".xr-obj-type,\n",
       ".xr-array-name {\n",
       "  margin-left: 2px;\n",
       "  margin-right: 10px;\n",
       "}\n",
       "\n",
       ".xr-obj-type {\n",
       "  color: var(--xr-font-color2);\n",
       "}\n",
       "\n",
       ".xr-sections {\n",
       "  padding-left: 0 !important;\n",
       "  display: grid;\n",
       "  grid-template-columns: 150px auto auto 1fr 0 20px 0 20px;\n",
       "}\n",
       "\n",
       ".xr-section-item {\n",
       "  display: contents;\n",
       "}\n",
       "\n",
       ".xr-section-item input {\n",
       "  display: inline-block;\n",
       "  opacity: 0;\n",
       "  height: 0;\n",
       "}\n",
       "\n",
       ".xr-section-item input + label {\n",
       "  color: var(--xr-disabled-color);\n",
       "  border: 2px solid transparent !important;\n",
       "}\n",
       "\n",
       ".xr-section-item input:enabled + label {\n",
       "  cursor: pointer;\n",
       "  color: var(--xr-font-color2);\n",
       "}\n",
       "\n",
       ".xr-section-item input:focus + label {\n",
       "  border: 2px solid var(--xr-font-color0) !important;\n",
       "}\n",
       "\n",
       ".xr-section-item input:enabled + label:hover {\n",
       "  color: var(--xr-font-color0);\n",
       "}\n",
       "\n",
       ".xr-section-summary {\n",
       "  grid-column: 1;\n",
       "  color: var(--xr-font-color2);\n",
       "  font-weight: 500;\n",
       "}\n",
       "\n",
       ".xr-section-summary > span {\n",
       "  display: inline-block;\n",
       "  padding-left: 0.5em;\n",
       "}\n",
       "\n",
       ".xr-section-summary-in:disabled + label {\n",
       "  color: var(--xr-font-color2);\n",
       "}\n",
       "\n",
       ".xr-section-summary-in + label:before {\n",
       "  display: inline-block;\n",
       "  content: \"►\";\n",
       "  font-size: 11px;\n",
       "  width: 15px;\n",
       "  text-align: center;\n",
       "}\n",
       "\n",
       ".xr-section-summary-in:disabled + label:before {\n",
       "  color: var(--xr-disabled-color);\n",
       "}\n",
       "\n",
       ".xr-section-summary-in:checked + label:before {\n",
       "  content: \"▼\";\n",
       "}\n",
       "\n",
       ".xr-section-summary-in:checked + label > span {\n",
       "  display: none;\n",
       "}\n",
       "\n",
       ".xr-section-summary,\n",
       ".xr-section-inline-details {\n",
       "  padding-top: 4px;\n",
       "  padding-bottom: 4px;\n",
       "}\n",
       "\n",
       ".xr-section-inline-details {\n",
       "  grid-column: 2 / -1;\n",
       "}\n",
       "\n",
       ".xr-section-details {\n",
       "  display: none;\n",
       "  grid-column: 1 / -1;\n",
       "  margin-bottom: 5px;\n",
       "}\n",
       "\n",
       ".xr-section-summary-in:checked ~ .xr-section-details {\n",
       "  display: contents;\n",
       "}\n",
       "\n",
       ".xr-array-wrap {\n",
       "  grid-column: 1 / -1;\n",
       "  display: grid;\n",
       "  grid-template-columns: 20px auto;\n",
       "}\n",
       "\n",
       ".xr-array-wrap > label {\n",
       "  grid-column: 1;\n",
       "  vertical-align: top;\n",
       "}\n",
       "\n",
       ".xr-preview {\n",
       "  color: var(--xr-font-color3);\n",
       "}\n",
       "\n",
       ".xr-array-preview,\n",
       ".xr-array-data {\n",
       "  padding: 0 5px !important;\n",
       "  grid-column: 2;\n",
       "}\n",
       "\n",
       ".xr-array-data,\n",
       ".xr-array-in:checked ~ .xr-array-preview {\n",
       "  display: none;\n",
       "}\n",
       "\n",
       ".xr-array-in:checked ~ .xr-array-data,\n",
       ".xr-array-preview {\n",
       "  display: inline-block;\n",
       "}\n",
       "\n",
       ".xr-dim-list {\n",
       "  display: inline-block !important;\n",
       "  list-style: none;\n",
       "  padding: 0 !important;\n",
       "  margin: 0;\n",
       "}\n",
       "\n",
       ".xr-dim-list li {\n",
       "  display: inline-block;\n",
       "  padding: 0;\n",
       "  margin: 0;\n",
       "}\n",
       "\n",
       ".xr-dim-list:before {\n",
       "  content: \"(\";\n",
       "}\n",
       "\n",
       ".xr-dim-list:after {\n",
       "  content: \")\";\n",
       "}\n",
       "\n",
       ".xr-dim-list li:not(:last-child):after {\n",
       "  content: \",\";\n",
       "  padding-right: 5px;\n",
       "}\n",
       "\n",
       ".xr-has-index {\n",
       "  font-weight: bold;\n",
       "}\n",
       "\n",
       ".xr-var-list,\n",
       ".xr-var-item {\n",
       "  display: contents;\n",
       "}\n",
       "\n",
       ".xr-var-item > div,\n",
       ".xr-var-item label,\n",
       ".xr-var-item > .xr-var-name span {\n",
       "  background-color: var(--xr-background-color-row-even);\n",
       "  border-color: var(--xr-background-color-row-odd);\n",
       "  margin-bottom: 0;\n",
       "  padding-top: 2px;\n",
       "}\n",
       "\n",
       ".xr-var-item > .xr-var-name:hover span {\n",
       "  padding-right: 5px;\n",
       "}\n",
       "\n",
       ".xr-var-list > li:nth-child(odd) > div,\n",
       ".xr-var-list > li:nth-child(odd) > label,\n",
       ".xr-var-list > li:nth-child(odd) > .xr-var-name span {\n",
       "  background-color: var(--xr-background-color-row-odd);\n",
       "  border-color: var(--xr-background-color-row-even);\n",
       "}\n",
       "\n",
       ".xr-var-name {\n",
       "  grid-column: 1;\n",
       "}\n",
       "\n",
       ".xr-var-dims {\n",
       "  grid-column: 2;\n",
       "}\n",
       "\n",
       ".xr-var-dtype {\n",
       "  grid-column: 3;\n",
       "  text-align: right;\n",
       "  color: var(--xr-font-color2);\n",
       "}\n",
       "\n",
       ".xr-var-preview {\n",
       "  grid-column: 4;\n",
       "}\n",
       "\n",
       ".xr-index-preview {\n",
       "  grid-column: 2 / 5;\n",
       "  color: var(--xr-font-color2);\n",
       "}\n",
       "\n",
       ".xr-var-name,\n",
       ".xr-var-dims,\n",
       ".xr-var-dtype,\n",
       ".xr-preview,\n",
       ".xr-attrs dt {\n",
       "  white-space: nowrap;\n",
       "  overflow: hidden;\n",
       "  text-overflow: ellipsis;\n",
       "  padding-right: 10px;\n",
       "}\n",
       "\n",
       ".xr-var-name:hover,\n",
       ".xr-var-dims:hover,\n",
       ".xr-var-dtype:hover,\n",
       ".xr-attrs dt:hover {\n",
       "  overflow: visible;\n",
       "  width: auto;\n",
       "  z-index: 1;\n",
       "}\n",
       "\n",
       ".xr-var-attrs,\n",
       ".xr-var-data,\n",
       ".xr-index-data {\n",
       "  display: none;\n",
       "  border-top: 2px dotted var(--xr-background-color);\n",
       "  padding-bottom: 20px !important;\n",
       "  padding-top: 10px !important;\n",
       "}\n",
       "\n",
       ".xr-var-attrs-in + label,\n",
       ".xr-var-data-in + label,\n",
       ".xr-index-data-in + label {\n",
       "  padding: 0 1px;\n",
       "}\n",
       "\n",
       ".xr-var-attrs-in:checked ~ .xr-var-attrs,\n",
       ".xr-var-data-in:checked ~ .xr-var-data,\n",
       ".xr-index-data-in:checked ~ .xr-index-data {\n",
       "  display: block;\n",
       "}\n",
       "\n",
       ".xr-var-data > table {\n",
       "  float: right;\n",
       "}\n",
       "\n",
       ".xr-var-data > pre,\n",
       ".xr-index-data > pre,\n",
       ".xr-var-data > table > tbody > tr {\n",
       "  background-color: transparent !important;\n",
       "}\n",
       "\n",
       ".xr-var-name span,\n",
       ".xr-var-data,\n",
       ".xr-index-name div,\n",
       ".xr-index-data,\n",
       ".xr-attrs {\n",
       "  padding-left: 25px !important;\n",
       "}\n",
       "\n",
       ".xr-attrs,\n",
       ".xr-var-attrs,\n",
       ".xr-var-data,\n",
       ".xr-index-data {\n",
       "  grid-column: 1 / -1;\n",
       "}\n",
       "\n",
       "dl.xr-attrs {\n",
       "  padding: 0;\n",
       "  margin: 0;\n",
       "  display: grid;\n",
       "  grid-template-columns: 125px auto;\n",
       "}\n",
       "\n",
       ".xr-attrs dt,\n",
       ".xr-attrs dd {\n",
       "  padding: 0;\n",
       "  margin: 0;\n",
       "  float: left;\n",
       "  padding-right: 10px;\n",
       "  width: auto;\n",
       "}\n",
       "\n",
       ".xr-attrs dt {\n",
       "  font-weight: normal;\n",
       "  grid-column: 1;\n",
       "}\n",
       "\n",
       ".xr-attrs dt:hover span {\n",
       "  display: inline-block;\n",
       "  background: var(--xr-background-color);\n",
       "  padding-right: 10px;\n",
       "}\n",
       "\n",
       ".xr-attrs dd {\n",
       "  grid-column: 2;\n",
       "  white-space: pre-wrap;\n",
       "  word-break: break-all;\n",
       "}\n",
       "\n",
       ".xr-icon-database,\n",
       ".xr-icon-file-text2,\n",
       ".xr-no-icon {\n",
       "  display: inline-block;\n",
       "  vertical-align: middle;\n",
       "  width: 1em;\n",
       "  height: 1.5em !important;\n",
       "  stroke-width: 0;\n",
       "  stroke: currentColor;\n",
       "  fill: currentColor;\n",
       "}\n",
       "\n",
       ".xr-var-attrs-in:checked + label > .xr-icon-file-text2,\n",
       ".xr-var-data-in:checked + label > .xr-icon-database,\n",
       ".xr-index-data-in:checked + label > .xr-icon-database {\n",
       "  color: var(--xr-font-color0);\n",
       "  filter: drop-shadow(1px 1px 5px var(--xr-font-color2));\n",
       "  stroke-width: 0.8px;\n",
       "}\n",
       "</style><pre class='xr-text-repr-fallback'>&lt;xarray.Dataset&gt; Size: 8MB\n",
       "Dimensions:  (time: 128, lat: 89, lon: 180)\n",
       "Coordinates:\n",
       "  * lat      (lat) float32 356B 88.0 86.0 84.0 82.0 ... -82.0 -84.0 -86.0 -88.0\n",
       "  * lon      (lon) float32 720B 0.0 2.0 4.0 6.0 8.0 ... 352.0 354.0 356.0 358.0\n",
       "  * time     (time) datetime64[ns] 1kB 2010-01-01 2010-02-01 ... 2020-08-01\n",
       "Data variables:\n",
       "    sst      (time, lat, lon) float32 8MB ...\n",
       "Attributes: (12/37)\n",
       "    climatology:               Climatology is based on 1971-2000 SST, Xue, Y....\n",
       "    description:               In situ data: ICOADS2.5 before 2007 and NCEP i...\n",
       "    keywords_vocabulary:       NASA Global Change Master Directory (GCMD) Sci...\n",
       "    keywords:                  Earth Science &gt; Oceans &gt; Ocean Temperature &gt; S...\n",
       "    instrument:                Conventional thermometers\n",
       "    source_comment:            SSTs were observed by conventional thermometer...\n",
       "    ...                        ...\n",
       "    creator_url_original:      https://www.ncei.noaa.gov\n",
       "    license:                   No constraints on data access or use\n",
       "    comment:                   SSTs were observed by conventional thermometer...\n",
       "    summary:                   ERSST.v5 is developed based on v4 after revisi...\n",
       "    dataset_title:             NOAA Extended Reconstructed SST V5\n",
       "    data_modified:             2020-09-07</pre><div class='xr-wrap' style='display:none'><div class='xr-header'><div class='xr-obj-type'>xarray.Dataset</div></div><ul class='xr-sections'><li class='xr-section-item'><input id='section-1a025fd9-ee69-492c-a79f-aa2470ef3c1a' class='xr-section-summary-in' type='checkbox' disabled ><label for='section-1a025fd9-ee69-492c-a79f-aa2470ef3c1a' class='xr-section-summary'  title='Expand/collapse section'>Dimensions:</label><div class='xr-section-inline-details'><ul class='xr-dim-list'><li><span class='xr-has-index'>time</span>: 128</li><li><span class='xr-has-index'>lat</span>: 89</li><li><span class='xr-has-index'>lon</span>: 180</li></ul></div><div class='xr-section-details'></div></li><li class='xr-section-item'><input id='section-19995979-0343-4382-bdd5-ac619ac7c043' class='xr-section-summary-in' type='checkbox'  checked><label for='section-19995979-0343-4382-bdd5-ac619ac7c043' class='xr-section-summary' >Coordinates: <span>(3)</span></label><div class='xr-section-inline-details'></div><div class='xr-section-details'><ul class='xr-var-list'><li class='xr-var-item'><div class='xr-var-name'><span class='xr-has-index'>lat</span></div><div class='xr-var-dims'>(lat)</div><div class='xr-var-dtype'>float32</div><div class='xr-var-preview xr-preview'>88.0 86.0 84.0 ... -86.0 -88.0</div><input id='attrs-0ace49ca-d1b0-449d-bcf2-b917388440ae' class='xr-var-attrs-in' type='checkbox' ><label for='attrs-0ace49ca-d1b0-449d-bcf2-b917388440ae' title='Show/Hide attributes'><svg class='icon xr-icon-file-text2'><use xlink:href='#icon-file-text2'></use></svg></label><input id='data-21087e62-5ca5-4192-a6e2-8275444535e7' class='xr-var-data-in' type='checkbox'><label for='data-21087e62-5ca5-4192-a6e2-8275444535e7' title='Show/Hide data repr'><svg class='icon xr-icon-database'><use xlink:href='#icon-database'></use></svg></label><div class='xr-var-attrs'><dl class='xr-attrs'><dt><span>units :</span></dt><dd>degrees_north</dd><dt><span>long_name :</span></dt><dd>Latitude</dd><dt><span>actual_range :</span></dt><dd>[ 88. -88.]</dd><dt><span>standard_name :</span></dt><dd>latitude</dd><dt><span>axis :</span></dt><dd>Y</dd><dt><span>coordinate_defines :</span></dt><dd>center</dd></dl></div><div class='xr-var-data'><pre>array([ 88.,  86.,  84.,  82.,  80.,  78.,  76.,  74.,  72.,  70.,  68.,  66.,\n",
       "        64.,  62.,  60.,  58.,  56.,  54.,  52.,  50.,  48.,  46.,  44.,  42.,\n",
       "        40.,  38.,  36.,  34.,  32.,  30.,  28.,  26.,  24.,  22.,  20.,  18.,\n",
       "        16.,  14.,  12.,  10.,   8.,   6.,   4.,   2.,   0.,  -2.,  -4.,  -6.,\n",
       "        -8., -10., -12., -14., -16., -18., -20., -22., -24., -26., -28., -30.,\n",
       "       -32., -34., -36., -38., -40., -42., -44., -46., -48., -50., -52., -54.,\n",
       "       -56., -58., -60., -62., -64., -66., -68., -70., -72., -74., -76., -78.,\n",
       "       -80., -82., -84., -86., -88.], dtype=float32)</pre></div></li><li class='xr-var-item'><div class='xr-var-name'><span class='xr-has-index'>lon</span></div><div class='xr-var-dims'>(lon)</div><div class='xr-var-dtype'>float32</div><div class='xr-var-preview xr-preview'>0.0 2.0 4.0 ... 354.0 356.0 358.0</div><input id='attrs-bd1e020b-a0ea-4b51-9d73-c5b491c1cb51' class='xr-var-attrs-in' type='checkbox' ><label for='attrs-bd1e020b-a0ea-4b51-9d73-c5b491c1cb51' title='Show/Hide attributes'><svg class='icon xr-icon-file-text2'><use xlink:href='#icon-file-text2'></use></svg></label><input id='data-ac1c1c16-c2f9-4618-ac40-3afb36fcbf78' class='xr-var-data-in' type='checkbox'><label for='data-ac1c1c16-c2f9-4618-ac40-3afb36fcbf78' title='Show/Hide data repr'><svg class='icon xr-icon-database'><use xlink:href='#icon-database'></use></svg></label><div class='xr-var-attrs'><dl class='xr-attrs'><dt><span>units :</span></dt><dd>degrees_east</dd><dt><span>long_name :</span></dt><dd>Longitude</dd><dt><span>actual_range :</span></dt><dd>[  0. 358.]</dd><dt><span>standard_name :</span></dt><dd>longitude</dd><dt><span>axis :</span></dt><dd>X</dd><dt><span>coordinate_defines :</span></dt><dd>center</dd></dl></div><div class='xr-var-data'><pre>array([  0.,   2.,   4.,   6.,   8.,  10.,  12.,  14.,  16.,  18.,  20.,  22.,\n",
       "        24.,  26.,  28.,  30.,  32.,  34.,  36.,  38.,  40.,  42.,  44.,  46.,\n",
       "        48.,  50.,  52.,  54.,  56.,  58.,  60.,  62.,  64.,  66.,  68.,  70.,\n",
       "        72.,  74.,  76.,  78.,  80.,  82.,  84.,  86.,  88.,  90.,  92.,  94.,\n",
       "        96.,  98., 100., 102., 104., 106., 108., 110., 112., 114., 116., 118.,\n",
       "       120., 122., 124., 126., 128., 130., 132., 134., 136., 138., 140., 142.,\n",
       "       144., 146., 148., 150., 152., 154., 156., 158., 160., 162., 164., 166.,\n",
       "       168., 170., 172., 174., 176., 178., 180., 182., 184., 186., 188., 190.,\n",
       "       192., 194., 196., 198., 200., 202., 204., 206., 208., 210., 212., 214.,\n",
       "       216., 218., 220., 222., 224., 226., 228., 230., 232., 234., 236., 238.,\n",
       "       240., 242., 244., 246., 248., 250., 252., 254., 256., 258., 260., 262.,\n",
       "       264., 266., 268., 270., 272., 274., 276., 278., 280., 282., 284., 286.,\n",
       "       288., 290., 292., 294., 296., 298., 300., 302., 304., 306., 308., 310.,\n",
       "       312., 314., 316., 318., 320., 322., 324., 326., 328., 330., 332., 334.,\n",
       "       336., 338., 340., 342., 344., 346., 348., 350., 352., 354., 356., 358.],\n",
       "      dtype=float32)</pre></div></li><li class='xr-var-item'><div class='xr-var-name'><span class='xr-has-index'>time</span></div><div class='xr-var-dims'>(time)</div><div class='xr-var-dtype'>datetime64[ns]</div><div class='xr-var-preview xr-preview'>2010-01-01 ... 2020-08-01</div><input id='attrs-a3206230-fd61-45d2-a6a2-347ca990a1a2' class='xr-var-attrs-in' type='checkbox' ><label for='attrs-a3206230-fd61-45d2-a6a2-347ca990a1a2' title='Show/Hide attributes'><svg class='icon xr-icon-file-text2'><use xlink:href='#icon-file-text2'></use></svg></label><input id='data-47d0a1e2-fe53-4e61-830a-6a33c464eaef' class='xr-var-data-in' type='checkbox'><label for='data-47d0a1e2-fe53-4e61-830a-6a33c464eaef' title='Show/Hide data repr'><svg class='icon xr-icon-database'><use xlink:href='#icon-database'></use></svg></label><div class='xr-var-attrs'><dl class='xr-attrs'><dt><span>long_name :</span></dt><dd>Time</dd><dt><span>delta_t :</span></dt><dd>0000-01-00 00:00:00</dd><dt><span>avg_period :</span></dt><dd>0000-01-00 00:00:00</dd><dt><span>prev_avg_period :</span></dt><dd>0000-00-07 00:00:00</dd><dt><span>standard_name :</span></dt><dd>time</dd><dt><span>axis :</span></dt><dd>T</dd><dt><span>actual_range :</span></dt><dd>[19723. 80566.]</dd></dl></div><div class='xr-var-data'><pre>array([&#x27;2010-01-01T00:00:00.000000000&#x27;, &#x27;2010-02-01T00:00:00.000000000&#x27;,\n",
       "       &#x27;2010-03-01T00:00:00.000000000&#x27;, &#x27;2010-04-01T00:00:00.000000000&#x27;,\n",
       "       &#x27;2010-05-01T00:00:00.000000000&#x27;, &#x27;2010-06-01T00:00:00.000000000&#x27;,\n",
       "       &#x27;2010-07-01T00:00:00.000000000&#x27;, &#x27;2010-08-01T00:00:00.000000000&#x27;,\n",
       "       &#x27;2010-09-01T00:00:00.000000000&#x27;, &#x27;2010-10-01T00:00:00.000000000&#x27;,\n",
       "       &#x27;2010-11-01T00:00:00.000000000&#x27;, &#x27;2010-12-01T00:00:00.000000000&#x27;,\n",
       "       &#x27;2011-01-01T00:00:00.000000000&#x27;, &#x27;2011-02-01T00:00:00.000000000&#x27;,\n",
       "       &#x27;2011-03-01T00:00:00.000000000&#x27;, &#x27;2011-04-01T00:00:00.000000000&#x27;,\n",
       "       &#x27;2011-05-01T00:00:00.000000000&#x27;, &#x27;2011-06-01T00:00:00.000000000&#x27;,\n",
       "       &#x27;2011-07-01T00:00:00.000000000&#x27;, &#x27;2011-08-01T00:00:00.000000000&#x27;,\n",
       "       &#x27;2011-09-01T00:00:00.000000000&#x27;, &#x27;2011-10-01T00:00:00.000000000&#x27;,\n",
       "       &#x27;2011-11-01T00:00:00.000000000&#x27;, &#x27;2011-12-01T00:00:00.000000000&#x27;,\n",
       "       &#x27;2012-01-01T00:00:00.000000000&#x27;, &#x27;2012-02-01T00:00:00.000000000&#x27;,\n",
       "       &#x27;2012-03-01T00:00:00.000000000&#x27;, &#x27;2012-04-01T00:00:00.000000000&#x27;,\n",
       "       &#x27;2012-05-01T00:00:00.000000000&#x27;, &#x27;2012-06-01T00:00:00.000000000&#x27;,\n",
       "       &#x27;2012-07-01T00:00:00.000000000&#x27;, &#x27;2012-08-01T00:00:00.000000000&#x27;,\n",
       "       &#x27;2012-09-01T00:00:00.000000000&#x27;, &#x27;2012-10-01T00:00:00.000000000&#x27;,\n",
       "       &#x27;2012-11-01T00:00:00.000000000&#x27;, &#x27;2012-12-01T00:00:00.000000000&#x27;,\n",
       "       &#x27;2013-01-01T00:00:00.000000000&#x27;, &#x27;2013-02-01T00:00:00.000000000&#x27;,\n",
       "       &#x27;2013-03-01T00:00:00.000000000&#x27;, &#x27;2013-04-01T00:00:00.000000000&#x27;,\n",
       "       &#x27;2013-05-01T00:00:00.000000000&#x27;, &#x27;2013-06-01T00:00:00.000000000&#x27;,\n",
       "       &#x27;2013-07-01T00:00:00.000000000&#x27;, &#x27;2013-08-01T00:00:00.000000000&#x27;,\n",
       "       &#x27;2013-09-01T00:00:00.000000000&#x27;, &#x27;2013-10-01T00:00:00.000000000&#x27;,\n",
       "       &#x27;2013-11-01T00:00:00.000000000&#x27;, &#x27;2013-12-01T00:00:00.000000000&#x27;,\n",
       "       &#x27;2014-01-01T00:00:00.000000000&#x27;, &#x27;2014-02-01T00:00:00.000000000&#x27;,\n",
       "       &#x27;2014-03-01T00:00:00.000000000&#x27;, &#x27;2014-04-01T00:00:00.000000000&#x27;,\n",
       "       &#x27;2014-05-01T00:00:00.000000000&#x27;, &#x27;2014-06-01T00:00:00.000000000&#x27;,\n",
       "       &#x27;2014-07-01T00:00:00.000000000&#x27;, &#x27;2014-08-01T00:00:00.000000000&#x27;,\n",
       "       &#x27;2014-09-01T00:00:00.000000000&#x27;, &#x27;2014-10-01T00:00:00.000000000&#x27;,\n",
       "       &#x27;2014-11-01T00:00:00.000000000&#x27;, &#x27;2014-12-01T00:00:00.000000000&#x27;,\n",
       "       &#x27;2015-01-01T00:00:00.000000000&#x27;, &#x27;2015-02-01T00:00:00.000000000&#x27;,\n",
       "       &#x27;2015-03-01T00:00:00.000000000&#x27;, &#x27;2015-04-01T00:00:00.000000000&#x27;,\n",
       "       &#x27;2015-05-01T00:00:00.000000000&#x27;, &#x27;2015-06-01T00:00:00.000000000&#x27;,\n",
       "       &#x27;2015-07-01T00:00:00.000000000&#x27;, &#x27;2015-08-01T00:00:00.000000000&#x27;,\n",
       "       &#x27;2015-09-01T00:00:00.000000000&#x27;, &#x27;2015-10-01T00:00:00.000000000&#x27;,\n",
       "       &#x27;2015-11-01T00:00:00.000000000&#x27;, &#x27;2015-12-01T00:00:00.000000000&#x27;,\n",
       "       &#x27;2016-01-01T00:00:00.000000000&#x27;, &#x27;2016-02-01T00:00:00.000000000&#x27;,\n",
       "       &#x27;2016-03-01T00:00:00.000000000&#x27;, &#x27;2016-04-01T00:00:00.000000000&#x27;,\n",
       "       &#x27;2016-05-01T00:00:00.000000000&#x27;, &#x27;2016-06-01T00:00:00.000000000&#x27;,\n",
       "       &#x27;2016-07-01T00:00:00.000000000&#x27;, &#x27;2016-08-01T00:00:00.000000000&#x27;,\n",
       "       &#x27;2016-09-01T00:00:00.000000000&#x27;, &#x27;2016-10-01T00:00:00.000000000&#x27;,\n",
       "       &#x27;2016-11-01T00:00:00.000000000&#x27;, &#x27;2016-12-01T00:00:00.000000000&#x27;,\n",
       "       &#x27;2017-01-01T00:00:00.000000000&#x27;, &#x27;2017-02-01T00:00:00.000000000&#x27;,\n",
       "       &#x27;2017-03-01T00:00:00.000000000&#x27;, &#x27;2017-04-01T00:00:00.000000000&#x27;,\n",
       "       &#x27;2017-05-01T00:00:00.000000000&#x27;, &#x27;2017-06-01T00:00:00.000000000&#x27;,\n",
       "       &#x27;2017-07-01T00:00:00.000000000&#x27;, &#x27;2017-08-01T00:00:00.000000000&#x27;,\n",
       "       &#x27;2017-09-01T00:00:00.000000000&#x27;, &#x27;2017-10-01T00:00:00.000000000&#x27;,\n",
       "       &#x27;2017-11-01T00:00:00.000000000&#x27;, &#x27;2017-12-01T00:00:00.000000000&#x27;,\n",
       "       &#x27;2018-01-01T00:00:00.000000000&#x27;, &#x27;2018-02-01T00:00:00.000000000&#x27;,\n",
       "       &#x27;2018-03-01T00:00:00.000000000&#x27;, &#x27;2018-04-01T00:00:00.000000000&#x27;,\n",
       "       &#x27;2018-05-01T00:00:00.000000000&#x27;, &#x27;2018-06-01T00:00:00.000000000&#x27;,\n",
       "       &#x27;2018-07-01T00:00:00.000000000&#x27;, &#x27;2018-08-01T00:00:00.000000000&#x27;,\n",
       "       &#x27;2018-09-01T00:00:00.000000000&#x27;, &#x27;2018-10-01T00:00:00.000000000&#x27;,\n",
       "       &#x27;2018-11-01T00:00:00.000000000&#x27;, &#x27;2018-12-01T00:00:00.000000000&#x27;,\n",
       "       &#x27;2019-01-01T00:00:00.000000000&#x27;, &#x27;2019-02-01T00:00:00.000000000&#x27;,\n",
       "       &#x27;2019-03-01T00:00:00.000000000&#x27;, &#x27;2019-04-01T00:00:00.000000000&#x27;,\n",
       "       &#x27;2019-05-01T00:00:00.000000000&#x27;, &#x27;2019-06-01T00:00:00.000000000&#x27;,\n",
       "       &#x27;2019-07-01T00:00:00.000000000&#x27;, &#x27;2019-08-01T00:00:00.000000000&#x27;,\n",
       "       &#x27;2019-09-01T00:00:00.000000000&#x27;, &#x27;2019-10-01T00:00:00.000000000&#x27;,\n",
       "       &#x27;2019-11-01T00:00:00.000000000&#x27;, &#x27;2019-12-01T00:00:00.000000000&#x27;,\n",
       "       &#x27;2020-01-01T00:00:00.000000000&#x27;, &#x27;2020-02-01T00:00:00.000000000&#x27;,\n",
       "       &#x27;2020-03-01T00:00:00.000000000&#x27;, &#x27;2020-04-01T00:00:00.000000000&#x27;,\n",
       "       &#x27;2020-05-01T00:00:00.000000000&#x27;, &#x27;2020-06-01T00:00:00.000000000&#x27;,\n",
       "       &#x27;2020-07-01T00:00:00.000000000&#x27;, &#x27;2020-08-01T00:00:00.000000000&#x27;],\n",
       "      dtype=&#x27;datetime64[ns]&#x27;)</pre></div></li></ul></div></li><li class='xr-section-item'><input id='section-c0c3259b-92e7-454f-98f4-c55d57d3d307' class='xr-section-summary-in' type='checkbox'  checked><label for='section-c0c3259b-92e7-454f-98f4-c55d57d3d307' class='xr-section-summary' >Data variables: <span>(1)</span></label><div class='xr-section-inline-details'></div><div class='xr-section-details'><ul class='xr-var-list'><li class='xr-var-item'><div class='xr-var-name'><span>sst</span></div><div class='xr-var-dims'>(time, lat, lon)</div><div class='xr-var-dtype'>float32</div><div class='xr-var-preview xr-preview'>...</div><input id='attrs-bf9563bc-0000-419b-b0c6-8a32c4dd0346' class='xr-var-attrs-in' type='checkbox' ><label for='attrs-bf9563bc-0000-419b-b0c6-8a32c4dd0346' title='Show/Hide attributes'><svg class='icon xr-icon-file-text2'><use xlink:href='#icon-file-text2'></use></svg></label><input id='data-d0f9e92c-ab7d-4857-9880-61ed5fc505c0' class='xr-var-data-in' type='checkbox'><label for='data-d0f9e92c-ab7d-4857-9880-61ed5fc505c0' title='Show/Hide data repr'><svg class='icon xr-icon-database'><use xlink:href='#icon-database'></use></svg></label><div class='xr-var-attrs'><dl class='xr-attrs'><dt><span>long_name :</span></dt><dd>Monthly Means of Sea Surface Temperature</dd><dt><span>units :</span></dt><dd>degC</dd><dt><span>var_desc :</span></dt><dd>Sea Surface Temperature</dd><dt><span>level_desc :</span></dt><dd>Surface</dd><dt><span>statistic :</span></dt><dd>Mean</dd><dt><span>dataset :</span></dt><dd>NOAA Extended Reconstructed SST V5</dd><dt><span>parent_stat :</span></dt><dd>Individual Values</dd><dt><span>actual_range :</span></dt><dd>[-1.8     42.32636]</dd><dt><span>valid_range :</span></dt><dd>[-1.8 45. ]</dd></dl></div><div class='xr-var-data'><pre>[2050560 values with dtype=float32]</pre></div></li></ul></div></li><li class='xr-section-item'><input id='section-ac590c21-fac4-4687-855c-25f683e00439' class='xr-section-summary-in' type='checkbox'  ><label for='section-ac590c21-fac4-4687-855c-25f683e00439' class='xr-section-summary' >Indexes: <span>(3)</span></label><div class='xr-section-inline-details'></div><div class='xr-section-details'><ul class='xr-var-list'><li class='xr-var-item'><div class='xr-index-name'><div>lat</div></div><div class='xr-index-preview'>PandasIndex</div><input type='checkbox' disabled/><label></label><input id='index-bd23d17a-92fb-462e-8a22-8dbd19c2305d' class='xr-index-data-in' type='checkbox'/><label for='index-bd23d17a-92fb-462e-8a22-8dbd19c2305d' title='Show/Hide index repr'><svg class='icon xr-icon-database'><use xlink:href='#icon-database'></use></svg></label><div class='xr-index-data'><pre>PandasIndex(Index([ 88.0,  86.0,  84.0,  82.0,  80.0,  78.0,  76.0,  74.0,  72.0,  70.0,\n",
       "        68.0,  66.0,  64.0,  62.0,  60.0,  58.0,  56.0,  54.0,  52.0,  50.0,\n",
       "        48.0,  46.0,  44.0,  42.0,  40.0,  38.0,  36.0,  34.0,  32.0,  30.0,\n",
       "        28.0,  26.0,  24.0,  22.0,  20.0,  18.0,  16.0,  14.0,  12.0,  10.0,\n",
       "         8.0,   6.0,   4.0,   2.0,   0.0,  -2.0,  -4.0,  -6.0,  -8.0, -10.0,\n",
       "       -12.0, -14.0, -16.0, -18.0, -20.0, -22.0, -24.0, -26.0, -28.0, -30.0,\n",
       "       -32.0, -34.0, -36.0, -38.0, -40.0, -42.0, -44.0, -46.0, -48.0, -50.0,\n",
       "       -52.0, -54.0, -56.0, -58.0, -60.0, -62.0, -64.0, -66.0, -68.0, -70.0,\n",
       "       -72.0, -74.0, -76.0, -78.0, -80.0, -82.0, -84.0, -86.0, -88.0],\n",
       "      dtype=&#x27;float32&#x27;, name=&#x27;lat&#x27;))</pre></div></li><li class='xr-var-item'><div class='xr-index-name'><div>lon</div></div><div class='xr-index-preview'>PandasIndex</div><input type='checkbox' disabled/><label></label><input id='index-a286d08c-d017-4f01-bda2-bb89eb5217c3' class='xr-index-data-in' type='checkbox'/><label for='index-a286d08c-d017-4f01-bda2-bb89eb5217c3' title='Show/Hide index repr'><svg class='icon xr-icon-database'><use xlink:href='#icon-database'></use></svg></label><div class='xr-index-data'><pre>PandasIndex(Index([  0.0,   2.0,   4.0,   6.0,   8.0,  10.0,  12.0,  14.0,  16.0,  18.0,\n",
       "       ...\n",
       "       340.0, 342.0, 344.0, 346.0, 348.0, 350.0, 352.0, 354.0, 356.0, 358.0],\n",
       "      dtype=&#x27;float32&#x27;, name=&#x27;lon&#x27;, length=180))</pre></div></li><li class='xr-var-item'><div class='xr-index-name'><div>time</div></div><div class='xr-index-preview'>PandasIndex</div><input type='checkbox' disabled/><label></label><input id='index-1abcf195-5fb7-4158-90e2-3472983653ab' class='xr-index-data-in' type='checkbox'/><label for='index-1abcf195-5fb7-4158-90e2-3472983653ab' title='Show/Hide index repr'><svg class='icon xr-icon-database'><use xlink:href='#icon-database'></use></svg></label><div class='xr-index-data'><pre>PandasIndex(DatetimeIndex([&#x27;2010-01-01&#x27;, &#x27;2010-02-01&#x27;, &#x27;2010-03-01&#x27;, &#x27;2010-04-01&#x27;,\n",
       "               &#x27;2010-05-01&#x27;, &#x27;2010-06-01&#x27;, &#x27;2010-07-01&#x27;, &#x27;2010-08-01&#x27;,\n",
       "               &#x27;2010-09-01&#x27;, &#x27;2010-10-01&#x27;,\n",
       "               ...\n",
       "               &#x27;2019-11-01&#x27;, &#x27;2019-12-01&#x27;, &#x27;2020-01-01&#x27;, &#x27;2020-02-01&#x27;,\n",
       "               &#x27;2020-03-01&#x27;, &#x27;2020-04-01&#x27;, &#x27;2020-05-01&#x27;, &#x27;2020-06-01&#x27;,\n",
       "               &#x27;2020-07-01&#x27;, &#x27;2020-08-01&#x27;],\n",
       "              dtype=&#x27;datetime64[ns]&#x27;, name=&#x27;time&#x27;, length=128, freq=None))</pre></div></li></ul></div></li><li class='xr-section-item'><input id='section-a7938e80-b652-4a83-aa6b-4de537bf86f8' class='xr-section-summary-in' type='checkbox'  ><label for='section-a7938e80-b652-4a83-aa6b-4de537bf86f8' class='xr-section-summary' >Attributes: <span>(37)</span></label><div class='xr-section-inline-details'></div><div class='xr-section-details'><dl class='xr-attrs'><dt><span>climatology :</span></dt><dd>Climatology is based on 1971-2000 SST, Xue, Y., T. M. Smith, and R. W. Reynolds, 2003: Interdecadal changes of 30-yr SST normals during 1871.2000. Journal of Climate, 16, 1601-1612.</dd><dt><span>description :</span></dt><dd>In situ data: ICOADS2.5 before 2007 and NCEP in situ data from 2008 to present. Ice data: HadISST ice before 2010 and NCEP ice after 2010.</dd><dt><span>keywords_vocabulary :</span></dt><dd>NASA Global Change Master Directory (GCMD) Science Keywords</dd><dt><span>keywords :</span></dt><dd>Earth Science &gt; Oceans &gt; Ocean Temperature &gt; Sea Surface Temperature &gt;</dd><dt><span>instrument :</span></dt><dd>Conventional thermometers</dd><dt><span>source_comment :</span></dt><dd>SSTs were observed by conventional thermometers in Buckets (insulated or un-insulated canvas and wooded buckets) or Engine Room Intaker</dd><dt><span>geospatial_lon_min :</span></dt><dd>-1.0</dd><dt><span>geospatial_lon_max :</span></dt><dd>359.0</dd><dt><span>geospatial_laty_max :</span></dt><dd>89.0</dd><dt><span>geospatial_laty_min :</span></dt><dd>-89.0</dd><dt><span>geospatial_lat_max :</span></dt><dd>89.0</dd><dt><span>geospatial_lat_min :</span></dt><dd>-89.0</dd><dt><span>geospatial_lat_units :</span></dt><dd>degrees_north</dd><dt><span>geospatial_lon_units :</span></dt><dd>degrees_east</dd><dt><span>cdm_data_type :</span></dt><dd>Grid</dd><dt><span>project :</span></dt><dd>NOAA Extended Reconstructed Sea Surface Temperature (ERSST)</dd><dt><span>original_publisher_url :</span></dt><dd>http://www.ncdc.noaa.gov</dd><dt><span>References :</span></dt><dd>https://www.ncdc.noaa.gov/data-access/marineocean-data/extended-reconstructed-sea-surface-temperature-ersst-v5 at NCEI and http://www.esrl.noaa.gov/psd/data/gridded/data.noaa.ersst.v5.html</dd><dt><span>source :</span></dt><dd>In situ data: ICOADS R3.0 before 2015, NCEP in situ GTS from 2016 to present, and Argo SST from 1999 to present. Ice data: HadISST2 ice before 2015, and NCEP ice after 2015</dd><dt><span>title :</span></dt><dd>NOAA ERSSTv5 (in situ only)</dd><dt><span>history :</span></dt><dd>created 07/2017 by PSD data using NCEI&#x27;s ERSST V5 NetCDF values</dd><dt><span>institution :</span></dt><dd>This version written at NOAA/ESRL PSD: obtained from NOAA/NESDIS/National Centers for Environmental Information and time aggregated. Original Full Source: NOAA/NESDIS/NCEI/CCOG</dd><dt><span>citation :</span></dt><dd>Huang et al, 2017: Extended Reconstructed Sea Surface Temperatures Version 5 (ERSSTv5): Upgrades, Validations, and Intercomparisons. Journal of Climate, https://doi.org/10.1175/JCLI-D-16-0836.1</dd><dt><span>platform :</span></dt><dd>Ship and Buoy SSTs from ICOADS R3.0 and NCEP GTS</dd><dt><span>standard_name_vocabulary :</span></dt><dd>CF Standard Name Table (v40, 25 January 2017)</dd><dt><span>processing_level :</span></dt><dd>NOAA Level 4</dd><dt><span>Conventions :</span></dt><dd>CF-1.6, ACDD-1.3</dd><dt><span>metadata_link :</span></dt><dd>:metadata_link = https://doi.org/10.7289/V5T72FNM (original format)</dd><dt><span>creator_name :</span></dt><dd>Boyin Huang (original)</dd><dt><span>date_created :</span></dt><dd>2017-06-30T12:18:00Z (original)</dd><dt><span>product_version :</span></dt><dd>Version 5</dd><dt><span>creator_url_original :</span></dt><dd>https://www.ncei.noaa.gov</dd><dt><span>license :</span></dt><dd>No constraints on data access or use</dd><dt><span>comment :</span></dt><dd>SSTs were observed by conventional thermometers in Buckets (insulated or un-insulated canvas and wooded buckets), Engine Room Intakers, or floats and drifters</dd><dt><span>summary :</span></dt><dd>ERSST.v5 is developed based on v4 after revisions of 8 parameters using updated data sets and advanced knowledge of ERSST analysis</dd><dt><span>dataset_title :</span></dt><dd>NOAA Extended Reconstructed SST V5</dd><dt><span>data_modified :</span></dt><dd>2020-09-07</dd></dl></div></li></ul></div></div>"
      ],
      "text/plain": [
       "<xarray.Dataset> Size: 8MB\n",
       "Dimensions:  (time: 128, lat: 89, lon: 180)\n",
       "Coordinates:\n",
       "  * lat      (lat) float32 356B 88.0 86.0 84.0 82.0 ... -82.0 -84.0 -86.0 -88.0\n",
       "  * lon      (lon) float32 720B 0.0 2.0 4.0 6.0 8.0 ... 352.0 354.0 356.0 358.0\n",
       "  * time     (time) datetime64[ns] 1kB 2010-01-01 2010-02-01 ... 2020-08-01\n",
       "Data variables:\n",
       "    sst      (time, lat, lon) float32 8MB ...\n",
       "Attributes: (12/37)\n",
       "    climatology:               Climatology is based on 1971-2000 SST, Xue, Y....\n",
       "    description:               In situ data: ICOADS2.5 before 2007 and NCEP i...\n",
       "    keywords_vocabulary:       NASA Global Change Master Directory (GCMD) Sci...\n",
       "    keywords:                  Earth Science > Oceans > Ocean Temperature > S...\n",
       "    instrument:                Conventional thermometers\n",
       "    source_comment:            SSTs were observed by conventional thermometer...\n",
       "    ...                        ...\n",
       "    creator_url_original:      https://www.ncei.noaa.gov\n",
       "    license:                   No constraints on data access or use\n",
       "    comment:                   SSTs were observed by conventional thermometer...\n",
       "    summary:                   ERSST.v5 is developed based on v4 after revisi...\n",
       "    dataset_title:             NOAA Extended Reconstructed SST V5\n",
       "    data_modified:             2020-09-07"
      ]
     },
     "execution_count": 2,
     "metadata": {},
     "output_type": "execute_result"
    }
   ],
   "source": [
    "# Carga el conjunto de datos de temperatura superficial del mar\n",
    "ds = xr.open_dataset(\"datos/sst.mnmean.nc\", engine=\"netcdf4\")\n",
    "\n",
    "# representación HTML de xarray\n",
    "ds"
   ]
  },
  {
   "cell_type": "markdown",
   "metadata": {},
   "source": [
    "Explora el output (vista HTML) que te da xarray del conjunto de datos que cargamos en la variable `ds`. Por ejemplo, si das click en los íconos (hoja de papel y ¿discos?) al final de cada fila podrás ver información adicional de cada variable de datos y coordenada. ¿Qué variables contiene el conjunto de datos? ¿Cuáles son sus coordenadas? "
   ]
  },
  {
   "cell_type": "code",
   "execution_count": 5,
   "metadata": {},
   "outputs": [],
   "source": [
    "# También puedes ver una representación en modo texto. \n",
    "# Para eso solo descomenta la línea siguiente\n",
    "#xr.set_options(display_style=\"text\")\n",
    "\n",
    "# Revisa la representación\n",
    "#ds.info()"
   ]
  },
  {
   "cell_type": "markdown",
   "metadata": {},
   "source": [
    "#### Dataset (conjunto de datos)\n",
    "\n",
    "`Dataset` es un contenedor de arreglos etiquetados (`DataArrays`) con dimensiones alineadas, similar a un diccionario de Python. Está diseñado como una representación en memoria de un conjunto de datos NetCDF.\n",
    "\n",
    "Además de darnos acceso a los datos, como un diccionario de Python, los `Datasets` tienen las siguentes propiedades:\n",
    "\n",
    "|Atributo |Descripción |\n",
    "|:--:|:--:|\n",
    "|data_vars|`OrderedDict` de objetos `DataArray` correspondientes a variables de datos|\n",
    "|dims| \tMapeo de nombres de dimensiones a la longitud fija de cada dimensión (ej., {lat: 6, lon: 6, time: 8}).|\n",
    "|coords| Un diccionario de arreglos (coordenadas) que etiquetan a cada punto (ej. arreglos 1D de números, objetos `datetime`|\n",
    "|attrs |`OrderedDict` con metadatos arbitrarios del conjunto de datos.|\n"
   ]
  },
  {
   "cell_type": "code",
   "execution_count": 6,
   "metadata": {},
   "outputs": [
    {
     "data": {
      "text/plain": [
       "Data variables:\n",
       "    sst      (time, lat, lon) float32 8MB ..."
      ]
     },
     "execution_count": 6,
     "metadata": {},
     "output_type": "execute_result"
    }
   ],
   "source": [
    "# Variables de datos en el conjunto de datos (dataset)\n",
    "ds.data_vars"
   ]
  },
  {
   "cell_type": "code",
   "execution_count": 7,
   "metadata": {},
   "outputs": [
    {
     "data": {
      "text/html": [
       "<pre>&lt;xarray.DataArray &#x27;sst&#x27; (lat: 89, lon: 180)&gt; Size: 64kB\n",
       "[16020 values with dtype=float32]\n",
       "Coordinates:\n",
       "  * lat      (lat) float32 356B 88.0 86.0 84.0 82.0 ... -82.0 -84.0 -86.0 -88.0\n",
       "  * lon      (lon) float32 720B 0.0 2.0 4.0 6.0 8.0 ... 352.0 354.0 356.0 358.0\n",
       "    time     datetime64[ns] 8B 2010-01-01\n",
       "Attributes:\n",
       "    long_name:     Monthly Means of Sea Surface Temperature\n",
       "    units:         degC\n",
       "    var_desc:      Sea Surface Temperature\n",
       "    level_desc:    Surface\n",
       "    statistic:     Mean\n",
       "    dataset:       NOAA Extended Reconstructed SST V5\n",
       "    parent_stat:   Individual Values\n",
       "    actual_range:  [-1.8     42.32636]\n",
       "    valid_range:   [-1.8 45. ]</pre>"
      ],
      "text/plain": [
       "<xarray.DataArray 'sst' (lat: 89, lon: 180)> Size: 64kB\n",
       "[16020 values with dtype=float32]\n",
       "Coordinates:\n",
       "  * lat      (lat) float32 356B 88.0 86.0 84.0 82.0 ... -82.0 -84.0 -86.0 -88.0\n",
       "  * lon      (lon) float32 720B 0.0 2.0 4.0 6.0 8.0 ... 352.0 354.0 356.0 358.0\n",
       "    time     datetime64[ns] 8B 2010-01-01\n",
       "Attributes:\n",
       "    long_name:     Monthly Means of Sea Surface Temperature\n",
       "    units:         degC\n",
       "    var_desc:      Sea Surface Temperature\n",
       "    level_desc:    Surface\n",
       "    statistic:     Mean\n",
       "    dataset:       NOAA Extended Reconstructed SST V5\n",
       "    parent_stat:   Individual Values\n",
       "    actual_range:  [-1.8     42.32636]\n",
       "    valid_range:   [-1.8 45. ]"
      ]
     },
     "execution_count": 7,
     "metadata": {},
     "output_type": "execute_result"
    }
   ],
   "source": [
    "# selecciona la primera entrada a lo largo del primer eje (time) de la variable sst\n",
    "ds.sst[0]"
   ]
  },
  {
   "cell_type": "code",
   "execution_count": 8,
   "metadata": {},
   "outputs": [
    {
     "data": {
      "text/plain": [
       "<matplotlib.collections.QuadMesh at 0x30b59ddf0>"
      ]
     },
     "execution_count": 8,
     "metadata": {},
     "output_type": "execute_result"
    },
    {
     "data": {
      "image/png": "[encoded data removed]",
      "text/plain": [
       "<Figure size 640x480 with 2 Axes>"
      ]
     },
     "metadata": {},
     "output_type": "display_data"
    }
   ],
   "source": [
    "# Grafica un paso de tiempo\n",
    "ds.sst[0].plot()"
   ]
  },
  {
   "cell_type": "code",
   "execution_count": 9,
   "metadata": {},
   "outputs": [
    {
     "data": {
      "text/plain": [
       "FrozenMappingWarningOnValuesAccess({'time': 128, 'lat': 89, 'lon': 180})"
      ]
     },
     "execution_count": 9,
     "metadata": {},
     "output_type": "execute_result"
    }
   ],
   "source": [
    "# dimensiones en el conjunto de datos\n",
    "ds.dims"
   ]
  },
  {
   "cell_type": "code",
   "execution_count": 10,
   "metadata": {},
   "outputs": [
    {
     "data": {
      "text/plain": [
       "Coordinates:\n",
       "  * lat      (lat) float32 356B 88.0 86.0 84.0 82.0 ... -82.0 -84.0 -86.0 -88.0\n",
       "  * lon      (lon) float32 720B 0.0 2.0 4.0 6.0 8.0 ... 352.0 354.0 356.0 358.0\n",
       "  * time     (time) datetime64[ns] 1kB 2010-01-01 2010-02-01 ... 2020-08-01"
      ]
     },
     "execution_count": 10,
     "metadata": {},
     "output_type": "execute_result"
    }
   ],
   "source": [
    "# coordenadas en el conjunto de datos\n",
    "ds.coords"
   ]
  },
  {
   "cell_type": "code",
   "execution_count": 11,
   "metadata": {},
   "outputs": [
    {
     "data": {
      "text/plain": [
       "{'climatology': 'Climatology is based on 1971-2000 SST, Xue, Y., T. M. Smith, and R. W. Reynolds, 2003: Interdecadal changes of 30-yr SST normals during 1871.2000. Journal of Climate, 16, 1601-1612.',\n",
       " 'description': 'In situ data: ICOADS2.5 before 2007 and NCEP in situ data from 2008 to present. Ice data: HadISST ice before 2010 and NCEP ice after 2010.',\n",
       " 'keywords_vocabulary': 'NASA Global Change Master Directory (GCMD) Science Keywords',\n",
       " 'keywords': 'Earth Science > Oceans > Ocean Temperature > Sea Surface Temperature >',\n",
       " 'instrument': 'Conventional thermometers',\n",
       " 'source_comment': 'SSTs were observed by conventional thermometers in Buckets (insulated or un-insulated canvas and wooded buckets) or Engine Room Intaker',\n",
       " 'geospatial_lon_min': np.float32(-1.0),\n",
       " 'geospatial_lon_max': np.float32(359.0),\n",
       " 'geospatial_laty_max': np.float32(89.0),\n",
       " 'geospatial_laty_min': np.float32(-89.0),\n",
       " 'geospatial_lat_max': np.float32(89.0),\n",
       " 'geospatial_lat_min': np.float32(-89.0),\n",
       " 'geospatial_lat_units': 'degrees_north',\n",
       " 'geospatial_lon_units': 'degrees_east',\n",
       " 'cdm_data_type': 'Grid',\n",
       " 'project': 'NOAA Extended Reconstructed Sea Surface Temperature (ERSST)',\n",
       " 'original_publisher_url': 'http://www.ncdc.noaa.gov',\n",
       " 'References': 'https://www.ncdc.noaa.gov/data-access/marineocean-data/extended-reconstructed-sea-surface-temperature-ersst-v5 at NCEI and http://www.esrl.noaa.gov/psd/data/gridded/data.noaa.ersst.v5.html',\n",
       " 'source': 'In situ data: ICOADS R3.0 before 2015, NCEP in situ GTS from 2016 to present, and Argo SST from 1999 to present. Ice data: HadISST2 ice before 2015, and NCEP ice after 2015',\n",
       " 'title': 'NOAA ERSSTv5 (in situ only)',\n",
       " 'history': \"created 07/2017 by PSD data using NCEI's ERSST V5 NetCDF values\",\n",
       " 'institution': 'This version written at NOAA/ESRL PSD: obtained from NOAA/NESDIS/National Centers for Environmental Information and time aggregated. Original Full Source: NOAA/NESDIS/NCEI/CCOG',\n",
       " 'citation': 'Huang et al, 2017: Extended Reconstructed Sea Surface Temperatures Version 5 (ERSSTv5): Upgrades, Validations, and Intercomparisons. Journal of Climate, https://doi.org/10.1175/JCLI-D-16-0836.1',\n",
       " 'platform': 'Ship and Buoy SSTs from ICOADS R3.0 and NCEP GTS',\n",
       " 'standard_name_vocabulary': 'CF Standard Name Table (v40, 25 January 2017)',\n",
       " 'processing_level': 'NOAA Level 4',\n",
       " 'Conventions': 'CF-1.6, ACDD-1.3',\n",
       " 'metadata_link': ':metadata_link = https://doi.org/10.7289/V5T72FNM (original format)',\n",
       " 'creator_name': 'Boyin Huang (original)',\n",
       " 'date_created': '2017-06-30T12:18:00Z (original)',\n",
       " 'product_version': 'Version 5',\n",
       " 'creator_url_original': 'https://www.ncei.noaa.gov',\n",
       " 'license': 'No constraints on data access or use',\n",
       " 'comment': 'SSTs were observed by conventional thermometers in Buckets (insulated or un-insulated canvas and wooded buckets), Engine Room Intakers, or floats and drifters',\n",
       " 'summary': 'ERSST.v5 is developed based on v4 after revisions of 8 parameters using updated data sets and advanced knowledge of ERSST analysis',\n",
       " 'dataset_title': 'NOAA Extended Reconstructed SST V5',\n",
       " 'data_modified': '2020-09-07'}"
      ]
     },
     "execution_count": 11,
     "metadata": {},
     "output_type": "execute_result"
    }
   ],
   "source": [
    "# atributos globales del dataset\n",
    "ds.attrs"
   ]
  },
  {
   "cell_type": "markdown",
   "metadata": {},
   "source": [
    "#### DataArray\n",
    "\n",
    "El \"arreglo de datos\" `DataArray` es la implementación de un arreglo multidimensional con etiquetas. Algunas de sus propiedades clave son:\n",
    "\n",
    "|Atributo| \tDescripción|\n",
    "|:--:|::|\n",
    "|data| \tarreglos numpy.ndarray o dask.array que contienen los datos.|\n",
    "|dims| \tnombres de las dimensiones de cada eje. Ej:(x, y, z) (lat, lon, time).|\n",
    "|coords| un contenedor estilo diccionario de arreglos (coordenadas) que etiquetan a cada punto(e.j., arreglos 1-D de números, objetos `datetime` o cadenas)|\n",
    "|attrs| un `OrderedDict`que contiene metadatos y atributos (ej. unidades)|\n",
    "|name |\tnombre del arreglo|"
   ]
  },
  {
   "cell_type": "code",
   "execution_count": 12,
   "metadata": {},
   "outputs": [
    {
     "data": {
      "text/html": [
       "<pre>&lt;xarray.DataArray &#x27;sst&#x27; (time: 128, lat: 89, lon: 180)&gt; Size: 8MB\n",
       "[2050560 values with dtype=float32]\n",
       "Coordinates:\n",
       "  * lat      (lat) float32 356B 88.0 86.0 84.0 82.0 ... -82.0 -84.0 -86.0 -88.0\n",
       "  * lon      (lon) float32 720B 0.0 2.0 4.0 6.0 8.0 ... 352.0 354.0 356.0 358.0\n",
       "  * time     (time) datetime64[ns] 1kB 2010-01-01 2010-02-01 ... 2020-08-01\n",
       "Attributes:\n",
       "    long_name:     Monthly Means of Sea Surface Temperature\n",
       "    units:         degC\n",
       "    var_desc:      Sea Surface Temperature\n",
       "    level_desc:    Surface\n",
       "    statistic:     Mean\n",
       "    dataset:       NOAA Extended Reconstructed SST V5\n",
       "    parent_stat:   Individual Values\n",
       "    actual_range:  [-1.8     42.32636]\n",
       "    valid_range:   [-1.8 45. ]</pre>"
      ],
      "text/plain": [
       "<xarray.DataArray 'sst' (time: 128, lat: 89, lon: 180)> Size: 8MB\n",
       "[2050560 values with dtype=float32]\n",
       "Coordinates:\n",
       "  * lat      (lat) float32 356B 88.0 86.0 84.0 82.0 ... -82.0 -84.0 -86.0 -88.0\n",
       "  * lon      (lon) float32 720B 0.0 2.0 4.0 6.0 8.0 ... 352.0 354.0 356.0 358.0\n",
       "  * time     (time) datetime64[ns] 1kB 2010-01-01 2010-02-01 ... 2020-08-01\n",
       "Attributes:\n",
       "    long_name:     Monthly Means of Sea Surface Temperature\n",
       "    units:         degC\n",
       "    var_desc:      Sea Surface Temperature\n",
       "    level_desc:    Surface\n",
       "    statistic:     Mean\n",
       "    dataset:       NOAA Extended Reconstructed SST V5\n",
       "    parent_stat:   Individual Values\n",
       "    actual_range:  [-1.8     42.32636]\n",
       "    valid_range:   [-1.8 45. ]"
      ]
     },
     "execution_count": 12,
     "metadata": {},
     "output_type": "execute_result"
    }
   ],
   "source": [
    "# Extrae la variable o dataArray sst\n",
    "ds[\"sst\"]  # Equivalente a ds.sst"
   ]
  },
  {
   "cell_type": "code",
   "execution_count": 13,
   "metadata": {},
   "outputs": [
    {
     "data": {
      "text/plain": [
       "array([[[-1.8, -1.8, -1.8, ..., -1.8, -1.8, -1.8],\n",
       "        [-1.8, -1.8, -1.8, ..., -1.8, -1.8, -1.8],\n",
       "        [-1.8, -1.8, -1.8, ..., -1.8, -1.8, -1.8],\n",
       "        ...,\n",
       "        [ nan,  nan,  nan, ...,  nan,  nan,  nan],\n",
       "        [ nan,  nan,  nan, ...,  nan,  nan,  nan],\n",
       "        [ nan,  nan,  nan, ...,  nan,  nan,  nan]],\n",
       "\n",
       "       [[-1.8, -1.8, -1.8, ..., -1.8, -1.8, -1.8],\n",
       "        [-1.8, -1.8, -1.8, ..., -1.8, -1.8, -1.8],\n",
       "        [-1.8, -1.8, -1.8, ..., -1.8, -1.8, -1.8],\n",
       "        ...,\n",
       "        [ nan,  nan,  nan, ...,  nan,  nan,  nan],\n",
       "        [ nan,  nan,  nan, ...,  nan,  nan,  nan],\n",
       "        [ nan,  nan,  nan, ...,  nan,  nan,  nan]],\n",
       "\n",
       "       [[-1.8, -1.8, -1.8, ..., -1.8, -1.8, -1.8],\n",
       "        [-1.8, -1.8, -1.8, ..., -1.8, -1.8, -1.8],\n",
       "        [-1.8, -1.8, -1.8, ..., -1.8, -1.8, -1.8],\n",
       "        ...,\n",
       "        [ nan,  nan,  nan, ...,  nan,  nan,  nan],\n",
       "        [ nan,  nan,  nan, ...,  nan,  nan,  nan],\n",
       "        [ nan,  nan,  nan, ...,  nan,  nan,  nan]],\n",
       "\n",
       "       ...,\n",
       "\n",
       "       [[-1.8, -1.8, -1.8, ..., -1.8, -1.8, -1.8],\n",
       "        [-1.8, -1.8, -1.8, ..., -1.8, -1.8, -1.8],\n",
       "        [-1.8, -1.8, -1.8, ..., -1.8, -1.8, -1.8],\n",
       "        ...,\n",
       "        [ nan,  nan,  nan, ...,  nan,  nan,  nan],\n",
       "        [ nan,  nan,  nan, ...,  nan,  nan,  nan],\n",
       "        [ nan,  nan,  nan, ...,  nan,  nan,  nan]],\n",
       "\n",
       "       [[-1.8, -1.8, -1.8, ..., -1.8, -1.8, -1.8],\n",
       "        [-1.8, -1.8, -1.8, ..., -1.8, -1.8, -1.8],\n",
       "        [-1.8, -1.8, -1.8, ..., -1.8, -1.8, -1.8],\n",
       "        ...,\n",
       "        [ nan,  nan,  nan, ...,  nan,  nan,  nan],\n",
       "        [ nan,  nan,  nan, ...,  nan,  nan,  nan],\n",
       "        [ nan,  nan,  nan, ...,  nan,  nan,  nan]],\n",
       "\n",
       "       [[-1.8, -1.8, -1.8, ..., -1.8, -1.8, -1.8],\n",
       "        [-1.8, -1.8, -1.8, ..., -1.8, -1.8, -1.8],\n",
       "        [-1.8, -1.8, -1.8, ..., -1.8, -1.8, -1.8],\n",
       "        ...,\n",
       "        [ nan,  nan,  nan, ...,  nan,  nan,  nan],\n",
       "        [ nan,  nan,  nan, ...,  nan,  nan,  nan],\n",
       "        [ nan,  nan,  nan, ...,  nan,  nan,  nan]]],\n",
       "      shape=(128, 89, 180), dtype=float32)"
      ]
     },
     "execution_count": 13,
     "metadata": {},
     "output_type": "execute_result"
    }
   ],
   "source": [
    "# El arreglo de datos (numpy) \n",
    "ds.sst.data"
   ]
  },
  {
   "cell_type": "code",
   "execution_count": 14,
   "metadata": {},
   "outputs": [
    {
     "data": {
      "text/plain": [
       "('time', 'lat', 'lon')"
      ]
     },
     "execution_count": 14,
     "metadata": {},
     "output_type": "execute_result"
    }
   ],
   "source": [
    "# dimesniones del data array/variable \n",
    "ds.sst.dims"
   ]
  },
  {
   "cell_type": "code",
   "execution_count": 15,
   "metadata": {},
   "outputs": [
    {
     "data": {
      "text/plain": [
       "Coordinates:\n",
       "  * lat      (lat) float32 356B 88.0 86.0 84.0 82.0 ... -82.0 -84.0 -86.0 -88.0\n",
       "  * lon      (lon) float32 720B 0.0 2.0 4.0 6.0 8.0 ... 352.0 354.0 356.0 358.0\n",
       "  * time     (time) datetime64[ns] 1kB 2010-01-01 2010-02-01 ... 2020-08-01"
      ]
     },
     "execution_count": 15,
     "metadata": {},
     "output_type": "execute_result"
    }
   ],
   "source": [
    "# coordenadas del data array/variable \n",
    "ds.sst.coords"
   ]
  },
  {
   "cell_type": "code",
   "execution_count": 16,
   "metadata": {},
   "outputs": [
    {
     "data": {
      "text/plain": [
       "{'long_name': 'Monthly Means of Sea Surface Temperature',\n",
       " 'units': 'degC',\n",
       " 'var_desc': 'Sea Surface Temperature',\n",
       " 'level_desc': 'Surface',\n",
       " 'statistic': 'Mean',\n",
       " 'dataset': 'NOAA Extended Reconstructed SST V5',\n",
       " 'parent_stat': 'Individual Values',\n",
       " 'actual_range': array([-1.8    , 42.32636], dtype=float32),\n",
       " 'valid_range': array([-1.8, 45. ], dtype=float32)}"
      ]
     },
     "execution_count": 16,
     "metadata": {},
     "output_type": "execute_result"
    }
   ],
   "source": [
    "# atributos del dataarray/variable\n",
    "ds.sst.attrs"
   ]
  },
  {
   "cell_type": "markdown",
   "metadata": {},
   "source": [
    "#### Coordenadas vs. dimensiones\n",
    "    \n",
    "Los objetos `DataArray` dentro de un conjunto de datos `Dataset` pueden tener cualquier cantidad de dimensiones pero deben compartir el sistema de coordenadas.\n",
    "\n",
    "Las coordenadas también pueden tener cualquier número de dimensiones, pero denotan cantidades constantes e independientes, a diferencia de las cantidades que pertenecen a los datos.\n",
    "\n",
    "La dimensión es solo un nombre que le damos a un eje, como tiempo."
   ]
  },
  {
   "cell_type": "code",
   "execution_count": 17,
   "metadata": {},
   "outputs": [
    {
     "data": {
      "text/plain": [
       "FrozenMappingWarningOnValuesAccess({'time': 128, 'lat': 89, 'lon': 180})"
      ]
     },
     "execution_count": 17,
     "metadata": {},
     "output_type": "execute_result"
    }
   ],
   "source": [
    "ds.dims"
   ]
  },
  {
   "cell_type": "code",
   "execution_count": 18,
   "metadata": {},
   "outputs": [
    {
     "data": {
      "text/plain": [
       "Coordinates:\n",
       "  * lat      (lat) float32 356B 88.0 86.0 84.0 82.0 ... -82.0 -84.0 -86.0 -88.0\n",
       "  * lon      (lon) float32 720B 0.0 2.0 4.0 6.0 8.0 ... 352.0 354.0 356.0 358.0\n",
       "  * time     (time) datetime64[ns] 1kB 2010-01-01 2010-02-01 ... 2020-08-01"
      ]
     },
     "execution_count": 18,
     "metadata": {},
     "output_type": "execute_result"
    }
   ],
   "source": [
    "ds.coords"
   ]
  },
  {
   "cell_type": "code",
   "execution_count": 19,
   "metadata": {},
   "outputs": [
    {
     "data": {
      "text/html": [
       "<pre>&lt;xarray.DataArray &#x27;lon&#x27; (lon: 180)&gt; Size: 720B\n",
       "array([  0.,   2.,   4.,   6.,   8.,  10.,  12.,  14.,  16.,  18.,  20.,  22.,\n",
       "        24.,  26.,  28.,  30.,  32.,  34.,  36.,  38.,  40.,  42.,  44.,  46.,\n",
       "        48.,  50.,  52.,  54.,  56.,  58.,  60.,  62.,  64.,  66.,  68.,  70.,\n",
       "        72.,  74.,  76.,  78.,  80.,  82.,  84.,  86.,  88.,  90.,  92.,  94.,\n",
       "        96.,  98., 100., 102., 104., 106., 108., 110., 112., 114., 116., 118.,\n",
       "       120., 122., 124., 126., 128., 130., 132., 134., 136., 138., 140., 142.,\n",
       "       144., 146., 148., 150., 152., 154., 156., 158., 160., 162., 164., 166.,\n",
       "       168., 170., 172., 174., 176., 178., 180., 182., 184., 186., 188., 190.,\n",
       "       192., 194., 196., 198., 200., 202., 204., 206., 208., 210., 212., 214.,\n",
       "       216., 218., 220., 222., 224., 226., 228., 230., 232., 234., 236., 238.,\n",
       "       240., 242., 244., 246., 248., 250., 252., 254., 256., 258., 260., 262.,\n",
       "       264., 266., 268., 270., 272., 274., 276., 278., 280., 282., 284., 286.,\n",
       "       288., 290., 292., 294., 296., 298., 300., 302., 304., 306., 308., 310.,\n",
       "       312., 314., 316., 318., 320., 322., 324., 326., 328., 330., 332., 334.,\n",
       "       336., 338., 340., 342., 344., 346., 348., 350., 352., 354., 356., 358.],\n",
       "      dtype=float32)\n",
       "Coordinates:\n",
       "  * lon      (lon) float32 720B 0.0 2.0 4.0 6.0 8.0 ... 352.0 354.0 356.0 358.0\n",
       "Attributes:\n",
       "    units:               degrees_east\n",
       "    long_name:           Longitude\n",
       "    actual_range:        [  0. 358.]\n",
       "    standard_name:       longitude\n",
       "    axis:                X\n",
       "    coordinate_defines:  center</pre>"
      ],
      "text/plain": [
       "<xarray.DataArray 'lon' (lon: 180)> Size: 720B\n",
       "array([  0.,   2.,   4.,   6.,   8.,  10.,  12.,  14.,  16.,  18.,  20.,  22.,\n",
       "        24.,  26.,  28.,  30.,  32.,  34.,  36.,  38.,  40.,  42.,  44.,  46.,\n",
       "        48.,  50.,  52.,  54.,  56.,  58.,  60.,  62.,  64.,  66.,  68.,  70.,\n",
       "        72.,  74.,  76.,  78.,  80.,  82.,  84.,  86.,  88.,  90.,  92.,  94.,\n",
       "        96.,  98., 100., 102., 104., 106., 108., 110., 112., 114., 116., 118.,\n",
       "       120., 122., 124., 126., 128., 130., 132., 134., 136., 138., 140., 142.,\n",
       "       144., 146., 148., 150., 152., 154., 156., 158., 160., 162., 164., 166.,\n",
       "       168., 170., 172., 174., 176., 178., 180., 182., 184., 186., 188., 190.,\n",
       "       192., 194., 196., 198., 200., 202., 204., 206., 208., 210., 212., 214.,\n",
       "       216., 218., 220., 222., 224., 226., 228., 230., 232., 234., 236., 238.,\n",
       "       240., 242., 244., 246., 248., 250., 252., 254., 256., 258., 260., 262.,\n",
       "       264., 266., 268., 270., 272., 274., 276., 278., 280., 282., 284., 286.,\n",
       "       288., 290., 292., 294., 296., 298., 300., 302., 304., 306., 308., 310.,\n",
       "       312., 314., 316., 318., 320., 322., 324., 326., 328., 330., 332., 334.,\n",
       "       336., 338., 340., 342., 344., 346., 348., 350., 352., 354., 356., 358.],\n",
       "      dtype=float32)\n",
       "Coordinates:\n",
       "  * lon      (lon) float32 720B 0.0 2.0 4.0 6.0 8.0 ... 352.0 354.0 356.0 358.0\n",
       "Attributes:\n",
       "    units:               degrees_east\n",
       "    long_name:           Longitude\n",
       "    actual_range:        [  0. 358.]\n",
       "    standard_name:       longitude\n",
       "    axis:                X\n",
       "    coordinate_defines:  center"
      ]
     },
     "execution_count": 19,
     "metadata": {},
     "output_type": "execute_result"
    }
   ],
   "source": [
    "# extrae una variable de las coordenadas\n",
    "ds.sst.lon"
   ]
  },
  {
   "cell_type": "code",
   "execution_count": 20,
   "metadata": {},
   "outputs": [
    {
     "data": {
      "text/html": [
       "<pre>&lt;xarray.DataArray &#x27;time&#x27; (time: 128)&gt; Size: 1kB\n",
       "array([&#x27;2010-01-01T00:00:00.000000000&#x27;, &#x27;2010-02-01T00:00:00.000000000&#x27;,\n",
       "       &#x27;2010-03-01T00:00:00.000000000&#x27;, &#x27;2010-04-01T00:00:00.000000000&#x27;,\n",
       "       &#x27;2010-05-01T00:00:00.000000000&#x27;, &#x27;2010-06-01T00:00:00.000000000&#x27;,\n",
       "       &#x27;2010-07-01T00:00:00.000000000&#x27;, &#x27;2010-08-01T00:00:00.000000000&#x27;,\n",
       "       &#x27;2010-09-01T00:00:00.000000000&#x27;, &#x27;2010-10-01T00:00:00.000000000&#x27;,\n",
       "       &#x27;2010-11-01T00:00:00.000000000&#x27;, &#x27;2010-12-01T00:00:00.000000000&#x27;,\n",
       "       &#x27;2011-01-01T00:00:00.000000000&#x27;, &#x27;2011-02-01T00:00:00.000000000&#x27;,\n",
       "       &#x27;2011-03-01T00:00:00.000000000&#x27;, &#x27;2011-04-01T00:00:00.000000000&#x27;,\n",
       "       &#x27;2011-05-01T00:00:00.000000000&#x27;, &#x27;2011-06-01T00:00:00.000000000&#x27;,\n",
       "       &#x27;2011-07-01T00:00:00.000000000&#x27;, &#x27;2011-08-01T00:00:00.000000000&#x27;,\n",
       "       &#x27;2011-09-01T00:00:00.000000000&#x27;, &#x27;2011-10-01T00:00:00.000000000&#x27;,\n",
       "       &#x27;2011-11-01T00:00:00.000000000&#x27;, &#x27;2011-12-01T00:00:00.000000000&#x27;,\n",
       "       &#x27;2012-01-01T00:00:00.000000000&#x27;, &#x27;2012-02-01T00:00:00.000000000&#x27;,\n",
       "       &#x27;2012-03-01T00:00:00.000000000&#x27;, &#x27;2012-04-01T00:00:00.000000000&#x27;,\n",
       "       &#x27;2012-05-01T00:00:00.000000000&#x27;, &#x27;2012-06-01T00:00:00.000000000&#x27;,\n",
       "       &#x27;2012-07-01T00:00:00.000000000&#x27;, &#x27;2012-08-01T00:00:00.000000000&#x27;,\n",
       "       &#x27;2012-09-01T00:00:00.000000000&#x27;, &#x27;2012-10-01T00:00:00.000000000&#x27;,\n",
       "       &#x27;2012-11-01T00:00:00.000000000&#x27;, &#x27;2012-12-01T00:00:00.000000000&#x27;,\n",
       "       &#x27;2013-01-01T00:00:00.000000000&#x27;, &#x27;2013-02-01T00:00:00.000000000&#x27;,\n",
       "       &#x27;2013-03-01T00:00:00.000000000&#x27;, &#x27;2013-04-01T00:00:00.000000000&#x27;,\n",
       "       &#x27;2013-05-01T00:00:00.000000000&#x27;, &#x27;2013-06-01T00:00:00.000000000&#x27;,\n",
       "       &#x27;2013-07-01T00:00:00.000000000&#x27;, &#x27;2013-08-01T00:00:00.000000000&#x27;,\n",
       "       &#x27;2013-09-01T00:00:00.000000000&#x27;, &#x27;2013-10-01T00:00:00.000000000&#x27;,\n",
       "       &#x27;2013-11-01T00:00:00.000000000&#x27;, &#x27;2013-12-01T00:00:00.000000000&#x27;,\n",
       "       &#x27;2014-01-01T00:00:00.000000000&#x27;, &#x27;2014-02-01T00:00:00.000000000&#x27;,\n",
       "       &#x27;2014-03-01T00:00:00.000000000&#x27;, &#x27;2014-04-01T00:00:00.000000000&#x27;,\n",
       "       &#x27;2014-05-01T00:00:00.000000000&#x27;, &#x27;2014-06-01T00:00:00.000000000&#x27;,\n",
       "       &#x27;2014-07-01T00:00:00.000000000&#x27;, &#x27;2014-08-01T00:00:00.000000000&#x27;,\n",
       "       &#x27;2014-09-01T00:00:00.000000000&#x27;, &#x27;2014-10-01T00:00:00.000000000&#x27;,\n",
       "       &#x27;2014-11-01T00:00:00.000000000&#x27;, &#x27;2014-12-01T00:00:00.000000000&#x27;,\n",
       "       &#x27;2015-01-01T00:00:00.000000000&#x27;, &#x27;2015-02-01T00:00:00.000000000&#x27;,\n",
       "       &#x27;2015-03-01T00:00:00.000000000&#x27;, &#x27;2015-04-01T00:00:00.000000000&#x27;,\n",
       "       &#x27;2015-05-01T00:00:00.000000000&#x27;, &#x27;2015-06-01T00:00:00.000000000&#x27;,\n",
       "       &#x27;2015-07-01T00:00:00.000000000&#x27;, &#x27;2015-08-01T00:00:00.000000000&#x27;,\n",
       "       &#x27;2015-09-01T00:00:00.000000000&#x27;, &#x27;2015-10-01T00:00:00.000000000&#x27;,\n",
       "       &#x27;2015-11-01T00:00:00.000000000&#x27;, &#x27;2015-12-01T00:00:00.000000000&#x27;,\n",
       "       &#x27;2016-01-01T00:00:00.000000000&#x27;, &#x27;2016-02-01T00:00:00.000000000&#x27;,\n",
       "       &#x27;2016-03-01T00:00:00.000000000&#x27;, &#x27;2016-04-01T00:00:00.000000000&#x27;,\n",
       "       &#x27;2016-05-01T00:00:00.000000000&#x27;, &#x27;2016-06-01T00:00:00.000000000&#x27;,\n",
       "       &#x27;2016-07-01T00:00:00.000000000&#x27;, &#x27;2016-08-01T00:00:00.000000000&#x27;,\n",
       "       &#x27;2016-09-01T00:00:00.000000000&#x27;, &#x27;2016-10-01T00:00:00.000000000&#x27;,\n",
       "       &#x27;2016-11-01T00:00:00.000000000&#x27;, &#x27;2016-12-01T00:00:00.000000000&#x27;,\n",
       "       &#x27;2017-01-01T00:00:00.000000000&#x27;, &#x27;2017-02-01T00:00:00.000000000&#x27;,\n",
       "       &#x27;2017-03-01T00:00:00.000000000&#x27;, &#x27;2017-04-01T00:00:00.000000000&#x27;,\n",
       "       &#x27;2017-05-01T00:00:00.000000000&#x27;, &#x27;2017-06-01T00:00:00.000000000&#x27;,\n",
       "       &#x27;2017-07-01T00:00:00.000000000&#x27;, &#x27;2017-08-01T00:00:00.000000000&#x27;,\n",
       "       &#x27;2017-09-01T00:00:00.000000000&#x27;, &#x27;2017-10-01T00:00:00.000000000&#x27;,\n",
       "       &#x27;2017-11-01T00:00:00.000000000&#x27;, &#x27;2017-12-01T00:00:00.000000000&#x27;,\n",
       "       &#x27;2018-01-01T00:00:00.000000000&#x27;, &#x27;2018-02-01T00:00:00.000000000&#x27;,\n",
       "       &#x27;2018-03-01T00:00:00.000000000&#x27;, &#x27;2018-04-01T00:00:00.000000000&#x27;,\n",
       "       &#x27;2018-05-01T00:00:00.000000000&#x27;, &#x27;2018-06-01T00:00:00.000000000&#x27;,\n",
       "       &#x27;2018-07-01T00:00:00.000000000&#x27;, &#x27;2018-08-01T00:00:00.000000000&#x27;,\n",
       "       &#x27;2018-09-01T00:00:00.000000000&#x27;, &#x27;2018-10-01T00:00:00.000000000&#x27;,\n",
       "       &#x27;2018-11-01T00:00:00.000000000&#x27;, &#x27;2018-12-01T00:00:00.000000000&#x27;,\n",
       "       &#x27;2019-01-01T00:00:00.000000000&#x27;, &#x27;2019-02-01T00:00:00.000000000&#x27;,\n",
       "       &#x27;2019-03-01T00:00:00.000000000&#x27;, &#x27;2019-04-01T00:00:00.000000000&#x27;,\n",
       "       &#x27;2019-05-01T00:00:00.000000000&#x27;, &#x27;2019-06-01T00:00:00.000000000&#x27;,\n",
       "       &#x27;2019-07-01T00:00:00.000000000&#x27;, &#x27;2019-08-01T00:00:00.000000000&#x27;,\n",
       "       &#x27;2019-09-01T00:00:00.000000000&#x27;, &#x27;2019-10-01T00:00:00.000000000&#x27;,\n",
       "       &#x27;2019-11-01T00:00:00.000000000&#x27;, &#x27;2019-12-01T00:00:00.000000000&#x27;,\n",
       "       &#x27;2020-01-01T00:00:00.000000000&#x27;, &#x27;2020-02-01T00:00:00.000000000&#x27;,\n",
       "       &#x27;2020-03-01T00:00:00.000000000&#x27;, &#x27;2020-04-01T00:00:00.000000000&#x27;,\n",
       "       &#x27;2020-05-01T00:00:00.000000000&#x27;, &#x27;2020-06-01T00:00:00.000000000&#x27;,\n",
       "       &#x27;2020-07-01T00:00:00.000000000&#x27;, &#x27;2020-08-01T00:00:00.000000000&#x27;],\n",
       "      dtype=&#x27;datetime64[ns]&#x27;)\n",
       "Coordinates:\n",
       "  * time     (time) datetime64[ns] 1kB 2010-01-01 2010-02-01 ... 2020-08-01\n",
       "Attributes:\n",
       "    long_name:        Time\n",
       "    delta_t:          0000-01-00 00:00:00\n",
       "    avg_period:       0000-01-00 00:00:00\n",
       "    prev_avg_period:  0000-00-07 00:00:00\n",
       "    standard_name:    time\n",
       "    axis:             T\n",
       "    actual_range:     [19723. 80566.]</pre>"
      ],
      "text/plain": [
       "<xarray.DataArray 'time' (time: 128)> Size: 1kB\n",
       "array(['2010-01-01T00:00:00.000000000', '2010-02-01T00:00:00.000000000',\n",
       "       '2010-03-01T00:00:00.000000000', '2010-04-01T00:00:00.000000000',\n",
       "       '2010-05-01T00:00:00.000000000', '2010-06-01T00:00:00.000000000',\n",
       "       '2010-07-01T00:00:00.000000000', '2010-08-01T00:00:00.000000000',\n",
       "       '2010-09-01T00:00:00.000000000', '2010-10-01T00:00:00.000000000',\n",
       "       '2010-11-01T00:00:00.000000000', '2010-12-01T00:00:00.000000000',\n",
       "       '2011-01-01T00:00:00.000000000', '2011-02-01T00:00:00.000000000',\n",
       "       '2011-03-01T00:00:00.000000000', '2011-04-01T00:00:00.000000000',\n",
       "       '2011-05-01T00:00:00.000000000', '2011-06-01T00:00:00.000000000',\n",
       "       '2011-07-01T00:00:00.000000000', '2011-08-01T00:00:00.000000000',\n",
       "       '2011-09-01T00:00:00.000000000', '2011-10-01T00:00:00.000000000',\n",
       "       '2011-11-01T00:00:00.000000000', '2011-12-01T00:00:00.000000000',\n",
       "       '2012-01-01T00:00:00.000000000', '2012-02-01T00:00:00.000000000',\n",
       "       '2012-03-01T00:00:00.000000000', '2012-04-01T00:00:00.000000000',\n",
       "       '2012-05-01T00:00:00.000000000', '2012-06-01T00:00:00.000000000',\n",
       "       '2012-07-01T00:00:00.000000000', '2012-08-01T00:00:00.000000000',\n",
       "       '2012-09-01T00:00:00.000000000', '2012-10-01T00:00:00.000000000',\n",
       "       '2012-11-01T00:00:00.000000000', '2012-12-01T00:00:00.000000000',\n",
       "       '2013-01-01T00:00:00.000000000', '2013-02-01T00:00:00.000000000',\n",
       "       '2013-03-01T00:00:00.000000000', '2013-04-01T00:00:00.000000000',\n",
       "       '2013-05-01T00:00:00.000000000', '2013-06-01T00:00:00.000000000',\n",
       "       '2013-07-01T00:00:00.000000000', '2013-08-01T00:00:00.000000000',\n",
       "       '2013-09-01T00:00:00.000000000', '2013-10-01T00:00:00.000000000',\n",
       "       '2013-11-01T00:00:00.000000000', '2013-12-01T00:00:00.000000000',\n",
       "       '2014-01-01T00:00:00.000000000', '2014-02-01T00:00:00.000000000',\n",
       "       '2014-03-01T00:00:00.000000000', '2014-04-01T00:00:00.000000000',\n",
       "       '2014-05-01T00:00:00.000000000', '2014-06-01T00:00:00.000000000',\n",
       "       '2014-07-01T00:00:00.000000000', '2014-08-01T00:00:00.000000000',\n",
       "       '2014-09-01T00:00:00.000000000', '2014-10-01T00:00:00.000000000',\n",
       "       '2014-11-01T00:00:00.000000000', '2014-12-01T00:00:00.000000000',\n",
       "       '2015-01-01T00:00:00.000000000', '2015-02-01T00:00:00.000000000',\n",
       "       '2015-03-01T00:00:00.000000000', '2015-04-01T00:00:00.000000000',\n",
       "       '2015-05-01T00:00:00.000000000', '2015-06-01T00:00:00.000000000',\n",
       "       '2015-07-01T00:00:00.000000000', '2015-08-01T00:00:00.000000000',\n",
       "       '2015-09-01T00:00:00.000000000', '2015-10-01T00:00:00.000000000',\n",
       "       '2015-11-01T00:00:00.000000000', '2015-12-01T00:00:00.000000000',\n",
       "       '2016-01-01T00:00:00.000000000', '2016-02-01T00:00:00.000000000',\n",
       "       '2016-03-01T00:00:00.000000000', '2016-04-01T00:00:00.000000000',\n",
       "       '2016-05-01T00:00:00.000000000', '2016-06-01T00:00:00.000000000',\n",
       "       '2016-07-01T00:00:00.000000000', '2016-08-01T00:00:00.000000000',\n",
       "       '2016-09-01T00:00:00.000000000', '2016-10-01T00:00:00.000000000',\n",
       "       '2016-11-01T00:00:00.000000000', '2016-12-01T00:00:00.000000000',\n",
       "       '2017-01-01T00:00:00.000000000', '2017-02-01T00:00:00.000000000',\n",
       "       '2017-03-01T00:00:00.000000000', '2017-04-01T00:00:00.000000000',\n",
       "       '2017-05-01T00:00:00.000000000', '2017-06-01T00:00:00.000000000',\n",
       "       '2017-07-01T00:00:00.000000000', '2017-08-01T00:00:00.000000000',\n",
       "       '2017-09-01T00:00:00.000000000', '2017-10-01T00:00:00.000000000',\n",
       "       '2017-11-01T00:00:00.000000000', '2017-12-01T00:00:00.000000000',\n",
       "       '2018-01-01T00:00:00.000000000', '2018-02-01T00:00:00.000000000',\n",
       "       '2018-03-01T00:00:00.000000000', '2018-04-01T00:00:00.000000000',\n",
       "       '2018-05-01T00:00:00.000000000', '2018-06-01T00:00:00.000000000',\n",
       "       '2018-07-01T00:00:00.000000000', '2018-08-01T00:00:00.000000000',\n",
       "       '2018-09-01T00:00:00.000000000', '2018-10-01T00:00:00.000000000',\n",
       "       '2018-11-01T00:00:00.000000000', '2018-12-01T00:00:00.000000000',\n",
       "       '2019-01-01T00:00:00.000000000', '2019-02-01T00:00:00.000000000',\n",
       "       '2019-03-01T00:00:00.000000000', '2019-04-01T00:00:00.000000000',\n",
       "       '2019-05-01T00:00:00.000000000', '2019-06-01T00:00:00.000000000',\n",
       "       '2019-07-01T00:00:00.000000000', '2019-08-01T00:00:00.000000000',\n",
       "       '2019-09-01T00:00:00.000000000', '2019-10-01T00:00:00.000000000',\n",
       "       '2019-11-01T00:00:00.000000000', '2019-12-01T00:00:00.000000000',\n",
       "       '2020-01-01T00:00:00.000000000', '2020-02-01T00:00:00.000000000',\n",
       "       '2020-03-01T00:00:00.000000000', '2020-04-01T00:00:00.000000000',\n",
       "       '2020-05-01T00:00:00.000000000', '2020-06-01T00:00:00.000000000',\n",
       "       '2020-07-01T00:00:00.000000000', '2020-08-01T00:00:00.000000000'],\n",
       "      dtype='datetime64[ns]')\n",
       "Coordinates:\n",
       "  * time     (time) datetime64[ns] 1kB 2010-01-01 2010-02-01 ... 2020-08-01\n",
       "Attributes:\n",
       "    long_name:        Time\n",
       "    delta_t:          0000-01-00 00:00:00\n",
       "    avg_period:       0000-01-00 00:00:00\n",
       "    prev_avg_period:  0000-00-07 00:00:00\n",
       "    standard_name:    time\n",
       "    axis:             T\n",
       "    actual_range:     [19723. 80566.]"
      ]
     },
     "execution_count": 20,
     "metadata": {},
     "output_type": "execute_result"
    }
   ],
   "source": [
    "# extrae una variable de las coordenadas de .coords\n",
    "ds.coords[\"time\"]"
   ]
  },
  {
   "cell_type": "markdown",
   "metadata": {},
   "source": [
    "#### Atributos\n",
    "\n",
    "Se pueden usar para guardar metadatos. ¿Cuáles? Pues depende de tu dominio y tus necesidades."
   ]
  },
  {
   "cell_type": "code",
   "execution_count": 21,
   "metadata": {},
   "outputs": [
    {
     "data": {
      "text/plain": [
       "{'climatology': 'Climatology is based on 1971-2000 SST, Xue, Y., T. M. Smith, and R. W. Reynolds, 2003: Interdecadal changes of 30-yr SST normals during 1871.2000. Journal of Climate, 16, 1601-1612.',\n",
       " 'description': 'In situ data: ICOADS2.5 before 2007 and NCEP in situ data from 2008 to present. Ice data: HadISST ice before 2010 and NCEP ice after 2010.',\n",
       " 'keywords_vocabulary': 'NASA Global Change Master Directory (GCMD) Science Keywords',\n",
       " 'keywords': 'Earth Science > Oceans > Ocean Temperature > Sea Surface Temperature >',\n",
       " 'instrument': 'Conventional thermometers',\n",
       " 'source_comment': 'SSTs were observed by conventional thermometers in Buckets (insulated or un-insulated canvas and wooded buckets) or Engine Room Intaker',\n",
       " 'geospatial_lon_min': np.float32(-1.0),\n",
       " 'geospatial_lon_max': np.float32(359.0),\n",
       " 'geospatial_laty_max': np.float32(89.0),\n",
       " 'geospatial_laty_min': np.float32(-89.0),\n",
       " 'geospatial_lat_max': np.float32(89.0),\n",
       " 'geospatial_lat_min': np.float32(-89.0),\n",
       " 'geospatial_lat_units': 'degrees_north',\n",
       " 'geospatial_lon_units': 'degrees_east',\n",
       " 'cdm_data_type': 'Grid',\n",
       " 'project': 'NOAA Extended Reconstructed Sea Surface Temperature (ERSST)',\n",
       " 'original_publisher_url': 'http://www.ncdc.noaa.gov',\n",
       " 'References': 'https://www.ncdc.noaa.gov/data-access/marineocean-data/extended-reconstructed-sea-surface-temperature-ersst-v5 at NCEI and http://www.esrl.noaa.gov/psd/data/gridded/data.noaa.ersst.v5.html',\n",
       " 'source': 'In situ data: ICOADS R3.0 before 2015, NCEP in situ GTS from 2016 to present, and Argo SST from 1999 to present. Ice data: HadISST2 ice before 2015, and NCEP ice after 2015',\n",
       " 'title': 'NOAA ERSSTv5 (in situ only)',\n",
       " 'history': \"created 07/2017 by PSD data using NCEI's ERSST V5 NetCDF values\",\n",
       " 'institution': 'This version written at NOAA/ESRL PSD: obtained from NOAA/NESDIS/National Centers for Environmental Information and time aggregated. Original Full Source: NOAA/NESDIS/NCEI/CCOG',\n",
       " 'citation': 'Huang et al, 2017: Extended Reconstructed Sea Surface Temperatures Version 5 (ERSSTv5): Upgrades, Validations, and Intercomparisons. Journal of Climate, https://doi.org/10.1175/JCLI-D-16-0836.1',\n",
       " 'platform': 'Ship and Buoy SSTs from ICOADS R3.0 and NCEP GTS',\n",
       " 'standard_name_vocabulary': 'CF Standard Name Table (v40, 25 January 2017)',\n",
       " 'processing_level': 'NOAA Level 4',\n",
       " 'Conventions': 'CF-1.6, ACDD-1.3',\n",
       " 'metadata_link': ':metadata_link = https://doi.org/10.7289/V5T72FNM (original format)',\n",
       " 'creator_name': 'Boyin Huang (original)',\n",
       " 'date_created': '2017-06-30T12:18:00Z (original)',\n",
       " 'product_version': 'Version 5',\n",
       " 'creator_url_original': 'https://www.ncei.noaa.gov',\n",
       " 'license': 'No constraints on data access or use',\n",
       " 'comment': 'SSTs were observed by conventional thermometers in Buckets (insulated or un-insulated canvas and wooded buckets), Engine Room Intakers, or floats and drifters',\n",
       " 'summary': 'ERSST.v5 is developed based on v4 after revisions of 8 parameters using updated data sets and advanced knowledge of ERSST analysis',\n",
       " 'dataset_title': 'NOAA Extended Reconstructed SST V5',\n",
       " 'data_modified': '2020-09-07'}"
      ]
     },
     "execution_count": 21,
     "metadata": {},
     "output_type": "execute_result"
    }
   ],
   "source": [
    "# Ver atributos globales\n",
    "ds.attrs"
   ]
  },
  {
   "cell_type": "code",
   "execution_count": 22,
   "metadata": {},
   "outputs": [
    {
     "data": {
      "text/plain": [
       "{'long_name': 'Monthly Means of Sea Surface Temperature',\n",
       " 'units': 'degC',\n",
       " 'var_desc': 'Sea Surface Temperature',\n",
       " 'level_desc': 'Surface',\n",
       " 'statistic': 'Mean',\n",
       " 'dataset': 'NOAA Extended Reconstructed SST V5',\n",
       " 'parent_stat': 'Individual Values',\n",
       " 'actual_range': array([-1.8    , 42.32636], dtype=float32),\n",
       " 'valid_range': array([-1.8, 45. ], dtype=float32)}"
      ]
     },
     "execution_count": 22,
     "metadata": {},
     "output_type": "execute_result"
    }
   ],
   "source": [
    "# Ver atributos específicos de una variable (sst)\n",
    "ds.sst.attrs"
   ]
  },
  {
   "cell_type": "code",
   "execution_count": 23,
   "metadata": {},
   "outputs": [
    {
     "data": {
      "text/plain": [
       "{'long_name': 'Monthly Means of Sea Surface Temperature',\n",
       " 'units': 'degC',\n",
       " 'var_desc': 'Sea Surface Temperature',\n",
       " 'level_desc': 'Surface',\n",
       " 'statistic': 'Mean',\n",
       " 'dataset': 'NOAA Extended Reconstructed SST V5',\n",
       " 'parent_stat': 'Individual Values',\n",
       " 'actual_range': array([-1.8    , 42.32636], dtype=float32),\n",
       " 'valid_range': array([-1.8, 45. ], dtype=float32),\n",
       " 'mi_atributo': 'verde'}"
      ]
     },
     "execution_count": 23,
     "metadata": {},
     "output_type": "execute_result"
    }
   ],
   "source": [
    "# Guardar algunos atributos arbitrarios en una variable de datos/dataArray\n",
    "ds.sst.attrs[\"mi_atributo\"] = \"verde\"\n",
    "ds.sst.attrs"
   ]
  },
  {
   "cell_type": "markdown",
   "metadata": {},
   "source": [
    "## Índices y selección de datos\n",
    "\n",
    "Este material proviene del tutorial [02_indexing.ipynb](https://github.com/xarray-contrib/xarray-tutorial/blob/master/online-tutorial-series/02_indexing.ipynb) de este [repositorio](https://github.com/xarray-contrib/xarray-tutorial). \n",
    "\n",
    "En esta sección aprenderemos a seleccionar datos de acuerdo a su posición (`.isel`), a sus coordenadas (`.sel`), series de tiempo por tiempo/fecha y a buscar el valor más cercano a otro usando `.sel`.\n",
    "\n",
    "¿Por qué necesitamos índices basados en etiquetas (digamos coordendas)?\n",
    "\n",
    "Hay etiquetas inherentes a los datos geofísicos. Por ejemplo, una sere de tiempo incluye \"estampas de tiempo\" o pasos de tiempo que etiquetan a cada punto de la serie; los datos en espacio tienen coordenadas o etiquetas que nos dicen en qué punto fue tomada cada medición (ej. lat, lon, elevación)."
   ]
  },
  {
   "cell_type": "markdown",
   "metadata": {},
   "source": [
    "### Índices posicionales en NumPy \n",
    "\n",
    "Como vimos en el notebook anterior, cuando trabajamos con NumPy, indizamos de acuerdo a la posición (rebanadas/intervalos/enteros):"
   ]
  },
  {
   "cell_type": "code",
   "execution_count": 24,
   "metadata": {},
   "outputs": [
    {
     "data": {
      "text/plain": [
       "array([[[-1.8, -1.8, -1.8, ..., -1.8, -1.8, -1.8],\n",
       "        [-1.8, -1.8, -1.8, ..., -1.8, -1.8, -1.8],\n",
       "        [-1.8, -1.8, -1.8, ..., -1.8, -1.8, -1.8],\n",
       "        ...,\n",
       "        [ nan,  nan,  nan, ...,  nan,  nan,  nan],\n",
       "        [ nan,  nan,  nan, ...,  nan,  nan,  nan],\n",
       "        [ nan,  nan,  nan, ...,  nan,  nan,  nan]],\n",
       "\n",
       "       [[-1.8, -1.8, -1.8, ..., -1.8, -1.8, -1.8],\n",
       "        [-1.8, -1.8, -1.8, ..., -1.8, -1.8, -1.8],\n",
       "        [-1.8, -1.8, -1.8, ..., -1.8, -1.8, -1.8],\n",
       "        ...,\n",
       "        [ nan,  nan,  nan, ...,  nan,  nan,  nan],\n",
       "        [ nan,  nan,  nan, ...,  nan,  nan,  nan],\n",
       "        [ nan,  nan,  nan, ...,  nan,  nan,  nan]],\n",
       "\n",
       "       [[-1.8, -1.8, -1.8, ..., -1.8, -1.8, -1.8],\n",
       "        [-1.8, -1.8, -1.8, ..., -1.8, -1.8, -1.8],\n",
       "        [-1.8, -1.8, -1.8, ..., -1.8, -1.8, -1.8],\n",
       "        ...,\n",
       "        [ nan,  nan,  nan, ...,  nan,  nan,  nan],\n",
       "        [ nan,  nan,  nan, ...,  nan,  nan,  nan],\n",
       "        [ nan,  nan,  nan, ...,  nan,  nan,  nan]],\n",
       "\n",
       "       ...,\n",
       "\n",
       "       [[-1.8, -1.8, -1.8, ..., -1.8, -1.8, -1.8],\n",
       "        [-1.8, -1.8, -1.8, ..., -1.8, -1.8, -1.8],\n",
       "        [-1.8, -1.8, -1.8, ..., -1.8, -1.8, -1.8],\n",
       "        ...,\n",
       "        [ nan,  nan,  nan, ...,  nan,  nan,  nan],\n",
       "        [ nan,  nan,  nan, ...,  nan,  nan,  nan],\n",
       "        [ nan,  nan,  nan, ...,  nan,  nan,  nan]],\n",
       "\n",
       "       [[-1.8, -1.8, -1.8, ..., -1.8, -1.8, -1.8],\n",
       "        [-1.8, -1.8, -1.8, ..., -1.8, -1.8, -1.8],\n",
       "        [-1.8, -1.8, -1.8, ..., -1.8, -1.8, -1.8],\n",
       "        ...,\n",
       "        [ nan,  nan,  nan, ...,  nan,  nan,  nan],\n",
       "        [ nan,  nan,  nan, ...,  nan,  nan,  nan],\n",
       "        [ nan,  nan,  nan, ...,  nan,  nan,  nan]],\n",
       "\n",
       "       [[-1.8, -1.8, -1.8, ..., -1.8, -1.8, -1.8],\n",
       "        [-1.8, -1.8, -1.8, ..., -1.8, -1.8, -1.8],\n",
       "        [-1.8, -1.8, -1.8, ..., -1.8, -1.8, -1.8],\n",
       "        ...,\n",
       "        [ nan,  nan,  nan, ...,  nan,  nan,  nan],\n",
       "        [ nan,  nan,  nan, ...,  nan,  nan,  nan],\n",
       "        [ nan,  nan,  nan, ...,  nan,  nan,  nan]]],\n",
       "      shape=(128, 89, 180), dtype=float32)"
      ]
     },
     "execution_count": 24,
     "metadata": {},
     "output_type": "execute_result"
    }
   ],
   "source": [
    "t = ds[\"sst\"].data  # toma los datos, arreglo de numpy \n",
    "t"
   ]
  },
  {
   "cell_type": "code",
   "execution_count": 25,
   "metadata": {},
   "outputs": [
    {
     "data": {
      "text/plain": [
       "(128, 89, 180)"
      ]
     },
     "execution_count": 25,
     "metadata": {},
     "output_type": "execute_result"
    }
   ],
   "source": [
    "t.shape # revisemos el tamaño del arreglo"
   ]
  },
  {
   "cell_type": "code",
   "execution_count": 26,
   "metadata": {},
   "outputs": [
    {
     "data": {
      "text/plain": [
       "array([nan, nan, nan, nan, nan, nan, nan, nan, nan, nan, nan, nan, nan,\n",
       "       nan, nan, nan, nan, nan, nan, nan, nan, nan, nan, nan, nan, nan,\n",
       "       nan, nan, nan, nan, nan, nan, nan, nan, nan, nan, nan, nan, nan,\n",
       "       nan, nan, nan, nan, nan, nan, nan, nan, nan, nan, nan, nan, nan,\n",
       "       nan, nan, nan, nan, nan, nan, nan, nan, nan, nan, nan, nan, nan,\n",
       "       nan, nan, nan, nan, nan, nan, nan, nan, nan, nan, nan, nan, nan,\n",
       "       nan, nan, nan, nan, nan, nan, nan, nan, nan, nan, nan, nan, nan,\n",
       "       nan, nan, nan, nan, nan, nan, nan, nan, nan, nan, nan, nan, nan,\n",
       "       nan, nan, nan, nan, nan, nan, nan, nan, nan, nan, nan, nan, nan,\n",
       "       nan, nan, nan, nan, nan, nan, nan, nan, nan, nan, nan],\n",
       "      dtype=float32)"
      ]
     },
     "execution_count": 26,
     "metadata": {},
     "output_type": "execute_result"
    }
   ],
   "source": [
    "# extraemos una serie de tiempo para una sola ubicación espacial índices (10, 20)\n",
    "t[:, 10, 20]"
   ]
  },
  {
   "cell_type": "markdown",
   "metadata": {},
   "source": [
    "Pero, ¿qué etiquetas le corresponden a 10 y 20? ¿Era lat/lon o lon/lat? ¿Dónde están las estampas de tiempo que van con esta serie de tiempo?"
   ]
  },
  {
   "cell_type": "markdown",
   "metadata": {},
   "source": [
    "### Indices en xarray\n",
    "\n",
    "xarray ofrece rutinas flexibles que combinan lo mejor de NumPy y [pandas](https://pandas.pydata.org/) para seleccionar datos:"
   ]
  },
  {
   "cell_type": "code",
   "execution_count": 27,
   "metadata": {},
   "outputs": [
    {
     "data": {
      "text/html": [
       "<pre>&lt;xarray.DataArray &#x27;sst&#x27; (time: 128, lat: 89, lon: 180)&gt; Size: 8MB\n",
       "array([[[-1.8, -1.8, ..., -1.8, -1.8],\n",
       "        [-1.8, -1.8, ..., -1.8, -1.8],\n",
       "        ...,\n",
       "        [ nan,  nan, ...,  nan,  nan],\n",
       "        [ nan,  nan, ...,  nan,  nan]],\n",
       "\n",
       "       [[-1.8, -1.8, ..., -1.8, -1.8],\n",
       "        [-1.8, -1.8, ..., -1.8, -1.8],\n",
       "        ...,\n",
       "        [ nan,  nan, ...,  nan,  nan],\n",
       "        [ nan,  nan, ...,  nan,  nan]],\n",
       "\n",
       "       ...,\n",
       "\n",
       "       [[-1.8, -1.8, ..., -1.8, -1.8],\n",
       "        [-1.8, -1.8, ..., -1.8, -1.8],\n",
       "        ...,\n",
       "        [ nan,  nan, ...,  nan,  nan],\n",
       "        [ nan,  nan, ...,  nan,  nan]],\n",
       "\n",
       "       [[-1.8, -1.8, ..., -1.8, -1.8],\n",
       "        [-1.8, -1.8, ..., -1.8, -1.8],\n",
       "        ...,\n",
       "        [ nan,  nan, ...,  nan,  nan],\n",
       "        [ nan,  nan, ...,  nan,  nan]]], shape=(128, 89, 180), dtype=float32)\n",
       "Coordinates:\n",
       "  * lat      (lat) float32 356B 88.0 86.0 84.0 82.0 ... -82.0 -84.0 -86.0 -88.0\n",
       "  * lon      (lon) float32 720B 0.0 2.0 4.0 6.0 8.0 ... 352.0 354.0 356.0 358.0\n",
       "  * time     (time) datetime64[ns] 1kB 2010-01-01 2010-02-01 ... 2020-08-01\n",
       "Attributes:\n",
       "    long_name:     Monthly Means of Sea Surface Temperature\n",
       "    units:         degC\n",
       "    var_desc:      Sea Surface Temperature\n",
       "    level_desc:    Surface\n",
       "    statistic:     Mean\n",
       "    dataset:       NOAA Extended Reconstructed SST V5\n",
       "    parent_stat:   Individual Values\n",
       "    actual_range:  [-1.8     42.32636]\n",
       "    valid_range:   [-1.8 45. ]\n",
       "    mi_atributo:   verde</pre>"
      ],
      "text/plain": [
       "<xarray.DataArray 'sst' (time: 128, lat: 89, lon: 180)> Size: 8MB\n",
       "array([[[-1.8, -1.8, ..., -1.8, -1.8],\n",
       "        [-1.8, -1.8, ..., -1.8, -1.8],\n",
       "        ...,\n",
       "        [ nan,  nan, ...,  nan,  nan],\n",
       "        [ nan,  nan, ...,  nan,  nan]],\n",
       "\n",
       "       [[-1.8, -1.8, ..., -1.8, -1.8],\n",
       "        [-1.8, -1.8, ..., -1.8, -1.8],\n",
       "        ...,\n",
       "        [ nan,  nan, ...,  nan,  nan],\n",
       "        [ nan,  nan, ...,  nan,  nan]],\n",
       "\n",
       "       ...,\n",
       "\n",
       "       [[-1.8, -1.8, ..., -1.8, -1.8],\n",
       "        [-1.8, -1.8, ..., -1.8, -1.8],\n",
       "        ...,\n",
       "        [ nan,  nan, ...,  nan,  nan],\n",
       "        [ nan,  nan, ...,  nan,  nan]],\n",
       "\n",
       "       [[-1.8, -1.8, ..., -1.8, -1.8],\n",
       "        [-1.8, -1.8, ..., -1.8, -1.8],\n",
       "        ...,\n",
       "        [ nan,  nan, ...,  nan,  nan],\n",
       "        [ nan,  nan, ...,  nan,  nan]]], shape=(128, 89, 180), dtype=float32)\n",
       "Coordinates:\n",
       "  * lat      (lat) float32 356B 88.0 86.0 84.0 82.0 ... -82.0 -84.0 -86.0 -88.0\n",
       "  * lon      (lon) float32 720B 0.0 2.0 4.0 6.0 8.0 ... 352.0 354.0 356.0 358.0\n",
       "  * time     (time) datetime64[ns] 1kB 2010-01-01 2010-02-01 ... 2020-08-01\n",
       "Attributes:\n",
       "    long_name:     Monthly Means of Sea Surface Temperature\n",
       "    units:         degC\n",
       "    var_desc:      Sea Surface Temperature\n",
       "    level_desc:    Surface\n",
       "    statistic:     Mean\n",
       "    dataset:       NOAA Extended Reconstructed SST V5\n",
       "    parent_stat:   Individual Values\n",
       "    actual_range:  [-1.8     42.32636]\n",
       "    valid_range:   [-1.8 45. ]\n",
       "    mi_atributo:   verde"
      ]
     },
     "execution_count": 27,
     "metadata": {},
     "output_type": "execute_result"
    }
   ],
   "source": [
    "da = ds[\"sst\"]  # Extrae arreglo de datos de la variable sst (DataArray)\n",
    "da"
   ]
  },
  {
   "cell_type": "markdown",
   "metadata": {},
   "source": [
    "* Los índices estilo NumPy aún funcionan en el Data Array, pero ahora se preservaron las etiquetas y metadatos:"
   ]
  },
  {
   "cell_type": "code",
   "execution_count": 28,
   "metadata": {},
   "outputs": [
    {
     "data": {
      "text/html": [
       "<pre>&lt;xarray.DataArray &#x27;sst&#x27; (time: 128)&gt; Size: 512B\n",
       "array([nan, nan, nan, nan, nan, nan, nan, nan, nan, nan, nan, nan, nan, nan,\n",
       "       nan, nan, nan, nan, nan, nan, nan, nan, nan, nan, nan, nan, nan, nan,\n",
       "       nan, nan, nan, nan, nan, nan, nan, nan, nan, nan, nan, nan, nan, nan,\n",
       "       nan, nan, nan, nan, nan, nan, nan, nan, nan, nan, nan, nan, nan, nan,\n",
       "       nan, nan, nan, nan, nan, nan, nan, nan, nan, nan, nan, nan, nan, nan,\n",
       "       nan, nan, nan, nan, nan, nan, nan, nan, nan, nan, nan, nan, nan, nan,\n",
       "       nan, nan, nan, nan, nan, nan, nan, nan, nan, nan, nan, nan, nan, nan,\n",
       "       nan, nan, nan, nan, nan, nan, nan, nan, nan, nan, nan, nan, nan, nan,\n",
       "       nan, nan, nan, nan, nan, nan, nan, nan, nan, nan, nan, nan, nan, nan,\n",
       "       nan, nan], dtype=float32)\n",
       "Coordinates:\n",
       "    lat      float32 4B 48.0\n",
       "    lon      float32 4B 80.0\n",
       "  * time     (time) datetime64[ns] 1kB 2010-01-01 2010-02-01 ... 2020-08-01\n",
       "Attributes:\n",
       "    long_name:     Monthly Means of Sea Surface Temperature\n",
       "    units:         degC\n",
       "    var_desc:      Sea Surface Temperature\n",
       "    level_desc:    Surface\n",
       "    statistic:     Mean\n",
       "    dataset:       NOAA Extended Reconstructed SST V5\n",
       "    parent_stat:   Individual Values\n",
       "    actual_range:  [-1.8     42.32636]\n",
       "    valid_range:   [-1.8 45. ]\n",
       "    mi_atributo:   verde</pre>"
      ],
      "text/plain": [
       "<xarray.DataArray 'sst' (time: 128)> Size: 512B\n",
       "array([nan, nan, nan, nan, nan, nan, nan, nan, nan, nan, nan, nan, nan, nan,\n",
       "       nan, nan, nan, nan, nan, nan, nan, nan, nan, nan, nan, nan, nan, nan,\n",
       "       nan, nan, nan, nan, nan, nan, nan, nan, nan, nan, nan, nan, nan, nan,\n",
       "       nan, nan, nan, nan, nan, nan, nan, nan, nan, nan, nan, nan, nan, nan,\n",
       "       nan, nan, nan, nan, nan, nan, nan, nan, nan, nan, nan, nan, nan, nan,\n",
       "       nan, nan, nan, nan, nan, nan, nan, nan, nan, nan, nan, nan, nan, nan,\n",
       "       nan, nan, nan, nan, nan, nan, nan, nan, nan, nan, nan, nan, nan, nan,\n",
       "       nan, nan, nan, nan, nan, nan, nan, nan, nan, nan, nan, nan, nan, nan,\n",
       "       nan, nan, nan, nan, nan, nan, nan, nan, nan, nan, nan, nan, nan, nan,\n",
       "       nan, nan], dtype=float32)\n",
       "Coordinates:\n",
       "    lat      float32 4B 48.0\n",
       "    lon      float32 4B 80.0\n",
       "  * time     (time) datetime64[ns] 1kB 2010-01-01 2010-02-01 ... 2020-08-01\n",
       "Attributes:\n",
       "    long_name:     Monthly Means of Sea Surface Temperature\n",
       "    units:         degC\n",
       "    var_desc:      Sea Surface Temperature\n",
       "    level_desc:    Surface\n",
       "    statistic:     Mean\n",
       "    dataset:       NOAA Extended Reconstructed SST V5\n",
       "    parent_stat:   Individual Values\n",
       "    actual_range:  [-1.8     42.32636]\n",
       "    valid_range:   [-1.8 45. ]\n",
       "    mi_atributo:   verde"
      ]
     },
     "execution_count": 28,
     "metadata": {},
     "output_type": "execute_result"
    }
   ],
   "source": [
    "da[:, 20, 40]"
   ]
  },
  {
   "cell_type": "markdown",
   "metadata": {},
   "source": [
    "Podemos seleccionar datos posicionalmente utilizando directamente el nombre de la dimensión: "
   ]
  },
  {
   "cell_type": "code",
   "execution_count": 29,
   "metadata": {},
   "outputs": [
    {
     "data": {
      "text/plain": [
       "[<matplotlib.lines.Line2D at 0x30b62df70>]"
      ]
     },
     "execution_count": 29,
     "metadata": {},
     "output_type": "execute_result"
    },
    {
     "data": {
      "image/png": "[encoded data removed]",
      "text/plain": [
       "<Figure size 640x480 with 1 Axes>"
      ]
     },
     "metadata": {},
     "output_type": "display_data"
    }
   ],
   "source": [
    "# selecciona todo en la posición 60 (índice 60) a lo largo de la dimensión lat y la \n",
    "# posición 40 a lo largo de la dimensión lon y grafica\n",
    "da.isel(lat=60, lon=40).plot() "
   ]
  },
  {
   "cell_type": "markdown",
   "metadata": {},
   "source": [
    "Podemos usar las etiquetas para indizar:"
   ]
  },
  {
   "cell_type": "code",
   "execution_count": 30,
   "metadata": {},
   "outputs": [
    {
     "data": {
      "text/plain": [
       "[<matplotlib.lines.Line2D at 0x30b59e3c0>]"
      ]
     },
     "execution_count": 30,
     "metadata": {},
     "output_type": "execute_result"
    },
    {
     "data": {
      "image/png": "[encoded data removed]",
      "text/plain": [
       "<Figure size 640x480 with 1 Axes>"
      ]
     },
     "metadata": {},
     "output_type": "display_data"
    }
   ],
   "source": [
    "da.sel(lat=-32, lon=80).plot()"
   ]
  },
  {
   "cell_type": "code",
   "execution_count": 31,
   "metadata": {},
   "outputs": [
    {
     "data": {
      "text/html": [
       "<pre>&lt;xarray.DataArray &#x27;sst&#x27; (time: 8)&gt; Size: 32B\n",
       "array([ 5.501727,  5.015851,  4.808821,  5.837058,  7.285223,  8.64473 ,\n",
       "       11.524967, 12.405846], dtype=float32)\n",
       "Coordinates:\n",
       "    lat      float32 4B 50.0\n",
       "    lon      float32 4B 200.0\n",
       "  * time     (time) datetime64[ns] 64B 2020-01-01 2020-02-01 ... 2020-08-01\n",
       "Attributes:\n",
       "    long_name:     Monthly Means of Sea Surface Temperature\n",
       "    units:         degC\n",
       "    var_desc:      Sea Surface Temperature\n",
       "    level_desc:    Surface\n",
       "    statistic:     Mean\n",
       "    dataset:       NOAA Extended Reconstructed SST V5\n",
       "    parent_stat:   Individual Values\n",
       "    actual_range:  [-1.8     42.32636]\n",
       "    valid_range:   [-1.8 45. ]\n",
       "    mi_atributo:   verde</pre>"
      ],
      "text/plain": [
       "<xarray.DataArray 'sst' (time: 8)> Size: 32B\n",
       "array([ 5.501727,  5.015851,  4.808821,  5.837058,  7.285223,  8.64473 ,\n",
       "       11.524967, 12.405846], dtype=float32)\n",
       "Coordinates:\n",
       "    lat      float32 4B 50.0\n",
       "    lon      float32 4B 200.0\n",
       "  * time     (time) datetime64[ns] 64B 2020-01-01 2020-02-01 ... 2020-08-01\n",
       "Attributes:\n",
       "    long_name:     Monthly Means of Sea Surface Temperature\n",
       "    units:         degC\n",
       "    var_desc:      Sea Surface Temperature\n",
       "    level_desc:    Surface\n",
       "    statistic:     Mean\n",
       "    dataset:       NOAA Extended Reconstructed SST V5\n",
       "    parent_stat:   Individual Values\n",
       "    actual_range:  [-1.8     42.32636]\n",
       "    valid_range:   [-1.8 45. ]\n",
       "    mi_atributo:   verde"
      ]
     },
     "execution_count": 31,
     "metadata": {},
     "output_type": "execute_result"
    }
   ],
   "source": [
    "da.sel(lat=50.0, lon=200.0, time=\"2020\")"
   ]
  },
  {
   "cell_type": "code",
   "execution_count": 32,
   "metadata": {},
   "outputs": [
    {
     "data": {
      "text/html": [
       "<pre>&lt;xarray.Dataset&gt; Size: 962kB\n",
       "Dimensions:  (time: 15, lat: 89, lon: 180)\n",
       "Coordinates:\n",
       "  * lat      (lat) float32 356B 88.0 86.0 84.0 82.0 ... -82.0 -84.0 -86.0 -88.0\n",
       "  * lon      (lon) float32 720B 0.0 2.0 4.0 6.0 8.0 ... 352.0 354.0 356.0 358.0\n",
       "  * time     (time) datetime64[ns] 120B 2019-05-01 2019-06-01 ... 2020-07-01\n",
       "Data variables:\n",
       "    sst      (time, lat, lon) float32 961kB -1.8 -1.8 -1.8 -1.8 ... nan nan nan\n",
       "Attributes: (12/37)\n",
       "    climatology:               Climatology is based on 1971-2000 SST, Xue, Y....\n",
       "    description:               In situ data: ICOADS2.5 before 2007 and NCEP i...\n",
       "    keywords_vocabulary:       NASA Global Change Master Directory (GCMD) Sci...\n",
       "    keywords:                  Earth Science &gt; Oceans &gt; Ocean Temperature &gt; S...\n",
       "    instrument:                Conventional thermometers\n",
       "    source_comment:            SSTs were observed by conventional thermometer...\n",
       "    ...                        ...\n",
       "    creator_url_original:      https://www.ncei.noaa.gov\n",
       "    license:                   No constraints on data access or use\n",
       "    comment:                   SSTs were observed by conventional thermometer...\n",
       "    summary:                   ERSST.v5 is developed based on v4 after revisi...\n",
       "    dataset_title:             NOAA Extended Reconstructed SST V5\n",
       "    data_modified:             2020-09-07</pre>"
      ],
      "text/plain": [
       "<xarray.Dataset> Size: 962kB\n",
       "Dimensions:  (time: 15, lat: 89, lon: 180)\n",
       "Coordinates:\n",
       "  * lat      (lat) float32 356B 88.0 86.0 84.0 82.0 ... -82.0 -84.0 -86.0 -88.0\n",
       "  * lon      (lon) float32 720B 0.0 2.0 4.0 6.0 8.0 ... 352.0 354.0 356.0 358.0\n",
       "  * time     (time) datetime64[ns] 120B 2019-05-01 2019-06-01 ... 2020-07-01\n",
       "Data variables:\n",
       "    sst      (time, lat, lon) float32 961kB -1.8 -1.8 -1.8 -1.8 ... nan nan nan\n",
       "Attributes: (12/37)\n",
       "    climatology:               Climatology is based on 1971-2000 SST, Xue, Y....\n",
       "    description:               In situ data: ICOADS2.5 before 2007 and NCEP i...\n",
       "    keywords_vocabulary:       NASA Global Change Master Directory (GCMD) Sci...\n",
       "    keywords:                  Earth Science > Oceans > Ocean Temperature > S...\n",
       "    instrument:                Conventional thermometers\n",
       "    source_comment:            SSTs were observed by conventional thermometer...\n",
       "    ...                        ...\n",
       "    creator_url_original:      https://www.ncei.noaa.gov\n",
       "    license:                   No constraints on data access or use\n",
       "    comment:                   SSTs were observed by conventional thermometer...\n",
       "    summary:                   ERSST.v5 is developed based on v4 after revisi...\n",
       "    dataset_title:             NOAA Extended Reconstructed SST V5\n",
       "    data_modified:             2020-09-07"
      ]
     },
     "execution_count": 32,
     "metadata": {},
     "output_type": "execute_result"
    }
   ],
   "source": [
    "# Ejemplo de \"slicing\" (tomar una rebanada de los datos)\n",
    "\n",
    "ds.sel(time=slice(\"2019-05\", \"2020-07\"))"
   ]
  },
  {
   "cell_type": "markdown",
   "metadata": {},
   "source": [
    "#### Encontrar el valor más cercano \n",
    "\n",
    "Podemos encontrar el dato más cercano a una posición (en tiepo o espacio) usando el método de vecinos más cercanos o \"nearest neighbors\":"
   ]
  },
  {
   "cell_type": "code",
   "execution_count": 33,
   "metadata": {},
   "outputs": [
    {
     "data": {
      "text/html": [
       "<pre>&lt;xarray.DataArray &#x27;sst&#x27; (time: 128)&gt; Size: 512B\n",
       "array([nan, nan, nan, nan, nan, nan, nan, nan, nan, nan, nan, nan, nan, nan,\n",
       "       nan, nan, nan, nan, nan, nan, nan, nan, nan, nan, nan, nan, nan, nan,\n",
       "       nan, nan, nan, nan, nan, nan, nan, nan, nan, nan, nan, nan, nan, nan,\n",
       "       nan, nan, nan, nan, nan, nan, nan, nan, nan, nan, nan, nan, nan, nan,\n",
       "       nan, nan, nan, nan, nan, nan, nan, nan, nan, nan, nan, nan, nan, nan,\n",
       "       nan, nan, nan, nan, nan, nan, nan, nan, nan, nan, nan, nan, nan, nan,\n",
       "       nan, nan, nan, nan, nan, nan, nan, nan, nan, nan, nan, nan, nan, nan,\n",
       "       nan, nan, nan, nan, nan, nan, nan, nan, nan, nan, nan, nan, nan, nan,\n",
       "       nan, nan, nan, nan, nan, nan, nan, nan, nan, nan, nan, nan, nan, nan,\n",
       "       nan, nan], dtype=float32)\n",
       "Coordinates:\n",
       "    lat      float32 4B 52.0\n",
       "    lon      float32 4B 252.0\n",
       "  * time     (time) datetime64[ns] 1kB 2010-01-01 2010-02-01 ... 2020-08-01\n",
       "Attributes:\n",
       "    long_name:     Monthly Means of Sea Surface Temperature\n",
       "    units:         degC\n",
       "    var_desc:      Sea Surface Temperature\n",
       "    level_desc:    Surface\n",
       "    statistic:     Mean\n",
       "    dataset:       NOAA Extended Reconstructed SST V5\n",
       "    parent_stat:   Individual Values\n",
       "    actual_range:  [-1.8     42.32636]\n",
       "    valid_range:   [-1.8 45. ]\n",
       "    mi_atributo:   verde</pre>"
      ],
      "text/plain": [
       "<xarray.DataArray 'sst' (time: 128)> Size: 512B\n",
       "array([nan, nan, nan, nan, nan, nan, nan, nan, nan, nan, nan, nan, nan, nan,\n",
       "       nan, nan, nan, nan, nan, nan, nan, nan, nan, nan, nan, nan, nan, nan,\n",
       "       nan, nan, nan, nan, nan, nan, nan, nan, nan, nan, nan, nan, nan, nan,\n",
       "       nan, nan, nan, nan, nan, nan, nan, nan, nan, nan, nan, nan, nan, nan,\n",
       "       nan, nan, nan, nan, nan, nan, nan, nan, nan, nan, nan, nan, nan, nan,\n",
       "       nan, nan, nan, nan, nan, nan, nan, nan, nan, nan, nan, nan, nan, nan,\n",
       "       nan, nan, nan, nan, nan, nan, nan, nan, nan, nan, nan, nan, nan, nan,\n",
       "       nan, nan, nan, nan, nan, nan, nan, nan, nan, nan, nan, nan, nan, nan,\n",
       "       nan, nan, nan, nan, nan, nan, nan, nan, nan, nan, nan, nan, nan, nan,\n",
       "       nan, nan], dtype=float32)\n",
       "Coordinates:\n",
       "    lat      float32 4B 52.0\n",
       "    lon      float32 4B 252.0\n",
       "  * time     (time) datetime64[ns] 1kB 2010-01-01 2010-02-01 ... 2020-08-01\n",
       "Attributes:\n",
       "    long_name:     Monthly Means of Sea Surface Temperature\n",
       "    units:         degC\n",
       "    var_desc:      Sea Surface Temperature\n",
       "    level_desc:    Surface\n",
       "    statistic:     Mean\n",
       "    dataset:       NOAA Extended Reconstructed SST V5\n",
       "    parent_stat:   Individual Values\n",
       "    actual_range:  [-1.8     42.32636]\n",
       "    valid_range:   [-1.8 45. ]\n",
       "    mi_atributo:   verde"
      ]
     },
     "execution_count": 33,
     "metadata": {},
     "output_type": "execute_result"
    }
   ],
   "source": [
    "da.sel(lat=52.25, lon=251.8998, method=\"nearest\")"
   ]
  },
  {
   "cell_type": "markdown",
   "metadata": {},
   "source": [
    "En el ejemplo buscamos el valor de sst más cecrano a lat=52.25 grados y lon=251.8998 grados y el resultado fue el valor en lat=52.0 y lon=252.0 "
   ]
  },
  {
   "cell_type": "markdown",
   "metadata": {},
   "source": [
    "**Todos los métodos que hemos visto también funcionan en `Dataset`s:**"
   ]
  },
  {
   "cell_type": "code",
   "execution_count": 34,
   "metadata": {},
   "outputs": [
    {
     "data": {
      "text/html": [
       "<pre>&lt;xarray.Dataset&gt; Size: 2kB\n",
       "Dimensions:  (time: 128)\n",
       "Coordinates:\n",
       "    lat      float32 4B 52.0\n",
       "    lon      float32 4B 252.0\n",
       "  * time     (time) datetime64[ns] 1kB 2010-01-01 2010-02-01 ... 2020-08-01\n",
       "Data variables:\n",
       "    sst      (time) float32 512B nan nan nan nan nan nan ... nan nan nan nan nan\n",
       "Attributes: (12/37)\n",
       "    climatology:               Climatology is based on 1971-2000 SST, Xue, Y....\n",
       "    description:               In situ data: ICOADS2.5 before 2007 and NCEP i...\n",
       "    keywords_vocabulary:       NASA Global Change Master Directory (GCMD) Sci...\n",
       "    keywords:                  Earth Science &gt; Oceans &gt; Ocean Temperature &gt; S...\n",
       "    instrument:                Conventional thermometers\n",
       "    source_comment:            SSTs were observed by conventional thermometer...\n",
       "    ...                        ...\n",
       "    creator_url_original:      https://www.ncei.noaa.gov\n",
       "    license:                   No constraints on data access or use\n",
       "    comment:                   SSTs were observed by conventional thermometer...\n",
       "    summary:                   ERSST.v5 is developed based on v4 after revisi...\n",
       "    dataset_title:             NOAA Extended Reconstructed SST V5\n",
       "    data_modified:             2020-09-07</pre>"
      ],
      "text/plain": [
       "<xarray.Dataset> Size: 2kB\n",
       "Dimensions:  (time: 128)\n",
       "Coordinates:\n",
       "    lat      float32 4B 52.0\n",
       "    lon      float32 4B 252.0\n",
       "  * time     (time) datetime64[ns] 1kB 2010-01-01 2010-02-01 ... 2020-08-01\n",
       "Data variables:\n",
       "    sst      (time) float32 512B nan nan nan nan nan nan ... nan nan nan nan nan\n",
       "Attributes: (12/37)\n",
       "    climatology:               Climatology is based on 1971-2000 SST, Xue, Y....\n",
       "    description:               In situ data: ICOADS2.5 before 2007 and NCEP i...\n",
       "    keywords_vocabulary:       NASA Global Change Master Directory (GCMD) Sci...\n",
       "    keywords:                  Earth Science > Oceans > Ocean Temperature > S...\n",
       "    instrument:                Conventional thermometers\n",
       "    source_comment:            SSTs were observed by conventional thermometer...\n",
       "    ...                        ...\n",
       "    creator_url_original:      https://www.ncei.noaa.gov\n",
       "    license:                   No constraints on data access or use\n",
       "    comment:                   SSTs were observed by conventional thermometer...\n",
       "    summary:                   ERSST.v5 is developed based on v4 after revisi...\n",
       "    dataset_title:             NOAA Extended Reconstructed SST V5\n",
       "    data_modified:             2020-09-07"
      ]
     },
     "execution_count": 34,
     "metadata": {},
     "output_type": "execute_result"
    }
   ],
   "source": [
    "ds.sel(lat=52.25, lon=251.8998, method=\"nearest\")"
   ]
  },
  {
   "cell_type": "markdown",
   "metadata": {},
   "source": [
    "### Indices vectorizados\n",
    "\n",
    "Como NumPy y Pandas, xarray nos permite indizar muchos elementos de una sola vez en forma vectorizada:"
   ]
  },
  {
   "cell_type": "code",
   "execution_count": 35,
   "metadata": {},
   "outputs": [
    {
     "data": {
      "text/html": [
       "<pre>&lt;xarray.DataArray (points: 3)&gt; Size: 24B\n",
       "array([60, 80, 90])\n",
       "Dimensions without coordinates: points</pre>"
      ],
      "text/plain": [
       "<xarray.DataArray (points: 3)> Size: 24B\n",
       "array([60, 80, 90])\n",
       "Dimensions without coordinates: points"
      ]
     },
     "execution_count": 35,
     "metadata": {},
     "output_type": "execute_result"
    }
   ],
   "source": [
    "# genera coordenadas para un transecto de puntos\n",
    "lat_points = xr.DataArray([60, 80, 90], dims=\"points\")\n",
    "lon_points = xr.DataArray([250, 250, 250], dims=\"points\")\n",
    "lat_points"
   ]
  },
  {
   "cell_type": "code",
   "execution_count": 36,
   "metadata": {},
   "outputs": [
    {
     "data": {
      "text/html": [
       "<pre>&lt;xarray.DataArray (points: 3)&gt; Size: 24B\n",
       "array([250, 250, 250])\n",
       "Dimensions without coordinates: points</pre>"
      ],
      "text/plain": [
       "<xarray.DataArray (points: 3)> Size: 24B\n",
       "array([250, 250, 250])\n",
       "Dimensions without coordinates: points"
      ]
     },
     "execution_count": 36,
     "metadata": {},
     "output_type": "execute_result"
    }
   ],
   "source": [
    "lon_points"
   ]
  },
  {
   "cell_type": "code",
   "execution_count": 37,
   "metadata": {},
   "outputs": [
    {
     "data": {
      "text/plain": [
       "<matplotlib.collections.QuadMesh at 0x30c10d370>"
      ]
     },
     "execution_count": 37,
     "metadata": {},
     "output_type": "execute_result"
    },
    {
     "data": {
      "image/png": "[encoded data removed]",
      "text/plain": [
       "<Figure size 640x480 with 2 Axes>"
      ]
     },
     "metadata": {},
     "output_type": "display_data"
    }
   ],
   "source": [
    "# selecciona los puntos más cercanos a lo largo del transecto\n",
    "da.sel(lat=lat_points, lon=lon_points, method=\"nearest\").plot()"
   ]
  },
  {
   "cell_type": "markdown",
   "metadata": {},
   "source": [
    "#### Indizar con where()\n",
    "\n",
    "Podemos elegir un subconjunto de datos que cumple alguna condición con .where() (donde la condición es cierta, haz algo)."
   ]
  },
  {
   "cell_type": "code",
   "execution_count": 38,
   "metadata": {},
   "outputs": [
    {
     "data": {
      "text/html": [
       "<pre>&lt;xarray.DataArray &#x27;sst&#x27; (time: 128, lat: 89, lon: 180)&gt; Size: 8MB\n",
       "array([[[ -1.8,  -1.8,  -1.8, ...,  -1.8,  -1.8,  -1.8],\n",
       "        [ -1.8,  -1.8,  -1.8, ...,  -1.8,  -1.8,  -1.8],\n",
       "        [ -1.8,  -1.8,  -1.8, ...,  -1.8,  -1.8,  -1.8],\n",
       "        ...,\n",
       "        [-99. , -99. , -99. , ..., -99. , -99. , -99. ],\n",
       "        [-99. , -99. , -99. , ..., -99. , -99. , -99. ],\n",
       "        [-99. , -99. , -99. , ..., -99. , -99. , -99. ]],\n",
       "\n",
       "       [[ -1.8,  -1.8,  -1.8, ...,  -1.8,  -1.8,  -1.8],\n",
       "        [ -1.8,  -1.8,  -1.8, ...,  -1.8,  -1.8,  -1.8],\n",
       "        [ -1.8,  -1.8,  -1.8, ...,  -1.8,  -1.8,  -1.8],\n",
       "        ...,\n",
       "        [-99. , -99. , -99. , ..., -99. , -99. , -99. ],\n",
       "        [-99. , -99. , -99. , ..., -99. , -99. , -99. ],\n",
       "        [-99. , -99. , -99. , ..., -99. , -99. , -99. ]],\n",
       "\n",
       "       [[ -1.8,  -1.8,  -1.8, ...,  -1.8,  -1.8,  -1.8],\n",
       "        [ -1.8,  -1.8,  -1.8, ...,  -1.8,  -1.8,  -1.8],\n",
       "        [ -1.8,  -1.8,  -1.8, ...,  -1.8,  -1.8,  -1.8],\n",
       "        ...,\n",
       "...\n",
       "        [-99. , -99. , -99. , ..., -99. , -99. , -99. ],\n",
       "        [-99. , -99. , -99. , ..., -99. , -99. , -99. ],\n",
       "        [-99. , -99. , -99. , ..., -99. , -99. , -99. ]],\n",
       "\n",
       "       [[ -1.8,  -1.8,  -1.8, ...,  -1.8,  -1.8,  -1.8],\n",
       "        [ -1.8,  -1.8,  -1.8, ...,  -1.8,  -1.8,  -1.8],\n",
       "        [ -1.8,  -1.8,  -1.8, ...,  -1.8,  -1.8,  -1.8],\n",
       "        ...,\n",
       "        [-99. , -99. , -99. , ..., -99. , -99. , -99. ],\n",
       "        [-99. , -99. , -99. , ..., -99. , -99. , -99. ],\n",
       "        [-99. , -99. , -99. , ..., -99. , -99. , -99. ]],\n",
       "\n",
       "       [[ -1.8,  -1.8,  -1.8, ...,  -1.8,  -1.8,  -1.8],\n",
       "        [ -1.8,  -1.8,  -1.8, ...,  -1.8,  -1.8,  -1.8],\n",
       "        [ -1.8,  -1.8,  -1.8, ...,  -1.8,  -1.8,  -1.8],\n",
       "        ...,\n",
       "        [-99. , -99. , -99. , ..., -99. , -99. , -99. ],\n",
       "        [-99. , -99. , -99. , ..., -99. , -99. , -99. ],\n",
       "        [-99. , -99. , -99. , ..., -99. , -99. , -99. ]]],\n",
       "      shape=(128, 89, 180), dtype=float32)\n",
       "Coordinates:\n",
       "  * lat      (lat) float32 356B 88.0 86.0 84.0 82.0 ... -82.0 -84.0 -86.0 -88.0\n",
       "  * lon      (lon) float32 720B 0.0 2.0 4.0 6.0 8.0 ... 352.0 354.0 356.0 358.0\n",
       "  * time     (time) datetime64[ns] 1kB 2010-01-01 2010-02-01 ... 2020-08-01\n",
       "Attributes:\n",
       "    long_name:     Monthly Means of Sea Surface Temperature\n",
       "    units:         degC\n",
       "    var_desc:      Sea Surface Temperature\n",
       "    level_desc:    Surface\n",
       "    statistic:     Mean\n",
       "    dataset:       NOAA Extended Reconstructed SST V5\n",
       "    parent_stat:   Individual Values\n",
       "    actual_range:  [-1.8     42.32636]\n",
       "    valid_range:   [-1.8 45. ]\n",
       "    mi_atributo:   verde</pre>"
      ],
      "text/plain": [
       "<xarray.DataArray 'sst' (time: 128, lat: 89, lon: 180)> Size: 8MB\n",
       "array([[[ -1.8,  -1.8,  -1.8, ...,  -1.8,  -1.8,  -1.8],\n",
       "        [ -1.8,  -1.8,  -1.8, ...,  -1.8,  -1.8,  -1.8],\n",
       "        [ -1.8,  -1.8,  -1.8, ...,  -1.8,  -1.8,  -1.8],\n",
       "        ...,\n",
       "        [-99. , -99. , -99. , ..., -99. , -99. , -99. ],\n",
       "        [-99. , -99. , -99. , ..., -99. , -99. , -99. ],\n",
       "        [-99. , -99. , -99. , ..., -99. , -99. , -99. ]],\n",
       "\n",
       "       [[ -1.8,  -1.8,  -1.8, ...,  -1.8,  -1.8,  -1.8],\n",
       "        [ -1.8,  -1.8,  -1.8, ...,  -1.8,  -1.8,  -1.8],\n",
       "        [ -1.8,  -1.8,  -1.8, ...,  -1.8,  -1.8,  -1.8],\n",
       "        ...,\n",
       "        [-99. , -99. , -99. , ..., -99. , -99. , -99. ],\n",
       "        [-99. , -99. , -99. , ..., -99. , -99. , -99. ],\n",
       "        [-99. , -99. , -99. , ..., -99. , -99. , -99. ]],\n",
       "\n",
       "       [[ -1.8,  -1.8,  -1.8, ...,  -1.8,  -1.8,  -1.8],\n",
       "        [ -1.8,  -1.8,  -1.8, ...,  -1.8,  -1.8,  -1.8],\n",
       "        [ -1.8,  -1.8,  -1.8, ...,  -1.8,  -1.8,  -1.8],\n",
       "        ...,\n",
       "...\n",
       "        [-99. , -99. , -99. , ..., -99. , -99. , -99. ],\n",
       "        [-99. , -99. , -99. , ..., -99. , -99. , -99. ],\n",
       "        [-99. , -99. , -99. , ..., -99. , -99. , -99. ]],\n",
       "\n",
       "       [[ -1.8,  -1.8,  -1.8, ...,  -1.8,  -1.8,  -1.8],\n",
       "        [ -1.8,  -1.8,  -1.8, ...,  -1.8,  -1.8,  -1.8],\n",
       "        [ -1.8,  -1.8,  -1.8, ...,  -1.8,  -1.8,  -1.8],\n",
       "        ...,\n",
       "        [-99. , -99. , -99. , ..., -99. , -99. , -99. ],\n",
       "        [-99. , -99. , -99. , ..., -99. , -99. , -99. ],\n",
       "        [-99. , -99. , -99. , ..., -99. , -99. , -99. ]],\n",
       "\n",
       "       [[ -1.8,  -1.8,  -1.8, ...,  -1.8,  -1.8,  -1.8],\n",
       "        [ -1.8,  -1.8,  -1.8, ...,  -1.8,  -1.8,  -1.8],\n",
       "        [ -1.8,  -1.8,  -1.8, ...,  -1.8,  -1.8,  -1.8],\n",
       "        ...,\n",
       "        [-99. , -99. , -99. , ..., -99. , -99. , -99. ],\n",
       "        [-99. , -99. , -99. , ..., -99. , -99. , -99. ],\n",
       "        [-99. , -99. , -99. , ..., -99. , -99. , -99. ]]],\n",
       "      shape=(128, 89, 180), dtype=float32)\n",
       "Coordinates:\n",
       "  * lat      (lat) float32 356B 88.0 86.0 84.0 82.0 ... -82.0 -84.0 -86.0 -88.0\n",
       "  * lon      (lon) float32 720B 0.0 2.0 4.0 6.0 8.0 ... 352.0 354.0 356.0 358.0\n",
       "  * time     (time) datetime64[ns] 1kB 2010-01-01 2010-02-01 ... 2020-08-01\n",
       "Attributes:\n",
       "    long_name:     Monthly Means of Sea Surface Temperature\n",
       "    units:         degC\n",
       "    var_desc:      Sea Surface Temperature\n",
       "    level_desc:    Surface\n",
       "    statistic:     Mean\n",
       "    dataset:       NOAA Extended Reconstructed SST V5\n",
       "    parent_stat:   Individual Values\n",
       "    actual_range:  [-1.8     42.32636]\n",
       "    valid_range:   [-1.8 45. ]\n",
       "    mi_atributo:   verde"
      ]
     },
     "execution_count": 38,
     "metadata": {},
     "output_type": "execute_result"
    }
   ],
   "source": [
    "# Reemplacemos los valores faltantes o NaN's (not a number) \n",
    "# con algún valor real arbitrario (-99)\n",
    "ds.sst.where(ds.sst.notnull(), -99)"
   ]
  },
  {
   "cell_type": "markdown",
   "metadata": {},
   "source": [
    "Ya no hay NaN's "
   ]
  },
  {
   "cell_type": "markdown",
   "metadata": {},
   "source": [
    "## Computar con los datos\n",
    "\n",
    "Finalmente veremos cómo hacer aritmética básica con los datos y cómo agregar o reducir a lo largo de una dimensión.\n",
    "\n",
    "Las operaciones aritméticas con un solo arreglo de datos (DataArray) se vectorizan automáticamente, como en NumPy:"
   ]
  },
  {
   "cell_type": "code",
   "execution_count": 39,
   "metadata": {},
   "outputs": [
    {
     "data": {
      "text/html": [
       "<pre>&lt;xarray.DataArray &#x27;sst&#x27; (time: 128, lat: 89, lon: 180)&gt; Size: 8MB\n",
       "array([[[-1.8, -1.8, ..., -1.8, -1.8],\n",
       "        [-1.8, -1.8, ..., -1.8, -1.8],\n",
       "        ...,\n",
       "        [ nan,  nan, ...,  nan,  nan],\n",
       "        [ nan,  nan, ...,  nan,  nan]],\n",
       "\n",
       "       [[-1.8, -1.8, ..., -1.8, -1.8],\n",
       "        [-1.8, -1.8, ..., -1.8, -1.8],\n",
       "        ...,\n",
       "        [ nan,  nan, ...,  nan,  nan],\n",
       "        [ nan,  nan, ...,  nan,  nan]],\n",
       "\n",
       "       ...,\n",
       "\n",
       "       [[-1.8, -1.8, ..., -1.8, -1.8],\n",
       "        [-1.8, -1.8, ..., -1.8, -1.8],\n",
       "        ...,\n",
       "        [ nan,  nan, ...,  nan,  nan],\n",
       "        [ nan,  nan, ...,  nan,  nan]],\n",
       "\n",
       "       [[-1.8, -1.8, ..., -1.8, -1.8],\n",
       "        [-1.8, -1.8, ..., -1.8, -1.8],\n",
       "        ...,\n",
       "        [ nan,  nan, ...,  nan,  nan],\n",
       "        [ nan,  nan, ...,  nan,  nan]]], shape=(128, 89, 180), dtype=float32)\n",
       "Coordinates:\n",
       "  * lat      (lat) float32 356B 88.0 86.0 84.0 82.0 ... -82.0 -84.0 -86.0 -88.0\n",
       "  * lon      (lon) float32 720B 0.0 2.0 4.0 6.0 8.0 ... 352.0 354.0 356.0 358.0\n",
       "  * time     (time) datetime64[ns] 1kB 2010-01-01 2010-02-01 ... 2020-08-01\n",
       "Attributes:\n",
       "    long_name:     Monthly Means of Sea Surface Temperature\n",
       "    units:         degC\n",
       "    var_desc:      Sea Surface Temperature\n",
       "    level_desc:    Surface\n",
       "    statistic:     Mean\n",
       "    dataset:       NOAA Extended Reconstructed SST V5\n",
       "    parent_stat:   Individual Values\n",
       "    actual_range:  [-1.8     42.32636]\n",
       "    valid_range:   [-1.8 45. ]\n",
       "    mi_atributo:   verde</pre>"
      ],
      "text/plain": [
       "<xarray.DataArray 'sst' (time: 128, lat: 89, lon: 180)> Size: 8MB\n",
       "array([[[-1.8, -1.8, ..., -1.8, -1.8],\n",
       "        [-1.8, -1.8, ..., -1.8, -1.8],\n",
       "        ...,\n",
       "        [ nan,  nan, ...,  nan,  nan],\n",
       "        [ nan,  nan, ...,  nan,  nan]],\n",
       "\n",
       "       [[-1.8, -1.8, ..., -1.8, -1.8],\n",
       "        [-1.8, -1.8, ..., -1.8, -1.8],\n",
       "        ...,\n",
       "        [ nan,  nan, ...,  nan,  nan],\n",
       "        [ nan,  nan, ...,  nan,  nan]],\n",
       "\n",
       "       ...,\n",
       "\n",
       "       [[-1.8, -1.8, ..., -1.8, -1.8],\n",
       "        [-1.8, -1.8, ..., -1.8, -1.8],\n",
       "        ...,\n",
       "        [ nan,  nan, ...,  nan,  nan],\n",
       "        [ nan,  nan, ...,  nan,  nan]],\n",
       "\n",
       "       [[-1.8, -1.8, ..., -1.8, -1.8],\n",
       "        [-1.8, -1.8, ..., -1.8, -1.8],\n",
       "        ...,\n",
       "        [ nan,  nan, ...,  nan,  nan],\n",
       "        [ nan,  nan, ...,  nan,  nan]]], shape=(128, 89, 180), dtype=float32)\n",
       "Coordinates:\n",
       "  * lat      (lat) float32 356B 88.0 86.0 84.0 82.0 ... -82.0 -84.0 -86.0 -88.0\n",
       "  * lon      (lon) float32 720B 0.0 2.0 4.0 6.0 8.0 ... 352.0 354.0 356.0 358.0\n",
       "  * time     (time) datetime64[ns] 1kB 2010-01-01 2010-02-01 ... 2020-08-01\n",
       "Attributes:\n",
       "    long_name:     Monthly Means of Sea Surface Temperature\n",
       "    units:         degC\n",
       "    var_desc:      Sea Surface Temperature\n",
       "    level_desc:    Surface\n",
       "    statistic:     Mean\n",
       "    dataset:       NOAA Extended Reconstructed SST V5\n",
       "    parent_stat:   Individual Values\n",
       "    actual_range:  [-1.8     42.32636]\n",
       "    valid_range:   [-1.8 45. ]\n",
       "    mi_atributo:   verde"
      ]
     },
     "execution_count": 39,
     "metadata": {},
     "output_type": "execute_result"
    }
   ],
   "source": [
    "da = ds[\"sst\"]\n",
    "da"
   ]
  },
  {
   "cell_type": "code",
   "execution_count": 40,
   "metadata": {},
   "outputs": [
    {
     "data": {
      "text/html": [
       "<pre>&lt;xarray.DataArray &#x27;sst&#x27; (time: 128, lat: 89, lon: 180)&gt; Size: 8MB\n",
       "array([[[271.35, 271.35, 271.35, ..., 271.35, 271.35, 271.35],\n",
       "        [271.35, 271.35, 271.35, ..., 271.35, 271.35, 271.35],\n",
       "        [271.35, 271.35, 271.35, ..., 271.35, 271.35, 271.35],\n",
       "        ...,\n",
       "        [   nan,    nan,    nan, ...,    nan,    nan,    nan],\n",
       "        [   nan,    nan,    nan, ...,    nan,    nan,    nan],\n",
       "        [   nan,    nan,    nan, ...,    nan,    nan,    nan]],\n",
       "\n",
       "       [[271.35, 271.35, 271.35, ..., 271.35, 271.35, 271.35],\n",
       "        [271.35, 271.35, 271.35, ..., 271.35, 271.35, 271.35],\n",
       "        [271.35, 271.35, 271.35, ..., 271.35, 271.35, 271.35],\n",
       "        ...,\n",
       "        [   nan,    nan,    nan, ...,    nan,    nan,    nan],\n",
       "        [   nan,    nan,    nan, ...,    nan,    nan,    nan],\n",
       "        [   nan,    nan,    nan, ...,    nan,    nan,    nan]],\n",
       "\n",
       "       [[271.35, 271.35, 271.35, ..., 271.35, 271.35, 271.35],\n",
       "        [271.35, 271.35, 271.35, ..., 271.35, 271.35, 271.35],\n",
       "        [271.35, 271.35, 271.35, ..., 271.35, 271.35, 271.35],\n",
       "        ...,\n",
       "...\n",
       "        [   nan,    nan,    nan, ...,    nan,    nan,    nan],\n",
       "        [   nan,    nan,    nan, ...,    nan,    nan,    nan],\n",
       "        [   nan,    nan,    nan, ...,    nan,    nan,    nan]],\n",
       "\n",
       "       [[271.35, 271.35, 271.35, ..., 271.35, 271.35, 271.35],\n",
       "        [271.35, 271.35, 271.35, ..., 271.35, 271.35, 271.35],\n",
       "        [271.35, 271.35, 271.35, ..., 271.35, 271.35, 271.35],\n",
       "        ...,\n",
       "        [   nan,    nan,    nan, ...,    nan,    nan,    nan],\n",
       "        [   nan,    nan,    nan, ...,    nan,    nan,    nan],\n",
       "        [   nan,    nan,    nan, ...,    nan,    nan,    nan]],\n",
       "\n",
       "       [[271.35, 271.35, 271.35, ..., 271.35, 271.35, 271.35],\n",
       "        [271.35, 271.35, 271.35, ..., 271.35, 271.35, 271.35],\n",
       "        [271.35, 271.35, 271.35, ..., 271.35, 271.35, 271.35],\n",
       "        ...,\n",
       "        [   nan,    nan,    nan, ...,    nan,    nan,    nan],\n",
       "        [   nan,    nan,    nan, ...,    nan,    nan,    nan],\n",
       "        [   nan,    nan,    nan, ...,    nan,    nan,    nan]]],\n",
       "      shape=(128, 89, 180), dtype=float32)\n",
       "Coordinates:\n",
       "  * lat      (lat) float32 356B 88.0 86.0 84.0 82.0 ... -82.0 -84.0 -86.0 -88.0\n",
       "  * lon      (lon) float32 720B 0.0 2.0 4.0 6.0 8.0 ... 352.0 354.0 356.0 358.0\n",
       "  * time     (time) datetime64[ns] 1kB 2010-01-01 2010-02-01 ... 2020-08-01</pre>"
      ],
      "text/plain": [
       "<xarray.DataArray 'sst' (time: 128, lat: 89, lon: 180)> Size: 8MB\n",
       "array([[[271.35, 271.35, 271.35, ..., 271.35, 271.35, 271.35],\n",
       "        [271.35, 271.35, 271.35, ..., 271.35, 271.35, 271.35],\n",
       "        [271.35, 271.35, 271.35, ..., 271.35, 271.35, 271.35],\n",
       "        ...,\n",
       "        [   nan,    nan,    nan, ...,    nan,    nan,    nan],\n",
       "        [   nan,    nan,    nan, ...,    nan,    nan,    nan],\n",
       "        [   nan,    nan,    nan, ...,    nan,    nan,    nan]],\n",
       "\n",
       "       [[271.35, 271.35, 271.35, ..., 271.35, 271.35, 271.35],\n",
       "        [271.35, 271.35, 271.35, ..., 271.35, 271.35, 271.35],\n",
       "        [271.35, 271.35, 271.35, ..., 271.35, 271.35, 271.35],\n",
       "        ...,\n",
       "        [   nan,    nan,    nan, ...,    nan,    nan,    nan],\n",
       "        [   nan,    nan,    nan, ...,    nan,    nan,    nan],\n",
       "        [   nan,    nan,    nan, ...,    nan,    nan,    nan]],\n",
       "\n",
       "       [[271.35, 271.35, 271.35, ..., 271.35, 271.35, 271.35],\n",
       "        [271.35, 271.35, 271.35, ..., 271.35, 271.35, 271.35],\n",
       "        [271.35, 271.35, 271.35, ..., 271.35, 271.35, 271.35],\n",
       "        ...,\n",
       "...\n",
       "        [   nan,    nan,    nan, ...,    nan,    nan,    nan],\n",
       "        [   nan,    nan,    nan, ...,    nan,    nan,    nan],\n",
       "        [   nan,    nan,    nan, ...,    nan,    nan,    nan]],\n",
       "\n",
       "       [[271.35, 271.35, 271.35, ..., 271.35, 271.35, 271.35],\n",
       "        [271.35, 271.35, 271.35, ..., 271.35, 271.35, 271.35],\n",
       "        [271.35, 271.35, 271.35, ..., 271.35, 271.35, 271.35],\n",
       "        ...,\n",
       "        [   nan,    nan,    nan, ...,    nan,    nan,    nan],\n",
       "        [   nan,    nan,    nan, ...,    nan,    nan,    nan],\n",
       "        [   nan,    nan,    nan, ...,    nan,    nan,    nan]],\n",
       "\n",
       "       [[271.35, 271.35, 271.35, ..., 271.35, 271.35, 271.35],\n",
       "        [271.35, 271.35, 271.35, ..., 271.35, 271.35, 271.35],\n",
       "        [271.35, 271.35, 271.35, ..., 271.35, 271.35, 271.35],\n",
       "        ...,\n",
       "        [   nan,    nan,    nan, ...,    nan,    nan,    nan],\n",
       "        [   nan,    nan,    nan, ...,    nan,    nan,    nan],\n",
       "        [   nan,    nan,    nan, ...,    nan,    nan,    nan]]],\n",
       "      shape=(128, 89, 180), dtype=float32)\n",
       "Coordinates:\n",
       "  * lat      (lat) float32 356B 88.0 86.0 84.0 82.0 ... -82.0 -84.0 -86.0 -88.0\n",
       "  * lon      (lon) float32 720B 0.0 2.0 4.0 6.0 8.0 ... 352.0 354.0 356.0 358.0\n",
       "  * time     (time) datetime64[ns] 1kB 2010-01-01 2010-02-01 ... 2020-08-01"
      ]
     },
     "execution_count": 40,
     "metadata": {},
     "output_type": "execute_result"
    }
   ],
   "source": [
    "da + 273.15 # también es un vector"
   ]
  },
  {
   "cell_type": "markdown",
   "metadata": {},
   "source": [
    "#### Métodos de agregación y reducción\n",
    "\n",
    "Xarray soporta muchos de los métodos de agregación de NumPy (Ej: all, any, argmax, argmin, max, mean, median, min, prod, sum, std, var). A diferencia de NumPy, podemos usar los nombres de las dimensiones en vez de el escalar del eje:"
   ]
  },
  {
   "cell_type": "code",
   "execution_count": 41,
   "metadata": {},
   "outputs": [
    {
     "data": {
      "text/html": [
       "<pre>&lt;xarray.DataArray &#x27;sst&#x27; (lat: 89, lon: 180)&gt; Size: 64kB\n",
       "array([[-1.7965822, -1.7966435, -1.7966874, ..., -1.7976037, -1.796984 ,\n",
       "        -1.7965525],\n",
       "       [-1.7968166, -1.7963768, -1.796082 , ..., -1.7992076, -1.7980535,\n",
       "        -1.7973973],\n",
       "       [-1.7999136, -1.798993 , -1.7984267, ..., -1.7992468, -1.7995085,\n",
       "        -1.7997851],\n",
       "       ...,\n",
       "       [       nan,        nan,        nan, ...,        nan,        nan,\n",
       "               nan],\n",
       "       [       nan,        nan,        nan, ...,        nan,        nan,\n",
       "               nan],\n",
       "       [       nan,        nan,        nan, ...,        nan,        nan,\n",
       "               nan]], shape=(89, 180), dtype=float32)\n",
       "Coordinates:\n",
       "  * lat      (lat) float32 356B 88.0 86.0 84.0 82.0 ... -82.0 -84.0 -86.0 -88.0\n",
       "  * lon      (lon) float32 720B 0.0 2.0 4.0 6.0 8.0 ... 352.0 354.0 356.0 358.0</pre>"
      ],
      "text/plain": [
       "<xarray.DataArray 'sst' (lat: 89, lon: 180)> Size: 64kB\n",
       "array([[-1.7965822, -1.7966435, -1.7966874, ..., -1.7976037, -1.796984 ,\n",
       "        -1.7965525],\n",
       "       [-1.7968166, -1.7963768, -1.796082 , ..., -1.7992076, -1.7980535,\n",
       "        -1.7973973],\n",
       "       [-1.7999136, -1.798993 , -1.7984267, ..., -1.7992468, -1.7995085,\n",
       "        -1.7997851],\n",
       "       ...,\n",
       "       [       nan,        nan,        nan, ...,        nan,        nan,\n",
       "               nan],\n",
       "       [       nan,        nan,        nan, ...,        nan,        nan,\n",
       "               nan],\n",
       "       [       nan,        nan,        nan, ...,        nan,        nan,\n",
       "               nan]], shape=(89, 180), dtype=float32)\n",
       "Coordinates:\n",
       "  * lat      (lat) float32 356B 88.0 86.0 84.0 82.0 ... -82.0 -84.0 -86.0 -88.0\n",
       "  * lon      (lon) float32 720B 0.0 2.0 4.0 6.0 8.0 ... 352.0 354.0 356.0 358.0"
      ]
     },
     "execution_count": 41,
     "metadata": {},
     "output_type": "execute_result"
    }
   ],
   "source": [
    "da_mean = da.mean(dim=\"time\")\n",
    "da_mean"
   ]
  },
  {
   "cell_type": "code",
   "execution_count": 42,
   "metadata": {},
   "outputs": [
    {
     "data": {
      "text/plain": [
       "[<matplotlib.lines.Line2D at 0x30d2a23c0>]"
      ]
     },
     "execution_count": 42,
     "metadata": {},
     "output_type": "execute_result"
    },
    {
     "data": {
      "image/png": "[encoded data removed]",
      "text/plain": [
       "<Figure size 640x480 with 1 Axes>"
      ]
     },
     "metadata": {},
     "output_type": "display_data"
    }
   ],
   "source": [
    "da.std(dim=[\"lat\", \"lon\"]).plot()"
   ]
  },
  {
   "cell_type": "markdown",
   "metadata": {},
   "source": [
    "#### Broadcasting:\n",
    "\n",
    "Broadcasting permite que un operador o función actúe en uno o más arreglos aún cuando no tienen la misma forma (shape) bajo ciertas condiciones. El siguiente esquema de Stephan Hoyer -- [xarray ECMWF Python workshop](https://docs.google.com/presentation/d/16CMY3g_OYr6fQplUZIDqVtG-SKZqsG8Ckwoj2oOqepU/edit#slide=id.g2b68f9254d_1_154) --  ilustra el resultado de operar en arreglos con distintas coordenadas:\n",
    "\n",
    "![broadcasting](imagenes/broadcasting.png)"
   ]
  },
  {
   "cell_type": "code",
   "execution_count": 43,
   "metadata": {},
   "outputs": [
    {
     "data": {
      "text/plain": [
       "((128, 89, 180), ('time', 'lat', 'lon'))"
      ]
     },
     "execution_count": 43,
     "metadata": {},
     "output_type": "execute_result"
    }
   ],
   "source": [
    "#Veamos los tamaños y coordenadas de del dataArray da\n",
    "da.shape, da.dims"
   ]
  },
  {
   "cell_type": "code",
   "execution_count": 44,
   "metadata": {},
   "outputs": [
    {
     "data": {
      "text/plain": [
       "((89, 180), ('lat', 'lon'))"
      ]
     },
     "execution_count": 44,
     "metadata": {},
     "output_type": "execute_result"
    }
   ],
   "source": [
    "# Veamos el tamaÑo y coordenadas después de tomar el promedio (dataArray da_mean)\n",
    "da_mean.shape, da_mean.dims"
   ]
  },
  {
   "cell_type": "code",
   "execution_count": 46,
   "metadata": {},
   "outputs": [
    {
     "data": {
      "text/html": [
       "<pre>&lt;xarray.DataArray &#x27;sst&#x27; (time: 128, lat: 89, lon: 180)&gt; Size: 8MB\n",
       "array([[[-3.4177303e-03, -3.3564568e-03, -3.3125877e-03, ...,\n",
       "         -2.3962259e-03, -3.0159950e-03, -3.4474134e-03],\n",
       "        [-3.1833649e-03, -3.6231279e-03, -3.9179325e-03, ...,\n",
       "         -7.9238415e-04, -1.9464493e-03, -2.6026964e-03],\n",
       "        [-8.6307526e-05, -1.0069609e-03, -1.5732050e-03, ...,\n",
       "         -7.5316429e-04, -4.9149990e-04, -2.1481514e-04],\n",
       "        ...,\n",
       "        [           nan,            nan,            nan, ...,\n",
       "                    nan,            nan,            nan],\n",
       "        [           nan,            nan,            nan, ...,\n",
       "                    nan,            nan,            nan],\n",
       "        [           nan,            nan,            nan, ...,\n",
       "                    nan,            nan,            nan]],\n",
       "\n",
       "       [[-3.4177303e-03, -3.3564568e-03, -3.3125877e-03, ...,\n",
       "         -2.3962259e-03, -3.0159950e-03, -3.4474134e-03],\n",
       "        [-3.1833649e-03, -3.6231279e-03, -3.9179325e-03, ...,\n",
       "         -7.9238415e-04, -1.9464493e-03, -2.6026964e-03],\n",
       "        [-8.6307526e-05, -1.0069609e-03, -1.5732050e-03, ...,\n",
       "         -7.5316429e-04, -4.9149990e-04, -2.1481514e-04],\n",
       "...\n",
       "                    nan,            nan,            nan],\n",
       "        [           nan,            nan,            nan, ...,\n",
       "                    nan,            nan,            nan],\n",
       "        [           nan,            nan,            nan, ...,\n",
       "                    nan,            nan,            nan]],\n",
       "\n",
       "       [[-3.4177303e-03, -3.3564568e-03, -3.3125877e-03, ...,\n",
       "         -2.3962259e-03, -3.0159950e-03, -3.4474134e-03],\n",
       "        [-3.1833649e-03, -3.6231279e-03, -3.9179325e-03, ...,\n",
       "         -7.9238415e-04, -1.9464493e-03, -2.6026964e-03],\n",
       "        [-8.6307526e-05, -1.0069609e-03, -1.5732050e-03, ...,\n",
       "         -7.5316429e-04, -4.9149990e-04, -2.1481514e-04],\n",
       "        ...,\n",
       "        [           nan,            nan,            nan, ...,\n",
       "                    nan,            nan,            nan],\n",
       "        [           nan,            nan,            nan, ...,\n",
       "                    nan,            nan,            nan],\n",
       "        [           nan,            nan,            nan, ...,\n",
       "                    nan,            nan,            nan]]],\n",
       "      shape=(128, 89, 180), dtype=float32)\n",
       "Coordinates:\n",
       "  * lat      (lat) float32 356B 88.0 86.0 84.0 82.0 ... -82.0 -84.0 -86.0 -88.0\n",
       "  * lon      (lon) float32 720B 0.0 2.0 4.0 6.0 8.0 ... 352.0 354.0 356.0 358.0\n",
       "  * time     (time) datetime64[ns] 1kB 2010-01-01 2010-02-01 ... 2020-08-01</pre>"
      ],
      "text/plain": [
       "<xarray.DataArray 'sst' (time: 128, lat: 89, lon: 180)> Size: 8MB\n",
       "array([[[-3.4177303e-03, -3.3564568e-03, -3.3125877e-03, ...,\n",
       "         -2.3962259e-03, -3.0159950e-03, -3.4474134e-03],\n",
       "        [-3.1833649e-03, -3.6231279e-03, -3.9179325e-03, ...,\n",
       "         -7.9238415e-04, -1.9464493e-03, -2.6026964e-03],\n",
       "        [-8.6307526e-05, -1.0069609e-03, -1.5732050e-03, ...,\n",
       "         -7.5316429e-04, -4.9149990e-04, -2.1481514e-04],\n",
       "        ...,\n",
       "        [           nan,            nan,            nan, ...,\n",
       "                    nan,            nan,            nan],\n",
       "        [           nan,            nan,            nan, ...,\n",
       "                    nan,            nan,            nan],\n",
       "        [           nan,            nan,            nan, ...,\n",
       "                    nan,            nan,            nan]],\n",
       "\n",
       "       [[-3.4177303e-03, -3.3564568e-03, -3.3125877e-03, ...,\n",
       "         -2.3962259e-03, -3.0159950e-03, -3.4474134e-03],\n",
       "        [-3.1833649e-03, -3.6231279e-03, -3.9179325e-03, ...,\n",
       "         -7.9238415e-04, -1.9464493e-03, -2.6026964e-03],\n",
       "        [-8.6307526e-05, -1.0069609e-03, -1.5732050e-03, ...,\n",
       "         -7.5316429e-04, -4.9149990e-04, -2.1481514e-04],\n",
       "...\n",
       "                    nan,            nan,            nan],\n",
       "        [           nan,            nan,            nan, ...,\n",
       "                    nan,            nan,            nan],\n",
       "        [           nan,            nan,            nan, ...,\n",
       "                    nan,            nan,            nan]],\n",
       "\n",
       "       [[-3.4177303e-03, -3.3564568e-03, -3.3125877e-03, ...,\n",
       "         -2.3962259e-03, -3.0159950e-03, -3.4474134e-03],\n",
       "        [-3.1833649e-03, -3.6231279e-03, -3.9179325e-03, ...,\n",
       "         -7.9238415e-04, -1.9464493e-03, -2.6026964e-03],\n",
       "        [-8.6307526e-05, -1.0069609e-03, -1.5732050e-03, ...,\n",
       "         -7.5316429e-04, -4.9149990e-04, -2.1481514e-04],\n",
       "        ...,\n",
       "        [           nan,            nan,            nan, ...,\n",
       "                    nan,            nan,            nan],\n",
       "        [           nan,            nan,            nan, ...,\n",
       "                    nan,            nan,            nan],\n",
       "        [           nan,            nan,            nan, ...,\n",
       "                    nan,            nan,            nan]]],\n",
       "      shape=(128, 89, 180), dtype=float32)\n",
       "Coordinates:\n",
       "  * lat      (lat) float32 356B 88.0 86.0 84.0 82.0 ... -82.0 -84.0 -86.0 -88.0\n",
       "  * lon      (lon) float32 720B 0.0 2.0 4.0 6.0 8.0 ... 352.0 354.0 356.0 358.0\n",
       "  * time     (time) datetime64[ns] 1kB 2010-01-01 2010-02-01 ... 2020-08-01"
      ]
     },
     "execution_count": 46,
     "metadata": {},
     "output_type": "execute_result"
    }
   ],
   "source": [
    "# Restemos el promedio (2D) al arreglo original (3D)\n",
    "x = da - da_mean\n",
    "x"
   ]
  },
  {
   "cell_type": "markdown",
   "metadata": {},
   "source": [
    "Nos quedó algo de 3 dimensiones"
   ]
  },
  {
   "cell_type": "markdown",
   "metadata": {},
   "source": [
    "### Operaciones de alto nivel: groupby, resample, rolling, coarsen, weighted\n",
    "\n",
    "Xarray tiene otras funciones muy útiles de alto nivel que te permiten hacer operciones comunes:\n",
    "   * `groupby` : Agrupa los datos en casillas o \"bins\" y reduce el tamaño\n",
    "   * `resample` : Caso especial de `groupby`para el eje temporal. Permite cambiar la frecuencia de muestreo de los datos (upsample o downsample).\n",
    "   * `rolling` : Opera en ventanas móviles. Ej. media móvil\n",
    "   * `coarsen` : Disminuye la frecuencia de muestreo (Downsample)\n",
    "   * `weighted` : Pondera los datos antes de aplicar alguna reducción."
   ]
  },
  {
   "cell_type": "markdown",
   "metadata": {},
   "source": [
    "#### groupby"
   ]
  },
  {
   "cell_type": "code",
   "execution_count": 47,
   "metadata": {},
   "outputs": [
    {
     "data": {
      "text/html": [
       "<pre>&lt;xarray.Dataset&gt; Size: 8MB\n",
       "Dimensions:  (time: 128, lat: 89, lon: 180)\n",
       "Coordinates:\n",
       "  * lat      (lat) float32 356B 88.0 86.0 84.0 82.0 ... -82.0 -84.0 -86.0 -88.0\n",
       "  * lon      (lon) float32 720B 0.0 2.0 4.0 6.0 8.0 ... 352.0 354.0 356.0 358.0\n",
       "  * time     (time) datetime64[ns] 1kB 2010-01-01 2010-02-01 ... 2020-08-01\n",
       "Data variables:\n",
       "    sst      (time, lat, lon) float32 8MB -1.8 -1.8 -1.8 -1.8 ... nan nan nan\n",
       "Attributes: (12/37)\n",
       "    climatology:               Climatology is based on 1971-2000 SST, Xue, Y....\n",
       "    description:               In situ data: ICOADS2.5 before 2007 and NCEP i...\n",
       "    keywords_vocabulary:       NASA Global Change Master Directory (GCMD) Sci...\n",
       "    keywords:                  Earth Science &gt; Oceans &gt; Ocean Temperature &gt; S...\n",
       "    instrument:                Conventional thermometers\n",
       "    source_comment:            SSTs were observed by conventional thermometer...\n",
       "    ...                        ...\n",
       "    creator_url_original:      https://www.ncei.noaa.gov\n",
       "    license:                   No constraints on data access or use\n",
       "    comment:                   SSTs were observed by conventional thermometer...\n",
       "    summary:                   ERSST.v5 is developed based on v4 after revisi...\n",
       "    dataset_title:             NOAA Extended Reconstructed SST V5\n",
       "    data_modified:             2020-09-07</pre>"
      ],
      "text/plain": [
       "<xarray.Dataset> Size: 8MB\n",
       "Dimensions:  (time: 128, lat: 89, lon: 180)\n",
       "Coordinates:\n",
       "  * lat      (lat) float32 356B 88.0 86.0 84.0 82.0 ... -82.0 -84.0 -86.0 -88.0\n",
       "  * lon      (lon) float32 720B 0.0 2.0 4.0 6.0 8.0 ... 352.0 354.0 356.0 358.0\n",
       "  * time     (time) datetime64[ns] 1kB 2010-01-01 2010-02-01 ... 2020-08-01\n",
       "Data variables:\n",
       "    sst      (time, lat, lon) float32 8MB -1.8 -1.8 -1.8 -1.8 ... nan nan nan\n",
       "Attributes: (12/37)\n",
       "    climatology:               Climatology is based on 1971-2000 SST, Xue, Y....\n",
       "    description:               In situ data: ICOADS2.5 before 2007 and NCEP i...\n",
       "    keywords_vocabulary:       NASA Global Change Master Directory (GCMD) Sci...\n",
       "    keywords:                  Earth Science > Oceans > Ocean Temperature > S...\n",
       "    instrument:                Conventional thermometers\n",
       "    source_comment:            SSTs were observed by conventional thermometer...\n",
       "    ...                        ...\n",
       "    creator_url_original:      https://www.ncei.noaa.gov\n",
       "    license:                   No constraints on data access or use\n",
       "    comment:                   SSTs were observed by conventional thermometer...\n",
       "    summary:                   ERSST.v5 is developed based on v4 after revisi...\n",
       "    dataset_title:             NOAA Extended Reconstructed SST V5\n",
       "    data_modified:             2020-09-07"
      ]
     },
     "execution_count": 47,
     "metadata": {},
     "output_type": "execute_result"
    }
   ],
   "source": [
    "ds"
   ]
  },
  {
   "cell_type": "code",
   "execution_count": 48,
   "metadata": {},
   "outputs": [
    {
     "data": {
      "text/plain": [
       "<DatasetGroupBy, grouped over 1 grouper(s), 4 groups in total:\n",
       "    'season': UniqueGrouper('season'), 4/4 groups with labels 'DJF', 'JJA', 'MAM', 'SON'>"
      ]
     },
     "execution_count": 48,
     "metadata": {},
     "output_type": "execute_result"
    }
   ],
   "source": [
    "# Agrupa por estación del año\n",
    "ds.groupby(\"time.season\")"
   ]
  },
  {
   "cell_type": "code",
   "execution_count": 49,
   "metadata": {},
   "outputs": [
    {
     "data": {
      "text/plain": [
       "<DatasetGroupBy, grouped over 1 grouper(s), 7 groups in total:\n",
       "    'dayofweek': UniqueGrouper('dayofweek'), 7/7 groups with labels 0, 1, 2, 3, 4, 5, 6>"
      ]
     },
     "execution_count": 49,
     "metadata": {},
     "output_type": "execute_result"
    }
   ],
   "source": [
    "# agrupa por día de la semana\n",
    "ds.groupby(\"time.dayofweek\")"
   ]
  },
  {
   "cell_type": "code",
   "execution_count": 50,
   "metadata": {},
   "outputs": [
    {
     "data": {
      "text/html": [
       "<pre>&lt;xarray.Dataset&gt; Size: 257kB\n",
       "Dimensions:  (season: 4, lat: 89, lon: 180)\n",
       "Coordinates:\n",
       "  * lat      (lat) float32 356B 88.0 86.0 84.0 82.0 ... -82.0 -84.0 -86.0 -88.0\n",
       "  * lon      (lon) float32 720B 0.0 2.0 4.0 6.0 8.0 ... 352.0 354.0 356.0 358.0\n",
       "  * season   (season) object 32B &#x27;DJF&#x27; &#x27;JJA&#x27; &#x27;MAM&#x27; &#x27;SON&#x27;\n",
       "Data variables:\n",
       "    sst      (season, lat, lon) float32 256kB -1.799 -1.799 -1.8 ... nan nan nan\n",
       "Attributes: (12/37)\n",
       "    climatology:               Climatology is based on 1971-2000 SST, Xue, Y....\n",
       "    description:               In situ data: ICOADS2.5 before 2007 and NCEP i...\n",
       "    keywords_vocabulary:       NASA Global Change Master Directory (GCMD) Sci...\n",
       "    keywords:                  Earth Science &gt; Oceans &gt; Ocean Temperature &gt; S...\n",
       "    instrument:                Conventional thermometers\n",
       "    source_comment:            SSTs were observed by conventional thermometer...\n",
       "    ...                        ...\n",
       "    creator_url_original:      https://www.ncei.noaa.gov\n",
       "    license:                   No constraints on data access or use\n",
       "    comment:                   SSTs were observed by conventional thermometer...\n",
       "    summary:                   ERSST.v5 is developed based on v4 after revisi...\n",
       "    dataset_title:             NOAA Extended Reconstructed SST V5\n",
       "    data_modified:             2020-09-07</pre>"
      ],
      "text/plain": [
       "<xarray.Dataset> Size: 257kB\n",
       "Dimensions:  (season: 4, lat: 89, lon: 180)\n",
       "Coordinates:\n",
       "  * lat      (lat) float32 356B 88.0 86.0 84.0 82.0 ... -82.0 -84.0 -86.0 -88.0\n",
       "  * lon      (lon) float32 720B 0.0 2.0 4.0 6.0 8.0 ... 352.0 354.0 356.0 358.0\n",
       "  * season   (season) object 32B 'DJF' 'JJA' 'MAM' 'SON'\n",
       "Data variables:\n",
       "    sst      (season, lat, lon) float32 256kB -1.799 -1.799 -1.8 ... nan nan nan\n",
       "Attributes: (12/37)\n",
       "    climatology:               Climatology is based on 1971-2000 SST, Xue, Y....\n",
       "    description:               In situ data: ICOADS2.5 before 2007 and NCEP i...\n",
       "    keywords_vocabulary:       NASA Global Change Master Directory (GCMD) Sci...\n",
       "    keywords:                  Earth Science > Oceans > Ocean Temperature > S...\n",
       "    instrument:                Conventional thermometers\n",
       "    source_comment:            SSTs were observed by conventional thermometer...\n",
       "    ...                        ...\n",
       "    creator_url_original:      https://www.ncei.noaa.gov\n",
       "    license:                   No constraints on data access or use\n",
       "    comment:                   SSTs were observed by conventional thermometer...\n",
       "    summary:                   ERSST.v5 is developed based on v4 after revisi...\n",
       "    dataset_title:             NOAA Extended Reconstructed SST V5\n",
       "    data_modified:             2020-09-07"
      ]
     },
     "execution_count": 50,
     "metadata": {},
     "output_type": "execute_result"
    }
   ],
   "source": [
    "# calcula el promedio estacional\n",
    "seasonal_mean = ds.groupby(\"time.season\").mean()\n",
    "seasonal_mean"
   ]
  },
  {
   "cell_type": "code",
   "execution_count": 51,
   "metadata": {},
   "outputs": [
    {
     "data": {
      "text/html": [
       "<pre>&lt;xarray.Dataset&gt; Size: 257kB\n",
       "Dimensions:  (lat: 89, lon: 180, season: 4)\n",
       "Coordinates:\n",
       "  * lat      (lat) float32 356B 88.0 86.0 84.0 82.0 ... -82.0 -84.0 -86.0 -88.0\n",
       "  * lon      (lon) float32 720B 0.0 2.0 4.0 6.0 8.0 ... 352.0 354.0 356.0 358.0\n",
       "  * season   (season) &lt;U3 48B &#x27;DJF&#x27; &#x27;MAM&#x27; &#x27;JJA&#x27; &#x27;SON&#x27;\n",
       "Data variables:\n",
       "    sst      (season, lat, lon) float32 256kB -1.799 -1.799 -1.8 ... nan nan nan\n",
       "Attributes: (12/37)\n",
       "    climatology:               Climatology is based on 1971-2000 SST, Xue, Y....\n",
       "    description:               In situ data: ICOADS2.5 before 2007 and NCEP i...\n",
       "    keywords_vocabulary:       NASA Global Change Master Directory (GCMD) Sci...\n",
       "    keywords:                  Earth Science &gt; Oceans &gt; Ocean Temperature &gt; S...\n",
       "    instrument:                Conventional thermometers\n",
       "    source_comment:            SSTs were observed by conventional thermometer...\n",
       "    ...                        ...\n",
       "    creator_url_original:      https://www.ncei.noaa.gov\n",
       "    license:                   No constraints on data access or use\n",
       "    comment:                   SSTs were observed by conventional thermometer...\n",
       "    summary:                   ERSST.v5 is developed based on v4 after revisi...\n",
       "    dataset_title:             NOAA Extended Reconstructed SST V5\n",
       "    data_modified:             2020-09-07</pre>"
      ],
      "text/plain": [
       "<xarray.Dataset> Size: 257kB\n",
       "Dimensions:  (lat: 89, lon: 180, season: 4)\n",
       "Coordinates:\n",
       "  * lat      (lat) float32 356B 88.0 86.0 84.0 82.0 ... -82.0 -84.0 -86.0 -88.0\n",
       "  * lon      (lon) float32 720B 0.0 2.0 4.0 6.0 8.0 ... 352.0 354.0 356.0 358.0\n",
       "  * season   (season) <U3 48B 'DJF' 'MAM' 'JJA' 'SON'\n",
       "Data variables:\n",
       "    sst      (season, lat, lon) float32 256kB -1.799 -1.799 -1.8 ... nan nan nan\n",
       "Attributes: (12/37)\n",
       "    climatology:               Climatology is based on 1971-2000 SST, Xue, Y....\n",
       "    description:               In situ data: ICOADS2.5 before 2007 and NCEP i...\n",
       "    keywords_vocabulary:       NASA Global Change Master Directory (GCMD) Sci...\n",
       "    keywords:                  Earth Science > Oceans > Ocean Temperature > S...\n",
       "    instrument:                Conventional thermometers\n",
       "    source_comment:            SSTs were observed by conventional thermometer...\n",
       "    ...                        ...\n",
       "    creator_url_original:      https://www.ncei.noaa.gov\n",
       "    license:                   No constraints on data access or use\n",
       "    comment:                   SSTs were observed by conventional thermometer...\n",
       "    summary:                   ERSST.v5 is developed based on v4 after revisi...\n",
       "    dataset_title:             NOAA Extended Reconstructed SST V5\n",
       "    data_modified:             2020-09-07"
      ]
     },
     "execution_count": 51,
     "metadata": {},
     "output_type": "execute_result"
    }
   ],
   "source": [
    "# Las estaciones no están en orden pero podemos acomodarlas en orden usando .reindex\n",
    "seasonal_mean = seasonal_mean.reindex(season=[\"DJF\", \"MAM\", \"JJA\", \"SON\"])\n",
    "seasonal_mean"
   ]
  },
  {
   "cell_type": "code",
   "execution_count": 52,
   "metadata": {},
   "outputs": [
    {
     "data": {
      "text/plain": [
       "<xarray.plot.facetgrid.FacetGrid at 0x30d306f00>"
      ]
     },
     "execution_count": 52,
     "metadata": {},
     "output_type": "execute_result"
    },
    {
     "data": {
      "image/png": "[encoded data removed]",
      "text/plain": [
       "<Figure size 1300x300 with 5 Axes>"
      ]
     },
     "metadata": {},
     "output_type": "display_data"
    }
   ],
   "source": [
    "seasonal_mean.sst.plot(col=\"season\", robust=True, cmap=\"inferno\")"
   ]
  },
  {
   "cell_type": "markdown",
   "metadata": {},
   "source": [
    "#### resample"
   ]
  },
  {
   "cell_type": "code",
   "execution_count": 53,
   "metadata": {},
   "outputs": [
    {
     "data": {
      "text/html": [
       "<pre>&lt;xarray.DataArray &#x27;sst&#x27; (time: 64, lat: 89, lon: 180)&gt; Size: 4MB\n",
       "array([[[-1.8, -1.8, -1.8, ..., -1.8, -1.8, -1.8],\n",
       "        [-1.8, -1.8, -1.8, ..., -1.8, -1.8, -1.8],\n",
       "        [-1.8, -1.8, -1.8, ..., -1.8, -1.8, -1.8],\n",
       "        ...,\n",
       "        [ nan,  nan,  nan, ...,  nan,  nan,  nan],\n",
       "        [ nan,  nan,  nan, ...,  nan,  nan,  nan],\n",
       "        [ nan,  nan,  nan, ...,  nan,  nan,  nan]],\n",
       "\n",
       "       [[-1.8, -1.8, -1.8, ..., -1.8, -1.8, -1.8],\n",
       "        [-1.8, -1.8, -1.8, ..., -1.8, -1.8, -1.8],\n",
       "        [-1.8, -1.8, -1.8, ..., -1.8, -1.8, -1.8],\n",
       "        ...,\n",
       "        [ nan,  nan,  nan, ...,  nan,  nan,  nan],\n",
       "        [ nan,  nan,  nan, ...,  nan,  nan,  nan],\n",
       "        [ nan,  nan,  nan, ...,  nan,  nan,  nan]],\n",
       "\n",
       "       [[-1.8, -1.8, -1.8, ..., -1.8, -1.8, -1.8],\n",
       "        [-1.8, -1.8, -1.8, ..., -1.8, -1.8, -1.8],\n",
       "        [-1.8, -1.8, -1.8, ..., -1.8, -1.8, -1.8],\n",
       "        ...,\n",
       "...\n",
       "        [ nan,  nan,  nan, ...,  nan,  nan,  nan],\n",
       "        [ nan,  nan,  nan, ...,  nan,  nan,  nan],\n",
       "        [ nan,  nan,  nan, ...,  nan,  nan,  nan]],\n",
       "\n",
       "       [[-1.8, -1.8, -1.8, ..., -1.8, -1.8, -1.8],\n",
       "        [-1.8, -1.8, -1.8, ..., -1.8, -1.8, -1.8],\n",
       "        [-1.8, -1.8, -1.8, ..., -1.8, -1.8, -1.8],\n",
       "        ...,\n",
       "        [ nan,  nan,  nan, ...,  nan,  nan,  nan],\n",
       "        [ nan,  nan,  nan, ...,  nan,  nan,  nan],\n",
       "        [ nan,  nan,  nan, ...,  nan,  nan,  nan]],\n",
       "\n",
       "       [[-1.8, -1.8, -1.8, ..., -1.8, -1.8, -1.8],\n",
       "        [-1.8, -1.8, -1.8, ..., -1.8, -1.8, -1.8],\n",
       "        [-1.8, -1.8, -1.8, ..., -1.8, -1.8, -1.8],\n",
       "        ...,\n",
       "        [ nan,  nan,  nan, ...,  nan,  nan,  nan],\n",
       "        [ nan,  nan,  nan, ...,  nan,  nan,  nan],\n",
       "        [ nan,  nan,  nan, ...,  nan,  nan,  nan]]],\n",
       "      shape=(64, 89, 180), dtype=float32)\n",
       "Coordinates:\n",
       "  * lat      (lat) float32 356B 88.0 86.0 84.0 82.0 ... -82.0 -84.0 -86.0 -88.0\n",
       "  * lon      (lon) float32 720B 0.0 2.0 4.0 6.0 8.0 ... 352.0 354.0 356.0 358.0\n",
       "  * time     (time) datetime64[ns] 512B 2010-01-01 2010-03-01 ... 2020-07-01\n",
       "Attributes:\n",
       "    long_name:     Monthly Means of Sea Surface Temperature\n",
       "    units:         degC\n",
       "    var_desc:      Sea Surface Temperature\n",
       "    level_desc:    Surface\n",
       "    statistic:     Mean\n",
       "    dataset:       NOAA Extended Reconstructed SST V5\n",
       "    parent_stat:   Individual Values\n",
       "    actual_range:  [-1.8     42.32636]\n",
       "    valid_range:   [-1.8 45. ]\n",
       "    mi_atributo:   verde</pre>"
      ],
      "text/plain": [
       "<xarray.DataArray 'sst' (time: 64, lat: 89, lon: 180)> Size: 4MB\n",
       "array([[[-1.8, -1.8, -1.8, ..., -1.8, -1.8, -1.8],\n",
       "        [-1.8, -1.8, -1.8, ..., -1.8, -1.8, -1.8],\n",
       "        [-1.8, -1.8, -1.8, ..., -1.8, -1.8, -1.8],\n",
       "        ...,\n",
       "        [ nan,  nan,  nan, ...,  nan,  nan,  nan],\n",
       "        [ nan,  nan,  nan, ...,  nan,  nan,  nan],\n",
       "        [ nan,  nan,  nan, ...,  nan,  nan,  nan]],\n",
       "\n",
       "       [[-1.8, -1.8, -1.8, ..., -1.8, -1.8, -1.8],\n",
       "        [-1.8, -1.8, -1.8, ..., -1.8, -1.8, -1.8],\n",
       "        [-1.8, -1.8, -1.8, ..., -1.8, -1.8, -1.8],\n",
       "        ...,\n",
       "        [ nan,  nan,  nan, ...,  nan,  nan,  nan],\n",
       "        [ nan,  nan,  nan, ...,  nan,  nan,  nan],\n",
       "        [ nan,  nan,  nan, ...,  nan,  nan,  nan]],\n",
       "\n",
       "       [[-1.8, -1.8, -1.8, ..., -1.8, -1.8, -1.8],\n",
       "        [-1.8, -1.8, -1.8, ..., -1.8, -1.8, -1.8],\n",
       "        [-1.8, -1.8, -1.8, ..., -1.8, -1.8, -1.8],\n",
       "        ...,\n",
       "...\n",
       "        [ nan,  nan,  nan, ...,  nan,  nan,  nan],\n",
       "        [ nan,  nan,  nan, ...,  nan,  nan,  nan],\n",
       "        [ nan,  nan,  nan, ...,  nan,  nan,  nan]],\n",
       "\n",
       "       [[-1.8, -1.8, -1.8, ..., -1.8, -1.8, -1.8],\n",
       "        [-1.8, -1.8, -1.8, ..., -1.8, -1.8, -1.8],\n",
       "        [-1.8, -1.8, -1.8, ..., -1.8, -1.8, -1.8],\n",
       "        ...,\n",
       "        [ nan,  nan,  nan, ...,  nan,  nan,  nan],\n",
       "        [ nan,  nan,  nan, ...,  nan,  nan,  nan],\n",
       "        [ nan,  nan,  nan, ...,  nan,  nan,  nan]],\n",
       "\n",
       "       [[-1.8, -1.8, -1.8, ..., -1.8, -1.8, -1.8],\n",
       "        [-1.8, -1.8, -1.8, ..., -1.8, -1.8, -1.8],\n",
       "        [-1.8, -1.8, -1.8, ..., -1.8, -1.8, -1.8],\n",
       "        ...,\n",
       "        [ nan,  nan,  nan, ...,  nan,  nan,  nan],\n",
       "        [ nan,  nan,  nan, ...,  nan,  nan,  nan],\n",
       "        [ nan,  nan,  nan, ...,  nan,  nan,  nan]]],\n",
       "      shape=(64, 89, 180), dtype=float32)\n",
       "Coordinates:\n",
       "  * lat      (lat) float32 356B 88.0 86.0 84.0 82.0 ... -82.0 -84.0 -86.0 -88.0\n",
       "  * lon      (lon) float32 720B 0.0 2.0 4.0 6.0 8.0 ... 352.0 354.0 356.0 358.0\n",
       "  * time     (time) datetime64[ns] 512B 2010-01-01 2010-03-01 ... 2020-07-01\n",
       "Attributes:\n",
       "    long_name:     Monthly Means of Sea Surface Temperature\n",
       "    units:         degC\n",
       "    var_desc:      Sea Surface Temperature\n",
       "    level_desc:    Surface\n",
       "    statistic:     Mean\n",
       "    dataset:       NOAA Extended Reconstructed SST V5\n",
       "    parent_stat:   Individual Values\n",
       "    actual_range:  [-1.8     42.32636]\n",
       "    valid_range:   [-1.8 45. ]\n",
       "    mi_atributo:   verde"
      ]
     },
     "execution_count": 53,
     "metadata": {},
     "output_type": "execute_result"
    }
   ],
   "source": [
    "# Cambia la frecuencia de muestreo a cada 4 meses\n",
    "ds.sst.resample(time=\"2MS\").mean()"
   ]
  },
  {
   "cell_type": "markdown",
   "metadata": {},
   "source": [
    "#### rolling window operations"
   ]
  },
  {
   "cell_type": "code",
   "execution_count": 54,
   "metadata": {},
   "outputs": [
    {
     "data": {
      "text/html": [
       "<pre>&lt;xarray.DataArray &#x27;sst&#x27; (time: 128, lat: 89, lon: 180)&gt; Size: 8MB\n",
       "array([[[       nan,        nan,        nan, ...,        nan,\n",
       "                nan,        nan],\n",
       "        [       nan,        nan,        nan, ...,        nan,\n",
       "                nan,        nan],\n",
       "        [       nan,        nan,        nan, ...,        nan,\n",
       "                nan,        nan],\n",
       "        ...,\n",
       "        [       nan,        nan,        nan, ...,        nan,\n",
       "                nan,        nan],\n",
       "        [       nan,        nan,        nan, ...,        nan,\n",
       "                nan,        nan],\n",
       "        [       nan,        nan,        nan, ...,        nan,\n",
       "                nan,        nan]],\n",
       "\n",
       "       [[       nan,        nan,        nan, ...,        nan,\n",
       "                nan,        nan],\n",
       "        [       nan,        nan,        nan, ...,        nan,\n",
       "                nan,        nan],\n",
       "        [       nan,        nan,        nan, ...,        nan,\n",
       "                nan,        nan],\n",
       "...\n",
       "        [       nan,        nan,        nan, ...,        nan,\n",
       "                nan,        nan],\n",
       "        [       nan,        nan,        nan, ...,        nan,\n",
       "                nan,        nan],\n",
       "        [       nan,        nan,        nan, ...,        nan,\n",
       "                nan,        nan]],\n",
       "\n",
       "       [[-1.8000001, -1.8000001, -1.8000001, ..., -1.8000001,\n",
       "         -1.8000001, -1.8000001],\n",
       "        [-1.8000001, -1.8000001, -1.8000001, ..., -1.8000001,\n",
       "         -1.8000001, -1.8000001],\n",
       "        [-1.8000001, -1.8000001, -1.8000001, ..., -1.8000001,\n",
       "         -1.8000001, -1.8000001],\n",
       "        ...,\n",
       "        [       nan,        nan,        nan, ...,        nan,\n",
       "                nan,        nan],\n",
       "        [       nan,        nan,        nan, ...,        nan,\n",
       "                nan,        nan],\n",
       "        [       nan,        nan,        nan, ...,        nan,\n",
       "                nan,        nan]]], shape=(128, 89, 180), dtype=float32)\n",
       "Coordinates:\n",
       "  * lat      (lat) float32 356B 88.0 86.0 84.0 82.0 ... -82.0 -84.0 -86.0 -88.0\n",
       "  * lon      (lon) float32 720B 0.0 2.0 4.0 6.0 8.0 ... 352.0 354.0 356.0 358.0\n",
       "  * time     (time) datetime64[ns] 1kB 2010-01-01 2010-02-01 ... 2020-08-01\n",
       "Attributes:\n",
       "    long_name:     Monthly Means of Sea Surface Temperature\n",
       "    units:         degC\n",
       "    var_desc:      Sea Surface Temperature\n",
       "    level_desc:    Surface\n",
       "    statistic:     Mean\n",
       "    dataset:       NOAA Extended Reconstructed SST V5\n",
       "    parent_stat:   Individual Values\n",
       "    actual_range:  [-1.8     42.32636]\n",
       "    valid_range:   [-1.8 45. ]\n",
       "    mi_atributo:   verde</pre>"
      ],
      "text/plain": [
       "<xarray.DataArray 'sst' (time: 128, lat: 89, lon: 180)> Size: 8MB\n",
       "array([[[       nan,        nan,        nan, ...,        nan,\n",
       "                nan,        nan],\n",
       "        [       nan,        nan,        nan, ...,        nan,\n",
       "                nan,        nan],\n",
       "        [       nan,        nan,        nan, ...,        nan,\n",
       "                nan,        nan],\n",
       "        ...,\n",
       "        [       nan,        nan,        nan, ...,        nan,\n",
       "                nan,        nan],\n",
       "        [       nan,        nan,        nan, ...,        nan,\n",
       "                nan,        nan],\n",
       "        [       nan,        nan,        nan, ...,        nan,\n",
       "                nan,        nan]],\n",
       "\n",
       "       [[       nan,        nan,        nan, ...,        nan,\n",
       "                nan,        nan],\n",
       "        [       nan,        nan,        nan, ...,        nan,\n",
       "                nan,        nan],\n",
       "        [       nan,        nan,        nan, ...,        nan,\n",
       "                nan,        nan],\n",
       "...\n",
       "        [       nan,        nan,        nan, ...,        nan,\n",
       "                nan,        nan],\n",
       "        [       nan,        nan,        nan, ...,        nan,\n",
       "                nan,        nan],\n",
       "        [       nan,        nan,        nan, ...,        nan,\n",
       "                nan,        nan]],\n",
       "\n",
       "       [[-1.8000001, -1.8000001, -1.8000001, ..., -1.8000001,\n",
       "         -1.8000001, -1.8000001],\n",
       "        [-1.8000001, -1.8000001, -1.8000001, ..., -1.8000001,\n",
       "         -1.8000001, -1.8000001],\n",
       "        [-1.8000001, -1.8000001, -1.8000001, ..., -1.8000001,\n",
       "         -1.8000001, -1.8000001],\n",
       "        ...,\n",
       "        [       nan,        nan,        nan, ...,        nan,\n",
       "                nan,        nan],\n",
       "        [       nan,        nan,        nan, ...,        nan,\n",
       "                nan,        nan],\n",
       "        [       nan,        nan,        nan, ...,        nan,\n",
       "                nan,        nan]]], shape=(128, 89, 180), dtype=float32)\n",
       "Coordinates:\n",
       "  * lat      (lat) float32 356B 88.0 86.0 84.0 82.0 ... -82.0 -84.0 -86.0 -88.0\n",
       "  * lon      (lon) float32 720B 0.0 2.0 4.0 6.0 8.0 ... 352.0 354.0 356.0 358.0\n",
       "  * time     (time) datetime64[ns] 1kB 2010-01-01 2010-02-01 ... 2020-08-01\n",
       "Attributes:\n",
       "    long_name:     Monthly Means of Sea Surface Temperature\n",
       "    units:         degC\n",
       "    var_desc:      Sea Surface Temperature\n",
       "    level_desc:    Surface\n",
       "    statistic:     Mean\n",
       "    dataset:       NOAA Extended Reconstructed SST V5\n",
       "    parent_stat:   Individual Values\n",
       "    actual_range:  [-1.8     42.32636]\n",
       "    valid_range:   [-1.8 45. ]\n",
       "    mi_atributo:   verde"
      ]
     },
     "execution_count": 54,
     "metadata": {},
     "output_type": "execute_result"
    }
   ],
   "source": [
    "# Média móvil con ventana tamaño 7\n",
    "ds.sst.rolling(time=7).mean()"
   ]
  },
  {
   "cell_type": "markdown",
   "metadata": {},
   "source": [
    "### Pon en práctica lo que aprendiste\n",
    "\n",
    "1. Grafica una serie de tiempo de la máxima temperatura superficial del mar mensual entre 2010 y 2020.\n",
    "\n",
    "2. Grafica el promedio de la tempertura superficial del mar en enero (promedio de los eneros desde 2010 hasta 2020).\n",
    "\n",
    "3. Calcula y grafica las anomalías mensuales de SST en 2013, considerando el periodo de 2010 a 2020 (calcula el promedio mensual de 2010 a 2020 y restalo a cada promedio mensual, pero solo grafica las anomalías para 2013)."
   ]
  },
  {
   "cell_type": "code",
   "execution_count": 55,
   "metadata": {},
   "outputs": [],
   "source": [
    "# Solución ejercicio 1\n"
   ]
  },
  {
   "cell_type": "code",
   "execution_count": 56,
   "metadata": {},
   "outputs": [],
   "source": [
    "# Solución ejercicio 2\n"
   ]
  },
  {
   "cell_type": "code",
   "execution_count": 57,
   "metadata": {},
   "outputs": [],
   "source": [
    "# Solución ejercicio 3\n"
   ]
  },
  {
   "cell_type": "markdown",
   "metadata": {},
   "source": [
    "### Más recursos\n",
    "\n",
    "Esto solo es una introducción a xarray y netcdf. Si quieren ir más allá les recomiendo estos notebooks y la documentación de xarray:\n",
    "    \n",
    "**Docs:**\n",
    "* Estructuras de datos: http://xarray.pydata.org/en/latest/data-structures.html\n",
    "* Lectura y escritura de archivos: https://xarray.pydata.org/en/stable/io.html\n",
    "* Índices y selección de datos: https://xarray.pydata.org/en/stable/user-guide/indexing.html \n",
    "\n",
    "**Enlaces a notebooks**\n",
    "\n",
    "Tutoriales de xarray:\n",
    "\n",
    "* [Cómputo con xarray (extendida)](https://github.com/xarray-contrib/xarray-tutorial/blob/c133a80c2d911ef841ee6197f88ec0a0d87fbd94/scipy-tutorial/03_computation_with_xarray.ipynb)\n",
    "* [Gráficas y visualización](https://github.com/xarray-contrib/xarray-tutorial/blob/c133a80c2d911ef841ee6197f88ec0a0d87fbd94/scipy-tutorial/04_plotting_and_visualization.ipynb)\n"
   ]
  },
  {
   "cell_type": "code",
   "execution_count": null,
   "metadata": {},
   "outputs": [],
   "source": []
  }
 ],
 "metadata": {
  "kernelspec": {
   "display_name": "Python 3 (ipykernel)",
   "language": "python",
   "name": "python3"
  },
  "language_info": {
   "codemirror_mode": {
    "name": "ipython",
    "version": 3
   },
   "file_extension": ".py",
   "mimetype": "text/x-python",
   "name": "python",
   "nbconvert_exporter": "python",
   "pygments_lexer": "ipython3",
   "version": "3.12.11"
  }
 },
 "nbformat": 4,
 "nbformat_minor": 4
}
